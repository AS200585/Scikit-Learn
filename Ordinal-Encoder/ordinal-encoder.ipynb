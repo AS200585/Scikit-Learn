{
 "cells": [
  {
   "cell_type": "markdown",
   "id": "0a7c64fb",
   "metadata": {},
   "source": [
    "# **Ordinal Encoder**\n",
    "\n",
    "Ordinal Encoder is a type of encoder that converts categorical data into numerical data by assigning a unique integer value to each category. This is useful when you want to perform numerical operations on categorical data.\n",
    "\n",
    "It is a common data preprocessing step in most data science projects. \n",
    "Ordinal encoding is particularly useful when an inherent ordering or ranking is present within the categorical variable.\n"
   ]
  },
  {
   "cell_type": "code",
   "execution_count": 27,
   "id": "40976f04",
   "metadata": {},
   "outputs": [
    {
     "data": {
      "text/plain": [
       "{'sales': [100000,\n",
       "  222000,\n",
       "  1000000,\n",
       "  522000,\n",
       "  111111,\n",
       "  222222,\n",
       "  1111111,\n",
       "  20000,\n",
       "  75000,\n",
       "  90000,\n",
       "  1000000,\n",
       "  10000],\n",
       " 'city': ['Tampa',\n",
       "  'Tampa',\n",
       "  'Orlando',\n",
       "  'Jacksonville',\n",
       "  'Miami',\n",
       "  'Jacksonville',\n",
       "  'Miami',\n",
       "  'Miami',\n",
       "  'Orlando',\n",
       "  'Orlando',\n",
       "  'Orlando',\n",
       "  'Orlando'],\n",
       " 'size': ['Small',\n",
       "  'Medium',\n",
       "  'Large',\n",
       "  'Large',\n",
       "  'Small',\n",
       "  'Medium',\n",
       "  'Large',\n",
       "  'Small',\n",
       "  'Medium',\n",
       "  'Medium',\n",
       "  'Medium',\n",
       "  'Small']}"
      ]
     },
     "metadata": {},
     "output_type": "display_data"
    }
   ],
   "source": [
    "import pandas as pd\n",
    "\n",
    "d = {'sales': [100000,222000,1000000,522000,111111,222222,1111111,20000,75000,90000,1000000,10000], 'city': ['Tampa','Tampa','Orlando','Jacksonville','Miami','Jacksonville','Miami','Miami','Orlando','Orlando','Orlando','Orlando'], 'size': ['Small', 'Medium','Large','Large','Small','Medium','Large','Small','Medium','Medium','Medium','Small',]}\n",
    "display(d)"
   ]
  },
  {
   "cell_type": "code",
   "execution_count": 28,
   "id": "377a8d67",
   "metadata": {},
   "outputs": [
    {
     "data": {
      "application/vnd.microsoft.datawrangler.viewer.v0+json": {
       "columns": [
        {
         "name": "index",
         "rawType": "int64",
         "type": "integer"
        },
        {
         "name": "sales",
         "rawType": "int64",
         "type": "integer"
        },
        {
         "name": "city",
         "rawType": "object",
         "type": "string"
        },
        {
         "name": "size",
         "rawType": "object",
         "type": "string"
        }
       ],
       "ref": "ff749de1-ffcd-49ca-9522-c8cafffb2fc7",
       "rows": [
        [
         "0",
         "100000",
         "Tampa",
         "Small"
        ],
        [
         "1",
         "222000",
         "Tampa",
         "Medium"
        ],
        [
         "2",
         "1000000",
         "Orlando",
         "Large"
        ],
        [
         "3",
         "522000",
         "Jacksonville",
         "Large"
        ],
        [
         "4",
         "111111",
         "Miami",
         "Small"
        ]
       ],
       "shape": {
        "columns": 3,
        "rows": 5
       }
      },
      "text/html": [
       "<div>\n",
       "<style scoped>\n",
       "    .dataframe tbody tr th:only-of-type {\n",
       "        vertical-align: middle;\n",
       "    }\n",
       "\n",
       "    .dataframe tbody tr th {\n",
       "        vertical-align: top;\n",
       "    }\n",
       "\n",
       "    .dataframe thead th {\n",
       "        text-align: right;\n",
       "    }\n",
       "</style>\n",
       "<table border=\"1\" class=\"dataframe\">\n",
       "  <thead>\n",
       "    <tr style=\"text-align: right;\">\n",
       "      <th></th>\n",
       "      <th>sales</th>\n",
       "      <th>city</th>\n",
       "      <th>size</th>\n",
       "    </tr>\n",
       "  </thead>\n",
       "  <tbody>\n",
       "    <tr>\n",
       "      <th>0</th>\n",
       "      <td>100000</td>\n",
       "      <td>Tampa</td>\n",
       "      <td>Small</td>\n",
       "    </tr>\n",
       "    <tr>\n",
       "      <th>1</th>\n",
       "      <td>222000</td>\n",
       "      <td>Tampa</td>\n",
       "      <td>Medium</td>\n",
       "    </tr>\n",
       "    <tr>\n",
       "      <th>2</th>\n",
       "      <td>1000000</td>\n",
       "      <td>Orlando</td>\n",
       "      <td>Large</td>\n",
       "    </tr>\n",
       "    <tr>\n",
       "      <th>3</th>\n",
       "      <td>522000</td>\n",
       "      <td>Jacksonville</td>\n",
       "      <td>Large</td>\n",
       "    </tr>\n",
       "    <tr>\n",
       "      <th>4</th>\n",
       "      <td>111111</td>\n",
       "      <td>Miami</td>\n",
       "      <td>Small</td>\n",
       "    </tr>\n",
       "  </tbody>\n",
       "</table>\n",
       "</div>"
      ],
      "text/plain": [
       "     sales          city    size\n",
       "0   100000         Tampa   Small\n",
       "1   222000         Tampa  Medium\n",
       "2  1000000       Orlando   Large\n",
       "3   522000  Jacksonville   Large\n",
       "4   111111         Miami   Small"
      ]
     },
     "execution_count": 28,
     "metadata": {},
     "output_type": "execute_result"
    }
   ],
   "source": [
    "df = pd.DataFrame(data=d)\n",
    "df.head()"
   ]
  },
  {
   "cell_type": "code",
   "execution_count": 29,
   "id": "bc1d04db",
   "metadata": {},
   "outputs": [
    {
     "data": {
      "text/plain": [
       "array(['Small', 'Medium', 'Large'], dtype=object)"
      ]
     },
     "metadata": {},
     "output_type": "display_data"
    },
    {
     "data": {
      "text/plain": [
       "array(['Tampa', 'Orlando', 'Jacksonville', 'Miami'], dtype=object)"
      ]
     },
     "metadata": {},
     "output_type": "display_data"
    }
   ],
   "source": [
    "display(df['size'].unique())\n",
    "display(df['city'].unique())"
   ]
  },
  {
   "cell_type": "code",
   "execution_count": 30,
   "id": "12f19483",
   "metadata": {},
   "outputs": [],
   "source": [
    "sizes = ['Small', 'Medium', 'Large']"
   ]
  },
  {
   "cell_type": "code",
   "execution_count": 31,
   "id": "ed8129b2",
   "metadata": {},
   "outputs": [
    {
     "data": {
      "text/plain": [
       "array([[0.],\n",
       "       [1.],\n",
       "       [2.],\n",
       "       [2.],\n",
       "       [0.],\n",
       "       [1.],\n",
       "       [2.],\n",
       "       [0.],\n",
       "       [1.],\n",
       "       [1.],\n",
       "       [1.],\n",
       "       [0.]])"
      ]
     },
     "execution_count": 31,
     "metadata": {},
     "output_type": "execute_result"
    }
   ],
   "source": [
    "from sklearn.preprocessing import OrdinalEncoder\n",
    "\n",
    "# Ordinal Encoder\n",
    "# The OrdinalEncoder is used to convert categorical features into ordinal integers.\n",
    "# It assigns a unique integer to each category based on the order of the categories.\n",
    "# In this case, we are encoding the 'size' column with the specified order of categories\n",
    "enc  = OrdinalEncoder(categories=[sizes])\n",
    "# Fit and transform the 'size' column\n",
    "enc.fit_transform(df[['size']])"
   ]
  },
  {
   "cell_type": "code",
   "execution_count": 32,
   "id": "d094cf2d",
   "metadata": {},
   "outputs": [
    {
     "data": {
      "application/vnd.microsoft.datawrangler.viewer.v0+json": {
       "columns": [
        {
         "name": "index",
         "rawType": "int64",
         "type": "integer"
        },
        {
         "name": "sales",
         "rawType": "int64",
         "type": "integer"
        },
        {
         "name": "city",
         "rawType": "object",
         "type": "string"
        },
        {
         "name": "size",
         "rawType": "float64",
         "type": "float"
        }
       ],
       "ref": "881c40f0-2268-46b4-b242-4a696fc8b96b",
       "rows": [
        [
         "0",
         "100000",
         "Tampa",
         "0.0"
        ],
        [
         "1",
         "222000",
         "Tampa",
         "1.0"
        ],
        [
         "2",
         "1000000",
         "Orlando",
         "2.0"
        ],
        [
         "3",
         "522000",
         "Jacksonville",
         "2.0"
        ],
        [
         "4",
         "111111",
         "Miami",
         "0.0"
        ],
        [
         "5",
         "222222",
         "Jacksonville",
         "1.0"
        ],
        [
         "6",
         "1111111",
         "Miami",
         "2.0"
        ],
        [
         "7",
         "20000",
         "Miami",
         "0.0"
        ],
        [
         "8",
         "75000",
         "Orlando",
         "1.0"
        ],
        [
         "9",
         "90000",
         "Orlando",
         "1.0"
        ],
        [
         "10",
         "1000000",
         "Orlando",
         "1.0"
        ]
       ],
       "shape": {
        "columns": 3,
        "rows": 11
       }
      },
      "text/html": [
       "<div>\n",
       "<style scoped>\n",
       "    .dataframe tbody tr th:only-of-type {\n",
       "        vertical-align: middle;\n",
       "    }\n",
       "\n",
       "    .dataframe tbody tr th {\n",
       "        vertical-align: top;\n",
       "    }\n",
       "\n",
       "    .dataframe thead th {\n",
       "        text-align: right;\n",
       "    }\n",
       "</style>\n",
       "<table border=\"1\" class=\"dataframe\">\n",
       "  <thead>\n",
       "    <tr style=\"text-align: right;\">\n",
       "      <th></th>\n",
       "      <th>sales</th>\n",
       "      <th>city</th>\n",
       "      <th>size</th>\n",
       "    </tr>\n",
       "  </thead>\n",
       "  <tbody>\n",
       "    <tr>\n",
       "      <th>0</th>\n",
       "      <td>100000</td>\n",
       "      <td>Tampa</td>\n",
       "      <td>0.0</td>\n",
       "    </tr>\n",
       "    <tr>\n",
       "      <th>1</th>\n",
       "      <td>222000</td>\n",
       "      <td>Tampa</td>\n",
       "      <td>1.0</td>\n",
       "    </tr>\n",
       "    <tr>\n",
       "      <th>2</th>\n",
       "      <td>1000000</td>\n",
       "      <td>Orlando</td>\n",
       "      <td>2.0</td>\n",
       "    </tr>\n",
       "    <tr>\n",
       "      <th>3</th>\n",
       "      <td>522000</td>\n",
       "      <td>Jacksonville</td>\n",
       "      <td>2.0</td>\n",
       "    </tr>\n",
       "    <tr>\n",
       "      <th>4</th>\n",
       "      <td>111111</td>\n",
       "      <td>Miami</td>\n",
       "      <td>0.0</td>\n",
       "    </tr>\n",
       "    <tr>\n",
       "      <th>5</th>\n",
       "      <td>222222</td>\n",
       "      <td>Jacksonville</td>\n",
       "      <td>1.0</td>\n",
       "    </tr>\n",
       "    <tr>\n",
       "      <th>6</th>\n",
       "      <td>1111111</td>\n",
       "      <td>Miami</td>\n",
       "      <td>2.0</td>\n",
       "    </tr>\n",
       "    <tr>\n",
       "      <th>7</th>\n",
       "      <td>20000</td>\n",
       "      <td>Miami</td>\n",
       "      <td>0.0</td>\n",
       "    </tr>\n",
       "    <tr>\n",
       "      <th>8</th>\n",
       "      <td>75000</td>\n",
       "      <td>Orlando</td>\n",
       "      <td>1.0</td>\n",
       "    </tr>\n",
       "    <tr>\n",
       "      <th>9</th>\n",
       "      <td>90000</td>\n",
       "      <td>Orlando</td>\n",
       "      <td>1.0</td>\n",
       "    </tr>\n",
       "    <tr>\n",
       "      <th>10</th>\n",
       "      <td>1000000</td>\n",
       "      <td>Orlando</td>\n",
       "      <td>1.0</td>\n",
       "    </tr>\n",
       "  </tbody>\n",
       "</table>\n",
       "</div>"
      ],
      "text/plain": [
       "      sales          city  size\n",
       "0    100000         Tampa   0.0\n",
       "1    222000         Tampa   1.0\n",
       "2   1000000       Orlando   2.0\n",
       "3    522000  Jacksonville   2.0\n",
       "4    111111         Miami   0.0\n",
       "5    222222  Jacksonville   1.0\n",
       "6   1111111         Miami   2.0\n",
       "7     20000         Miami   0.0\n",
       "8     75000       Orlando   1.0\n",
       "9     90000       Orlando   1.0\n",
       "10  1000000       Orlando   1.0"
      ]
     },
     "execution_count": 32,
     "metadata": {},
     "output_type": "execute_result"
    }
   ],
   "source": [
    "df['size'] = enc.fit_transform(df[['size']])\n",
    "df.head(11)"
   ]
  },
  {
   "cell_type": "code",
   "execution_count": 33,
   "id": "068b5cf1",
   "metadata": {},
   "outputs": [
    {
     "data": {
      "application/vnd.microsoft.datawrangler.viewer.v0+json": {
       "columns": [
        {
         "name": "index",
         "rawType": "int64",
         "type": "integer"
        },
        {
         "name": "sales",
         "rawType": "int64",
         "type": "integer"
        },
        {
         "name": "city",
         "rawType": "object",
         "type": "string"
        },
        {
         "name": "size",
         "rawType": "float64",
         "type": "float"
        }
       ],
       "ref": "1a1cdc57-f33c-4947-a542-531596e56e81",
       "rows": [
        [
         "0",
         "100000",
         "Tampa",
         "0.0"
        ],
        [
         "1",
         "222000",
         "Tampa",
         "1.0"
        ],
        [
         "2",
         "1000000",
         "Orlando",
         "2.0"
        ],
        [
         "3",
         "522000",
         "Jacksonville",
         "2.0"
        ],
        [
         "4",
         "111111",
         "Miami",
         "0.0"
        ],
        [
         "5",
         "222222",
         "Jacksonville",
         "1.0"
        ],
        [
         "6",
         "1111111",
         "Miami",
         "2.0"
        ],
        [
         "7",
         "20000",
         "Miami",
         "0.0"
        ],
        [
         "8",
         "75000",
         "Orlando",
         "1.0"
        ],
        [
         "9",
         "90000",
         "Orlando",
         "1.0"
        ]
       ],
       "shape": {
        "columns": 3,
        "rows": 10
       }
      },
      "text/html": [
       "<div>\n",
       "<style scoped>\n",
       "    .dataframe tbody tr th:only-of-type {\n",
       "        vertical-align: middle;\n",
       "    }\n",
       "\n",
       "    .dataframe tbody tr th {\n",
       "        vertical-align: top;\n",
       "    }\n",
       "\n",
       "    .dataframe thead th {\n",
       "        text-align: right;\n",
       "    }\n",
       "</style>\n",
       "<table border=\"1\" class=\"dataframe\">\n",
       "  <thead>\n",
       "    <tr style=\"text-align: right;\">\n",
       "      <th></th>\n",
       "      <th>sales</th>\n",
       "      <th>city</th>\n",
       "      <th>size</th>\n",
       "    </tr>\n",
       "  </thead>\n",
       "  <tbody>\n",
       "    <tr>\n",
       "      <th>0</th>\n",
       "      <td>100000</td>\n",
       "      <td>Tampa</td>\n",
       "      <td>0.0</td>\n",
       "    </tr>\n",
       "    <tr>\n",
       "      <th>1</th>\n",
       "      <td>222000</td>\n",
       "      <td>Tampa</td>\n",
       "      <td>1.0</td>\n",
       "    </tr>\n",
       "    <tr>\n",
       "      <th>2</th>\n",
       "      <td>1000000</td>\n",
       "      <td>Orlando</td>\n",
       "      <td>2.0</td>\n",
       "    </tr>\n",
       "    <tr>\n",
       "      <th>3</th>\n",
       "      <td>522000</td>\n",
       "      <td>Jacksonville</td>\n",
       "      <td>2.0</td>\n",
       "    </tr>\n",
       "    <tr>\n",
       "      <th>4</th>\n",
       "      <td>111111</td>\n",
       "      <td>Miami</td>\n",
       "      <td>0.0</td>\n",
       "    </tr>\n",
       "    <tr>\n",
       "      <th>5</th>\n",
       "      <td>222222</td>\n",
       "      <td>Jacksonville</td>\n",
       "      <td>1.0</td>\n",
       "    </tr>\n",
       "    <tr>\n",
       "      <th>6</th>\n",
       "      <td>1111111</td>\n",
       "      <td>Miami</td>\n",
       "      <td>2.0</td>\n",
       "    </tr>\n",
       "    <tr>\n",
       "      <th>7</th>\n",
       "      <td>20000</td>\n",
       "      <td>Miami</td>\n",
       "      <td>0.0</td>\n",
       "    </tr>\n",
       "    <tr>\n",
       "      <th>8</th>\n",
       "      <td>75000</td>\n",
       "      <td>Orlando</td>\n",
       "      <td>1.0</td>\n",
       "    </tr>\n",
       "    <tr>\n",
       "      <th>9</th>\n",
       "      <td>90000</td>\n",
       "      <td>Orlando</td>\n",
       "      <td>1.0</td>\n",
       "    </tr>\n",
       "  </tbody>\n",
       "</table>\n",
       "</div>"
      ],
      "text/plain": [
       "     sales          city  size\n",
       "0   100000         Tampa   0.0\n",
       "1   222000         Tampa   1.0\n",
       "2  1000000       Orlando   2.0\n",
       "3   522000  Jacksonville   2.0\n",
       "4   111111         Miami   0.0\n",
       "5   222222  Jacksonville   1.0\n",
       "6  1111111         Miami   2.0\n",
       "7    20000         Miami   0.0\n",
       "8    75000       Orlando   1.0\n",
       "9    90000       Orlando   1.0"
      ]
     },
     "execution_count": 33,
     "metadata": {},
     "output_type": "execute_result"
    }
   ],
   "source": [
    "df.head(10)"
   ]
  },
  {
   "cell_type": "code",
   "execution_count": null,
   "id": "68769780",
   "metadata": {},
   "outputs": [],
   "source": []
  }
 ],
 "metadata": {
  "kernelspec": {
   "display_name": "base",
   "language": "python",
   "name": "python3"
  },
  "language_info": {
   "codemirror_mode": {
    "name": "ipython",
    "version": 3
   },
   "file_extension": ".py",
   "mimetype": "text/x-python",
   "name": "python",
   "nbconvert_exporter": "python",
   "pygments_lexer": "ipython3",
   "version": "3.12.3"
  }
 },
 "nbformat": 4,
 "nbformat_minor": 5
}
