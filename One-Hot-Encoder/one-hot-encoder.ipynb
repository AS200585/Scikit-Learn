{
 "cells": [
  {
   "cell_type": "markdown",
   "id": "7bdc1b19",
   "metadata": {},
   "source": [
    "# **One-Hot Encoder**\n",
    "One-hot encoding is a technique used to convert categorical variables into numerical variables. \n",
    "It is a way to represent categorical data in a numerical format that can be processed by machine learning algorithms.\n",
    "\n",
    "**Example: One-Hot Encoding of Colors**\n",
    "\n",
    "Suppose we have a dataset with a column called \"Color\" that contains the following values: \n",
    "\"red\", \"green\", \"blue\", \"red\", \"green\", \"blue\", \"red\", \"green\", \"blue\".\n",
    "\n",
    "We can use one-hot encoding to convert this column into a numerical format. The resulting encoded column would have the following values: \n",
    "[1, 0, 0], [0, 1, 0], [0 , 0, 1], [1, 0, 0], [0, 1, 0], [0, 0, 1], [1, 0 , 0], [0, 1, 0], [0, 0, 1].\n",
    "\n",
    "One-Hot Encoding is helpful when we have a categorical variable with a large number of categories. It allows us to represent the variables in a numerical format that can be processed by machine learning algorithms. \n",
    "One-Hot Encoding focuses on nominal data, which is data that has no inherent order or ranking. It is a way to convert categorical data into numerical data that can be used in machine learning models.\n",
    "\n",
    "-Label Encoder : LabelEncoder can be used to normalize labels. It can also be used to transform non-numerical labels (as long as they are hashable and comparable) to numerical labels. Fit label encoder.\n",
    "\n",
    "-Ordinal Encoder : Ordinal encoding consists of converting categorical data into numeric data by assigning a unique integer to each category, and is a common data preprocessing step in most data science projects. Ordinal encoding is particularly useful when an inherent ordering or ranking is present within the categorical variable."
   ]
  },
  {
   "cell_type": "code",
   "execution_count": 14,
   "id": "1a26b20d",
   "metadata": {},
   "outputs": [],
   "source": [
    "import pandas as pd"
   ]
  },
  {
   "cell_type": "code",
   "execution_count": 15,
   "id": "e41bd3e7",
   "metadata": {},
   "outputs": [
    {
     "data": {
      "text/plain": [
       "{'sales': [100000,\n",
       "  222000,\n",
       "  1000000,\n",
       "  522000,\n",
       "  111111,\n",
       "  222222,\n",
       "  1111111,\n",
       "  20000,\n",
       "  75000,\n",
       "  90000,\n",
       "  1000000,\n",
       "  10000],\n",
       " 'city': ['Tampa',\n",
       "  'Tampa',\n",
       "  'Orlando',\n",
       "  'Jacksonville',\n",
       "  'Miami',\n",
       "  'Jacksonville',\n",
       "  'Miami',\n",
       "  'Miami',\n",
       "  'Orlando',\n",
       "  'Orlando',\n",
       "  'Orlando',\n",
       "  'Orlando'],\n",
       " 'size': ['Small',\n",
       "  'Medium',\n",
       "  'Large',\n",
       "  'Large',\n",
       "  'Small',\n",
       "  'Medium',\n",
       "  'Large',\n",
       "  'Small',\n",
       "  'Medium',\n",
       "  'Medium',\n",
       "  'Medium',\n",
       "  'Small']}"
      ]
     },
     "metadata": {},
     "output_type": "display_data"
    }
   ],
   "source": [
    "d = {'sales': [100000,222000,1000000,522000,111111,222222,1111111,20000,75000,90000,1000000,10000], 'city': ['Tampa','Tampa','Orlando','Jacksonville','Miami','Jacksonville','Miami','Miami','Orlando','Orlando','Orlando','Orlando'], 'size': ['Small', 'Medium','Large','Large','Small','Medium','Large','Small','Medium','Medium','Medium','Small',]}\n",
    "display(d)"
   ]
  },
  {
   "cell_type": "code",
   "execution_count": 16,
   "id": "eeb08cf5",
   "metadata": {},
   "outputs": [
    {
     "data": {
      "application/vnd.microsoft.datawrangler.viewer.v0+json": {
       "columns": [
        {
         "name": "index",
         "rawType": "int64",
         "type": "integer"
        },
        {
         "name": "sales",
         "rawType": "int64",
         "type": "integer"
        },
        {
         "name": "city",
         "rawType": "object",
         "type": "string"
        },
        {
         "name": "size",
         "rawType": "object",
         "type": "string"
        }
       ],
       "ref": "1a1e77cc-0a65-4726-b023-99daa1eafaf4",
       "rows": [
        [
         "0",
         "100000",
         "Tampa",
         "Small"
        ],
        [
         "1",
         "222000",
         "Tampa",
         "Medium"
        ],
        [
         "2",
         "1000000",
         "Orlando",
         "Large"
        ],
        [
         "3",
         "522000",
         "Jacksonville",
         "Large"
        ],
        [
         "4",
         "111111",
         "Miami",
         "Small"
        ]
       ],
       "shape": {
        "columns": 3,
        "rows": 5
       }
      },
      "text/html": [
       "<div>\n",
       "<style scoped>\n",
       "    .dataframe tbody tr th:only-of-type {\n",
       "        vertical-align: middle;\n",
       "    }\n",
       "\n",
       "    .dataframe tbody tr th {\n",
       "        vertical-align: top;\n",
       "    }\n",
       "\n",
       "    .dataframe thead th {\n",
       "        text-align: right;\n",
       "    }\n",
       "</style>\n",
       "<table border=\"1\" class=\"dataframe\">\n",
       "  <thead>\n",
       "    <tr style=\"text-align: right;\">\n",
       "      <th></th>\n",
       "      <th>sales</th>\n",
       "      <th>city</th>\n",
       "      <th>size</th>\n",
       "    </tr>\n",
       "  </thead>\n",
       "  <tbody>\n",
       "    <tr>\n",
       "      <th>0</th>\n",
       "      <td>100000</td>\n",
       "      <td>Tampa</td>\n",
       "      <td>Small</td>\n",
       "    </tr>\n",
       "    <tr>\n",
       "      <th>1</th>\n",
       "      <td>222000</td>\n",
       "      <td>Tampa</td>\n",
       "      <td>Medium</td>\n",
       "    </tr>\n",
       "    <tr>\n",
       "      <th>2</th>\n",
       "      <td>1000000</td>\n",
       "      <td>Orlando</td>\n",
       "      <td>Large</td>\n",
       "    </tr>\n",
       "    <tr>\n",
       "      <th>3</th>\n",
       "      <td>522000</td>\n",
       "      <td>Jacksonville</td>\n",
       "      <td>Large</td>\n",
       "    </tr>\n",
       "    <tr>\n",
       "      <th>4</th>\n",
       "      <td>111111</td>\n",
       "      <td>Miami</td>\n",
       "      <td>Small</td>\n",
       "    </tr>\n",
       "  </tbody>\n",
       "</table>\n",
       "</div>"
      ],
      "text/plain": [
       "     sales          city    size\n",
       "0   100000         Tampa   Small\n",
       "1   222000         Tampa  Medium\n",
       "2  1000000       Orlando   Large\n",
       "3   522000  Jacksonville   Large\n",
       "4   111111         Miami   Small"
      ]
     },
     "execution_count": 16,
     "metadata": {},
     "output_type": "execute_result"
    }
   ],
   "source": [
    "df = pd.DataFrame(data=d)\n",
    "df.head()"
   ]
  },
  {
   "cell_type": "code",
   "execution_count": 17,
   "id": "ac91c692",
   "metadata": {},
   "outputs": [
    {
     "data": {
      "text/plain": [
       "array(['Tampa', 'Orlando', 'Jacksonville', 'Miami'], dtype=object)"
      ]
     },
     "execution_count": 17,
     "metadata": {},
     "output_type": "execute_result"
    }
   ],
   "source": [
    "df['city'].unique()"
   ]
  },
  {
   "cell_type": "code",
   "execution_count": null,
   "id": "04ed0041",
   "metadata": {},
   "outputs": [],
   "source": [
    "from sklearn.preprocessing import OneHotEncoder\n",
    "\n",
    "# Create an instance of OneHotEncoder\n",
    "# Set handle_unknown='ignore' to ignore any unknown categories during transformation \n",
    "# Set sparse_output=False to return a dense array\n",
    "# Set output to 'pandas' to return a DataFrame\n",
    "ohe = OneHotEncoder(handle_unknown='ignore', sparse_output = False).set_output(transform='pandas')\n",
    "# Fit and transform the 'city' column\n",
    "ohetransform = ohe.fit_transform(df[['city']])"
   ]
  },
  {
   "cell_type": "code",
   "execution_count": 19,
   "id": "8e973500",
   "metadata": {},
   "outputs": [
    {
     "data": {
      "application/vnd.microsoft.datawrangler.viewer.v0+json": {
       "columns": [
        {
         "name": "index",
         "rawType": "int64",
         "type": "integer"
        },
        {
         "name": "city_Jacksonville",
         "rawType": "float64",
         "type": "float"
        },
        {
         "name": "city_Miami",
         "rawType": "float64",
         "type": "float"
        },
        {
         "name": "city_Orlando",
         "rawType": "float64",
         "type": "float"
        },
        {
         "name": "city_Tampa",
         "rawType": "float64",
         "type": "float"
        }
       ],
       "ref": "3007bb22-f3e2-417b-a754-c340276eae62",
       "rows": [
        [
         "0",
         "0.0",
         "0.0",
         "0.0",
         "1.0"
        ],
        [
         "1",
         "0.0",
         "0.0",
         "0.0",
         "1.0"
        ],
        [
         "2",
         "0.0",
         "0.0",
         "1.0",
         "0.0"
        ],
        [
         "3",
         "1.0",
         "0.0",
         "0.0",
         "0.0"
        ],
        [
         "4",
         "0.0",
         "1.0",
         "0.0",
         "0.0"
        ],
        [
         "5",
         "1.0",
         "0.0",
         "0.0",
         "0.0"
        ],
        [
         "6",
         "0.0",
         "1.0",
         "0.0",
         "0.0"
        ],
        [
         "7",
         "0.0",
         "1.0",
         "0.0",
         "0.0"
        ],
        [
         "8",
         "0.0",
         "0.0",
         "1.0",
         "0.0"
        ],
        [
         "9",
         "0.0",
         "0.0",
         "1.0",
         "0.0"
        ],
        [
         "10",
         "0.0",
         "0.0",
         "1.0",
         "0.0"
        ],
        [
         "11",
         "0.0",
         "0.0",
         "1.0",
         "0.0"
        ]
       ],
       "shape": {
        "columns": 4,
        "rows": 12
       }
      },
      "text/html": [
       "<div>\n",
       "<style scoped>\n",
       "    .dataframe tbody tr th:only-of-type {\n",
       "        vertical-align: middle;\n",
       "    }\n",
       "\n",
       "    .dataframe tbody tr th {\n",
       "        vertical-align: top;\n",
       "    }\n",
       "\n",
       "    .dataframe thead th {\n",
       "        text-align: right;\n",
       "    }\n",
       "</style>\n",
       "<table border=\"1\" class=\"dataframe\">\n",
       "  <thead>\n",
       "    <tr style=\"text-align: right;\">\n",
       "      <th></th>\n",
       "      <th>city_Jacksonville</th>\n",
       "      <th>city_Miami</th>\n",
       "      <th>city_Orlando</th>\n",
       "      <th>city_Tampa</th>\n",
       "    </tr>\n",
       "  </thead>\n",
       "  <tbody>\n",
       "    <tr>\n",
       "      <th>0</th>\n",
       "      <td>0.0</td>\n",
       "      <td>0.0</td>\n",
       "      <td>0.0</td>\n",
       "      <td>1.0</td>\n",
       "    </tr>\n",
       "    <tr>\n",
       "      <th>1</th>\n",
       "      <td>0.0</td>\n",
       "      <td>0.0</td>\n",
       "      <td>0.0</td>\n",
       "      <td>1.0</td>\n",
       "    </tr>\n",
       "    <tr>\n",
       "      <th>2</th>\n",
       "      <td>0.0</td>\n",
       "      <td>0.0</td>\n",
       "      <td>1.0</td>\n",
       "      <td>0.0</td>\n",
       "    </tr>\n",
       "    <tr>\n",
       "      <th>3</th>\n",
       "      <td>1.0</td>\n",
       "      <td>0.0</td>\n",
       "      <td>0.0</td>\n",
       "      <td>0.0</td>\n",
       "    </tr>\n",
       "    <tr>\n",
       "      <th>4</th>\n",
       "      <td>0.0</td>\n",
       "      <td>1.0</td>\n",
       "      <td>0.0</td>\n",
       "      <td>0.0</td>\n",
       "    </tr>\n",
       "    <tr>\n",
       "      <th>5</th>\n",
       "      <td>1.0</td>\n",
       "      <td>0.0</td>\n",
       "      <td>0.0</td>\n",
       "      <td>0.0</td>\n",
       "    </tr>\n",
       "    <tr>\n",
       "      <th>6</th>\n",
       "      <td>0.0</td>\n",
       "      <td>1.0</td>\n",
       "      <td>0.0</td>\n",
       "      <td>0.0</td>\n",
       "    </tr>\n",
       "    <tr>\n",
       "      <th>7</th>\n",
       "      <td>0.0</td>\n",
       "      <td>1.0</td>\n",
       "      <td>0.0</td>\n",
       "      <td>0.0</td>\n",
       "    </tr>\n",
       "    <tr>\n",
       "      <th>8</th>\n",
       "      <td>0.0</td>\n",
       "      <td>0.0</td>\n",
       "      <td>1.0</td>\n",
       "      <td>0.0</td>\n",
       "    </tr>\n",
       "    <tr>\n",
       "      <th>9</th>\n",
       "      <td>0.0</td>\n",
       "      <td>0.0</td>\n",
       "      <td>1.0</td>\n",
       "      <td>0.0</td>\n",
       "    </tr>\n",
       "    <tr>\n",
       "      <th>10</th>\n",
       "      <td>0.0</td>\n",
       "      <td>0.0</td>\n",
       "      <td>1.0</td>\n",
       "      <td>0.0</td>\n",
       "    </tr>\n",
       "    <tr>\n",
       "      <th>11</th>\n",
       "      <td>0.0</td>\n",
       "      <td>0.0</td>\n",
       "      <td>1.0</td>\n",
       "      <td>0.0</td>\n",
       "    </tr>\n",
       "  </tbody>\n",
       "</table>\n",
       "</div>"
      ],
      "text/plain": [
       "    city_Jacksonville  city_Miami  city_Orlando  city_Tampa\n",
       "0                 0.0         0.0           0.0         1.0\n",
       "1                 0.0         0.0           0.0         1.0\n",
       "2                 0.0         0.0           1.0         0.0\n",
       "3                 1.0         0.0           0.0         0.0\n",
       "4                 0.0         1.0           0.0         0.0\n",
       "5                 1.0         0.0           0.0         0.0\n",
       "6                 0.0         1.0           0.0         0.0\n",
       "7                 0.0         1.0           0.0         0.0\n",
       "8                 0.0         0.0           1.0         0.0\n",
       "9                 0.0         0.0           1.0         0.0\n",
       "10                0.0         0.0           1.0         0.0\n",
       "11                0.0         0.0           1.0         0.0"
      ]
     },
     "metadata": {},
     "output_type": "display_data"
    }
   ],
   "source": [
    "display(ohetransform)"
   ]
  },
  {
   "cell_type": "code",
   "execution_count": 20,
   "id": "6513e139",
   "metadata": {},
   "outputs": [
    {
     "data": {
      "application/vnd.microsoft.datawrangler.viewer.v0+json": {
       "columns": [
        {
         "name": "index",
         "rawType": "int64",
         "type": "integer"
        },
        {
         "name": "city_Jacksonville",
         "rawType": "float64",
         "type": "float"
        },
        {
         "name": "city_Miami",
         "rawType": "float64",
         "type": "float"
        },
        {
         "name": "city_Orlando",
         "rawType": "float64",
         "type": "float"
        },
        {
         "name": "city_Tampa",
         "rawType": "float64",
         "type": "float"
        }
       ],
       "ref": "9209009d-784f-4a75-bbfb-dd66f7f785e2",
       "rows": [
        [
         "0",
         "0.0",
         "0.0",
         "0.0",
         "1.0"
        ],
        [
         "1",
         "0.0",
         "0.0",
         "0.0",
         "1.0"
        ],
        [
         "2",
         "0.0",
         "0.0",
         "1.0",
         "0.0"
        ],
        [
         "3",
         "1.0",
         "0.0",
         "0.0",
         "0.0"
        ],
        [
         "4",
         "0.0",
         "1.0",
         "0.0",
         "0.0"
        ]
       ],
       "shape": {
        "columns": 4,
        "rows": 5
       }
      },
      "text/html": [
       "<div>\n",
       "<style scoped>\n",
       "    .dataframe tbody tr th:only-of-type {\n",
       "        vertical-align: middle;\n",
       "    }\n",
       "\n",
       "    .dataframe tbody tr th {\n",
       "        vertical-align: top;\n",
       "    }\n",
       "\n",
       "    .dataframe thead th {\n",
       "        text-align: right;\n",
       "    }\n",
       "</style>\n",
       "<table border=\"1\" class=\"dataframe\">\n",
       "  <thead>\n",
       "    <tr style=\"text-align: right;\">\n",
       "      <th></th>\n",
       "      <th>city_Jacksonville</th>\n",
       "      <th>city_Miami</th>\n",
       "      <th>city_Orlando</th>\n",
       "      <th>city_Tampa</th>\n",
       "    </tr>\n",
       "  </thead>\n",
       "  <tbody>\n",
       "    <tr>\n",
       "      <th>0</th>\n",
       "      <td>0.0</td>\n",
       "      <td>0.0</td>\n",
       "      <td>0.0</td>\n",
       "      <td>1.0</td>\n",
       "    </tr>\n",
       "    <tr>\n",
       "      <th>1</th>\n",
       "      <td>0.0</td>\n",
       "      <td>0.0</td>\n",
       "      <td>0.0</td>\n",
       "      <td>1.0</td>\n",
       "    </tr>\n",
       "    <tr>\n",
       "      <th>2</th>\n",
       "      <td>0.0</td>\n",
       "      <td>0.0</td>\n",
       "      <td>1.0</td>\n",
       "      <td>0.0</td>\n",
       "    </tr>\n",
       "    <tr>\n",
       "      <th>3</th>\n",
       "      <td>1.0</td>\n",
       "      <td>0.0</td>\n",
       "      <td>0.0</td>\n",
       "      <td>0.0</td>\n",
       "    </tr>\n",
       "    <tr>\n",
       "      <th>4</th>\n",
       "      <td>0.0</td>\n",
       "      <td>1.0</td>\n",
       "      <td>0.0</td>\n",
       "      <td>0.0</td>\n",
       "    </tr>\n",
       "  </tbody>\n",
       "</table>\n",
       "</div>"
      ],
      "text/plain": [
       "   city_Jacksonville  city_Miami  city_Orlando  city_Tampa\n",
       "0                0.0         0.0           0.0         1.0\n",
       "1                0.0         0.0           0.0         1.0\n",
       "2                0.0         0.0           1.0         0.0\n",
       "3                1.0         0.0           0.0         0.0\n",
       "4                0.0         1.0           0.0         0.0"
      ]
     },
     "execution_count": 20,
     "metadata": {},
     "output_type": "execute_result"
    }
   ],
   "source": [
    "ohetransform.head()"
   ]
  },
  {
   "cell_type": "code",
   "execution_count": 21,
   "id": "a60b5db8",
   "metadata": {},
   "outputs": [],
   "source": [
    "df = pd.concat([df, ohetransform], axis = 1).drop(columns=['city'])"
   ]
  },
  {
   "cell_type": "code",
   "execution_count": 22,
   "id": "f96ad310",
   "metadata": {},
   "outputs": [
    {
     "data": {
      "application/vnd.microsoft.datawrangler.viewer.v0+json": {
       "columns": [
        {
         "name": "index",
         "rawType": "int64",
         "type": "integer"
        },
        {
         "name": "sales",
         "rawType": "int64",
         "type": "integer"
        },
        {
         "name": "size",
         "rawType": "object",
         "type": "string"
        },
        {
         "name": "city_Jacksonville",
         "rawType": "float64",
         "type": "float"
        },
        {
         "name": "city_Miami",
         "rawType": "float64",
         "type": "float"
        },
        {
         "name": "city_Orlando",
         "rawType": "float64",
         "type": "float"
        },
        {
         "name": "city_Tampa",
         "rawType": "float64",
         "type": "float"
        }
       ],
       "ref": "d3030205-4ab7-4ebc-a97b-5fd6e1783a31",
       "rows": [
        [
         "0",
         "100000",
         "Small",
         "0.0",
         "0.0",
         "0.0",
         "1.0"
        ],
        [
         "1",
         "222000",
         "Medium",
         "0.0",
         "0.0",
         "0.0",
         "1.0"
        ],
        [
         "2",
         "1000000",
         "Large",
         "0.0",
         "0.0",
         "1.0",
         "0.0"
        ],
        [
         "3",
         "522000",
         "Large",
         "1.0",
         "0.0",
         "0.0",
         "0.0"
        ],
        [
         "4",
         "111111",
         "Small",
         "0.0",
         "1.0",
         "0.0",
         "0.0"
        ],
        [
         "5",
         "222222",
         "Medium",
         "1.0",
         "0.0",
         "0.0",
         "0.0"
        ],
        [
         "6",
         "1111111",
         "Large",
         "0.0",
         "1.0",
         "0.0",
         "0.0"
        ],
        [
         "7",
         "20000",
         "Small",
         "0.0",
         "1.0",
         "0.0",
         "0.0"
        ],
        [
         "8",
         "75000",
         "Medium",
         "0.0",
         "0.0",
         "1.0",
         "0.0"
        ],
        [
         "9",
         "90000",
         "Medium",
         "0.0",
         "0.0",
         "1.0",
         "0.0"
        ],
        [
         "10",
         "1000000",
         "Medium",
         "0.0",
         "0.0",
         "1.0",
         "0.0"
        ],
        [
         "11",
         "10000",
         "Small",
         "0.0",
         "0.0",
         "1.0",
         "0.0"
        ]
       ],
       "shape": {
        "columns": 6,
        "rows": 12
       }
      },
      "text/html": [
       "<div>\n",
       "<style scoped>\n",
       "    .dataframe tbody tr th:only-of-type {\n",
       "        vertical-align: middle;\n",
       "    }\n",
       "\n",
       "    .dataframe tbody tr th {\n",
       "        vertical-align: top;\n",
       "    }\n",
       "\n",
       "    .dataframe thead th {\n",
       "        text-align: right;\n",
       "    }\n",
       "</style>\n",
       "<table border=\"1\" class=\"dataframe\">\n",
       "  <thead>\n",
       "    <tr style=\"text-align: right;\">\n",
       "      <th></th>\n",
       "      <th>sales</th>\n",
       "      <th>size</th>\n",
       "      <th>city_Jacksonville</th>\n",
       "      <th>city_Miami</th>\n",
       "      <th>city_Orlando</th>\n",
       "      <th>city_Tampa</th>\n",
       "    </tr>\n",
       "  </thead>\n",
       "  <tbody>\n",
       "    <tr>\n",
       "      <th>0</th>\n",
       "      <td>100000</td>\n",
       "      <td>Small</td>\n",
       "      <td>0.0</td>\n",
       "      <td>0.0</td>\n",
       "      <td>0.0</td>\n",
       "      <td>1.0</td>\n",
       "    </tr>\n",
       "    <tr>\n",
       "      <th>1</th>\n",
       "      <td>222000</td>\n",
       "      <td>Medium</td>\n",
       "      <td>0.0</td>\n",
       "      <td>0.0</td>\n",
       "      <td>0.0</td>\n",
       "      <td>1.0</td>\n",
       "    </tr>\n",
       "    <tr>\n",
       "      <th>2</th>\n",
       "      <td>1000000</td>\n",
       "      <td>Large</td>\n",
       "      <td>0.0</td>\n",
       "      <td>0.0</td>\n",
       "      <td>1.0</td>\n",
       "      <td>0.0</td>\n",
       "    </tr>\n",
       "    <tr>\n",
       "      <th>3</th>\n",
       "      <td>522000</td>\n",
       "      <td>Large</td>\n",
       "      <td>1.0</td>\n",
       "      <td>0.0</td>\n",
       "      <td>0.0</td>\n",
       "      <td>0.0</td>\n",
       "    </tr>\n",
       "    <tr>\n",
       "      <th>4</th>\n",
       "      <td>111111</td>\n",
       "      <td>Small</td>\n",
       "      <td>0.0</td>\n",
       "      <td>1.0</td>\n",
       "      <td>0.0</td>\n",
       "      <td>0.0</td>\n",
       "    </tr>\n",
       "    <tr>\n",
       "      <th>5</th>\n",
       "      <td>222222</td>\n",
       "      <td>Medium</td>\n",
       "      <td>1.0</td>\n",
       "      <td>0.0</td>\n",
       "      <td>0.0</td>\n",
       "      <td>0.0</td>\n",
       "    </tr>\n",
       "    <tr>\n",
       "      <th>6</th>\n",
       "      <td>1111111</td>\n",
       "      <td>Large</td>\n",
       "      <td>0.0</td>\n",
       "      <td>1.0</td>\n",
       "      <td>0.0</td>\n",
       "      <td>0.0</td>\n",
       "    </tr>\n",
       "    <tr>\n",
       "      <th>7</th>\n",
       "      <td>20000</td>\n",
       "      <td>Small</td>\n",
       "      <td>0.0</td>\n",
       "      <td>1.0</td>\n",
       "      <td>0.0</td>\n",
       "      <td>0.0</td>\n",
       "    </tr>\n",
       "    <tr>\n",
       "      <th>8</th>\n",
       "      <td>75000</td>\n",
       "      <td>Medium</td>\n",
       "      <td>0.0</td>\n",
       "      <td>0.0</td>\n",
       "      <td>1.0</td>\n",
       "      <td>0.0</td>\n",
       "    </tr>\n",
       "    <tr>\n",
       "      <th>9</th>\n",
       "      <td>90000</td>\n",
       "      <td>Medium</td>\n",
       "      <td>0.0</td>\n",
       "      <td>0.0</td>\n",
       "      <td>1.0</td>\n",
       "      <td>0.0</td>\n",
       "    </tr>\n",
       "    <tr>\n",
       "      <th>10</th>\n",
       "      <td>1000000</td>\n",
       "      <td>Medium</td>\n",
       "      <td>0.0</td>\n",
       "      <td>0.0</td>\n",
       "      <td>1.0</td>\n",
       "      <td>0.0</td>\n",
       "    </tr>\n",
       "    <tr>\n",
       "      <th>11</th>\n",
       "      <td>10000</td>\n",
       "      <td>Small</td>\n",
       "      <td>0.0</td>\n",
       "      <td>0.0</td>\n",
       "      <td>1.0</td>\n",
       "      <td>0.0</td>\n",
       "    </tr>\n",
       "  </tbody>\n",
       "</table>\n",
       "</div>"
      ],
      "text/plain": [
       "      sales    size  city_Jacksonville  city_Miami  city_Orlando  city_Tampa\n",
       "0    100000   Small                0.0         0.0           0.0         1.0\n",
       "1    222000  Medium                0.0         0.0           0.0         1.0\n",
       "2   1000000   Large                0.0         0.0           1.0         0.0\n",
       "3    522000   Large                1.0         0.0           0.0         0.0\n",
       "4    111111   Small                0.0         1.0           0.0         0.0\n",
       "5    222222  Medium                1.0         0.0           0.0         0.0\n",
       "6   1111111   Large                0.0         1.0           0.0         0.0\n",
       "7     20000   Small                0.0         1.0           0.0         0.0\n",
       "8     75000  Medium                0.0         0.0           1.0         0.0\n",
       "9     90000  Medium                0.0         0.0           1.0         0.0\n",
       "10  1000000  Medium                0.0         0.0           1.0         0.0\n",
       "11    10000   Small                0.0         0.0           1.0         0.0"
      ]
     },
     "execution_count": 22,
     "metadata": {},
     "output_type": "execute_result"
    }
   ],
   "source": [
    "df.head(20)"
   ]
  },
  {
   "cell_type": "code",
   "execution_count": null,
   "id": "ecb80cdf",
   "metadata": {},
   "outputs": [],
   "source": []
  }
 ],
 "metadata": {
  "kernelspec": {
   "display_name": "base",
   "language": "python",
   "name": "python3"
  },
  "language_info": {
   "codemirror_mode": {
    "name": "ipython",
    "version": 3
   },
   "file_extension": ".py",
   "mimetype": "text/x-python",
   "name": "python",
   "nbconvert_exporter": "python",
   "pygments_lexer": "ipython3",
   "version": "3.12.3"
  }
 },
 "nbformat": 4,
 "nbformat_minor": 5
}
