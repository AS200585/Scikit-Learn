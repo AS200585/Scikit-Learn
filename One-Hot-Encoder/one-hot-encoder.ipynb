{
 "cells": [
  {
   "cell_type": "markdown",
   "id": "7bdc1b19",
   "metadata": {},
   "source": [
    "# **One-Hot Encoder**\n",
    "One-hot encoding is a technique used to convert categorical variables into numerical variables. \n",
    "It is a way to represent categorical data in a numerical format that can be processed by machine learning algorithms.\n",
    "\n",
    "**Example: One-Hot Encoding of Colors**\n",
    "\n",
    "Suppose we have a dataset with a column called \"Color\" that contains the following values: \n",
    "\"red\", \"green\", \"blue\", \"red\", \"green\", \"blue\", \"red\", \"green\", \"blue\".\n",
    "\n",
    "We can use one-hot encoding to convert this column into a numerical format. The resulting encoded column would have the following values: \n",
    "[1, 0, 0], [0, 1, 0], [0 , 0, 1], [1, 0, 0], [0, 1, 0], [0, 0, 1], [1, 0 , 0], [0, 1, 0], [0, 0, 1].\n",
    "\n",
    "One-Hot Encoding is helpful when we have a categorical variable with a large number of categories. It allows us to represent the variables in a numerical format that can be processed by machine learning algorithms. \n",
    "One-Hot Encoding focuses on nominal data, which is data that has no inherent order or ranking. It is a way to convert categorical data into numerical data that can be used in machine learning models.\n",
    "\n",
    "-Label Encoder : LabelEncoder can be used to normalize labels. It can also be used to transform non-numerical labels (as long as they are hashable and comparable) to numerical labels. Fit label encoder.\n",
    "\n",
    "-Ordinal Encoder : Ordinal encoding consists of converting categorical data into numeric data by assigning a unique integer to each category, and is a common data preprocessing step in most data science projects. Ordinal encoding is particularly useful when an inherent ordering or ranking is present within the categorical variable."
   ]
  },
  {
   "cell_type": "code",
   "execution_count": null,
   "id": "1a26b20d",
   "metadata": {},
   "outputs": [],
   "source": [
    "import pandas as pd"
   ]
  },
  {
   "cell_type": "code",
   "execution_count": 6,
   "id": "e41bd3e7",
   "metadata": {},
   "outputs": [
    {
     "data": {
      "text/plain": [
       "{'sales': [100000,\n",
       "  222000,\n",
       "  1000000,\n",
       "  522000,\n",
       "  111111,\n",
       "  222222,\n",
       "  1111111,\n",
       "  20000,\n",
       "  75000,\n",
       "  90000,\n",
       "  1000000,\n",
       "  10000],\n",
       " 'city': ['Tampa',\n",
       "  'Tampa',\n",
       "  'Orlando',\n",
       "  'Jacksonville',\n",
       "  'Miami',\n",
       "  'Jacksonville',\n",
       "  'Miami',\n",
       "  'Miami',\n",
       "  'Orlando',\n",
       "  'Orlando',\n",
       "  'Orlando',\n",
       "  'Orlando'],\n",
       " 'size': ['Small',\n",
       "  'Medium',\n",
       "  'Large',\n",
       "  'Large',\n",
       "  'Small',\n",
       "  'Medium',\n",
       "  'Large',\n",
       "  'Small',\n",
       "  'Medium',\n",
       "  'Medium',\n",
       "  'Medium',\n",
       "  'Small']}"
      ]
     },
     "metadata": {},
     "output_type": "display_data"
    }
   ],
   "source": [
    "d = {'sales': [100000,222000,1000000,522000,111111,222222,1111111,20000,75000,90000,1000000,10000], 'city': ['Tampa','Tampa','Orlando','Jacksonville','Miami','Jacksonville','Miami','Miami','Orlando','Orlando','Orlando','Orlando'], 'size': ['Small', 'Medium','Large','Large','Small','Medium','Large','Small','Medium','Medium','Medium','Small',]}\n",
    "display(d)"
   ]
  },
  {
   "cell_type": "code",
   "execution_count": null,
   "id": "eeb08cf5",
   "metadata": {},
   "outputs": [],
   "source": []
  }
 ],
 "metadata": {
  "kernelspec": {
   "display_name": "base",
   "language": "python",
   "name": "python3"
  },
  "language_info": {
   "codemirror_mode": {
    "name": "ipython",
    "version": 3
   },
   "file_extension": ".py",
   "mimetype": "text/x-python",
   "name": "python",
   "nbconvert_exporter": "python",
   "pygments_lexer": "ipython3",
   "version": "3.12.3"
  }
 },
 "nbformat": 4,
 "nbformat_minor": 5
}
