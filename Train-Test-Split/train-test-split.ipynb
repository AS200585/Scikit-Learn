{
 "cells": [
  {
   "cell_type": "markdown",
   "id": "19936fcf",
   "metadata": {},
   "source": [
    "# **Train-Test Split**\n",
    "\n",
    "The train-test split is a common technique used to evaluate the performance of a machine learning model. \n",
    "It involves splitting the available data into two sets: a training set and a testing set.\n",
    "The training set is used to train the model, and the testing set is used to evaluate its performance.\n",
    "\n",
    "The train-test split is typically done in the following way:\n",
    "1. Split the data into two sets: a training set and a testing set.\n",
    "2. Use the training set to train the model.\n",
    "3. Use the testing set to evaluate the performance of the model.\n",
    "\n",
    "The train-test split is a crucial step in the machine learning process because it allows us to evaluate the performance of a model on unseen data.\n"
   ]
  },
  {
   "cell_type": "code",
   "execution_count": 3,
   "id": "6db562be",
   "metadata": {},
   "outputs": [],
   "source": [
    "import pandas as pd\n",
    "from sklearn.model_selection import train_test_split"
   ]
  },
  {
   "cell_type": "code",
   "execution_count": 7,
   "id": "3918bbc3",
   "metadata": {},
   "outputs": [
    {
     "data": {
      "application/vnd.microsoft.datawrangler.viewer.v0+json": {
       "columns": [
        {
         "name": "index",
         "rawType": "int64",
         "type": "integer"
        },
        {
         "name": "PLAYER",
         "rawType": "object",
         "type": "string"
        },
        {
         "name": "YRS",
         "rawType": "int64",
         "type": "integer"
        },
        {
         "name": "G",
         "rawType": "int64",
         "type": "integer"
        },
        {
         "name": "AB",
         "rawType": "int64",
         "type": "integer"
        },
        {
         "name": "R",
         "rawType": "int64",
         "type": "integer"
        },
        {
         "name": "H",
         "rawType": "int64",
         "type": "integer"
        },
        {
         "name": "2B",
         "rawType": "int64",
         "type": "integer"
        },
        {
         "name": "3B",
         "rawType": "int64",
         "type": "integer"
        },
        {
         "name": "HR",
         "rawType": "int64",
         "type": "integer"
        },
        {
         "name": "RBI",
         "rawType": "int64",
         "type": "integer"
        },
        {
         "name": "BB",
         "rawType": "int64",
         "type": "integer"
        },
        {
         "name": "SO",
         "rawType": "int64",
         "type": "integer"
        },
        {
         "name": "SB",
         "rawType": "int64",
         "type": "integer"
        },
        {
         "name": "CS",
         "rawType": "int64",
         "type": "integer"
        },
        {
         "name": "BA",
         "rawType": "float64",
         "type": "float"
        },
        {
         "name": "HOF",
         "rawType": "int64",
         "type": "integer"
        }
       ],
       "ref": "e692ce66-5d52-4503-8451-e04ae65255be",
       "rows": [
        [
         "0",
         "Ty Cobb",
         "24",
         "3035",
         "11434",
         "2246",
         "4189",
         "724",
         "295",
         "117",
         "726",
         "1249",
         "357",
         "892",
         "178",
         "0.366",
         "1"
        ],
        [
         "1",
         "Stan Musial",
         "22",
         "3026",
         "10972",
         "1949",
         "3630",
         "725",
         "177",
         "475",
         "1951",
         "1599",
         "696",
         "78",
         "31",
         "0.331",
         "1"
        ],
        [
         "2",
         "Tris Speaker",
         "22",
         "2789",
         "10195",
         "1882",
         "3514",
         "792",
         "222",
         "117",
         "724",
         "1381",
         "220",
         "432",
         "129",
         "0.345",
         "1"
        ],
        [
         "3",
         "Derek Jeter",
         "20",
         "2747",
         "11195",
         "1923",
         "3465",
         "544",
         "66",
         "260",
         "1311",
         "1082",
         "1840",
         "358",
         "97",
         "0.31",
         "1"
        ],
        [
         "4",
         "Honus Wagner",
         "21",
         "2792",
         "10430",
         "1736",
         "3430",
         "640",
         "252",
         "101",
         "0",
         "963",
         "327",
         "722",
         "15",
         "0.329",
         "1"
        ]
       ],
       "shape": {
        "columns": 16,
        "rows": 5
       }
      },
      "text/html": [
       "<div>\n",
       "<style scoped>\n",
       "    .dataframe tbody tr th:only-of-type {\n",
       "        vertical-align: middle;\n",
       "    }\n",
       "\n",
       "    .dataframe tbody tr th {\n",
       "        vertical-align: top;\n",
       "    }\n",
       "\n",
       "    .dataframe thead th {\n",
       "        text-align: right;\n",
       "    }\n",
       "</style>\n",
       "<table border=\"1\" class=\"dataframe\">\n",
       "  <thead>\n",
       "    <tr style=\"text-align: right;\">\n",
       "      <th></th>\n",
       "      <th>PLAYER</th>\n",
       "      <th>YRS</th>\n",
       "      <th>G</th>\n",
       "      <th>AB</th>\n",
       "      <th>R</th>\n",
       "      <th>H</th>\n",
       "      <th>2B</th>\n",
       "      <th>3B</th>\n",
       "      <th>HR</th>\n",
       "      <th>RBI</th>\n",
       "      <th>BB</th>\n",
       "      <th>SO</th>\n",
       "      <th>SB</th>\n",
       "      <th>CS</th>\n",
       "      <th>BA</th>\n",
       "      <th>HOF</th>\n",
       "    </tr>\n",
       "  </thead>\n",
       "  <tbody>\n",
       "    <tr>\n",
       "      <th>0</th>\n",
       "      <td>Ty Cobb</td>\n",
       "      <td>24</td>\n",
       "      <td>3035</td>\n",
       "      <td>11434</td>\n",
       "      <td>2246</td>\n",
       "      <td>4189</td>\n",
       "      <td>724</td>\n",
       "      <td>295</td>\n",
       "      <td>117</td>\n",
       "      <td>726</td>\n",
       "      <td>1249</td>\n",
       "      <td>357</td>\n",
       "      <td>892</td>\n",
       "      <td>178</td>\n",
       "      <td>0.366</td>\n",
       "      <td>1</td>\n",
       "    </tr>\n",
       "    <tr>\n",
       "      <th>1</th>\n",
       "      <td>Stan Musial</td>\n",
       "      <td>22</td>\n",
       "      <td>3026</td>\n",
       "      <td>10972</td>\n",
       "      <td>1949</td>\n",
       "      <td>3630</td>\n",
       "      <td>725</td>\n",
       "      <td>177</td>\n",
       "      <td>475</td>\n",
       "      <td>1951</td>\n",
       "      <td>1599</td>\n",
       "      <td>696</td>\n",
       "      <td>78</td>\n",
       "      <td>31</td>\n",
       "      <td>0.331</td>\n",
       "      <td>1</td>\n",
       "    </tr>\n",
       "    <tr>\n",
       "      <th>2</th>\n",
       "      <td>Tris Speaker</td>\n",
       "      <td>22</td>\n",
       "      <td>2789</td>\n",
       "      <td>10195</td>\n",
       "      <td>1882</td>\n",
       "      <td>3514</td>\n",
       "      <td>792</td>\n",
       "      <td>222</td>\n",
       "      <td>117</td>\n",
       "      <td>724</td>\n",
       "      <td>1381</td>\n",
       "      <td>220</td>\n",
       "      <td>432</td>\n",
       "      <td>129</td>\n",
       "      <td>0.345</td>\n",
       "      <td>1</td>\n",
       "    </tr>\n",
       "    <tr>\n",
       "      <th>3</th>\n",
       "      <td>Derek Jeter</td>\n",
       "      <td>20</td>\n",
       "      <td>2747</td>\n",
       "      <td>11195</td>\n",
       "      <td>1923</td>\n",
       "      <td>3465</td>\n",
       "      <td>544</td>\n",
       "      <td>66</td>\n",
       "      <td>260</td>\n",
       "      <td>1311</td>\n",
       "      <td>1082</td>\n",
       "      <td>1840</td>\n",
       "      <td>358</td>\n",
       "      <td>97</td>\n",
       "      <td>0.310</td>\n",
       "      <td>1</td>\n",
       "    </tr>\n",
       "    <tr>\n",
       "      <th>4</th>\n",
       "      <td>Honus Wagner</td>\n",
       "      <td>21</td>\n",
       "      <td>2792</td>\n",
       "      <td>10430</td>\n",
       "      <td>1736</td>\n",
       "      <td>3430</td>\n",
       "      <td>640</td>\n",
       "      <td>252</td>\n",
       "      <td>101</td>\n",
       "      <td>0</td>\n",
       "      <td>963</td>\n",
       "      <td>327</td>\n",
       "      <td>722</td>\n",
       "      <td>15</td>\n",
       "      <td>0.329</td>\n",
       "      <td>1</td>\n",
       "    </tr>\n",
       "  </tbody>\n",
       "</table>\n",
       "</div>"
      ],
      "text/plain": [
       "         PLAYER  YRS     G     AB     R     H   2B   3B   HR   RBI    BB  \\\n",
       "0       Ty Cobb   24  3035  11434  2246  4189  724  295  117   726  1249   \n",
       "1   Stan Musial   22  3026  10972  1949  3630  725  177  475  1951  1599   \n",
       "2  Tris Speaker   22  2789  10195  1882  3514  792  222  117   724  1381   \n",
       "3   Derek Jeter   20  2747  11195  1923  3465  544   66  260  1311  1082   \n",
       "4  Honus Wagner   21  2792  10430  1736  3430  640  252  101     0   963   \n",
       "\n",
       "     SO   SB   CS     BA  HOF  \n",
       "0   357  892  178  0.366    1  \n",
       "1   696   78   31  0.331    1  \n",
       "2   220  432  129  0.345    1  \n",
       "3  1840  358   97  0.310    1  \n",
       "4   327  722   15  0.329    1  "
      ]
     },
     "execution_count": 7,
     "metadata": {},
     "output_type": "execute_result"
    }
   ],
   "source": [
    "df = pd.read_csv(\"https://github.com/RyanNolanData/YouTubeData/blob/main/500hits.csv?raw=true\", encoding=\"latin-1\")\n",
    "df.head()"
   ]
  },
  {
   "cell_type": "code",
   "execution_count": 9,
   "id": "78661089",
   "metadata": {},
   "outputs": [],
   "source": [
    "X = df.drop(columns = [\"PLAYER\", \"HOF\"])\n",
    "y = df[\"HOF\"]"
   ]
  },
  {
   "cell_type": "code",
   "execution_count": 10,
   "id": "cdbcc842",
   "metadata": {},
   "outputs": [
    {
     "data": {
      "application/vnd.microsoft.datawrangler.viewer.v0+json": {
       "columns": [
        {
         "name": "index",
         "rawType": "int64",
         "type": "integer"
        },
        {
         "name": "YRS",
         "rawType": "int64",
         "type": "integer"
        },
        {
         "name": "G",
         "rawType": "int64",
         "type": "integer"
        },
        {
         "name": "AB",
         "rawType": "int64",
         "type": "integer"
        },
        {
         "name": "R",
         "rawType": "int64",
         "type": "integer"
        },
        {
         "name": "H",
         "rawType": "int64",
         "type": "integer"
        },
        {
         "name": "2B",
         "rawType": "int64",
         "type": "integer"
        },
        {
         "name": "3B",
         "rawType": "int64",
         "type": "integer"
        },
        {
         "name": "HR",
         "rawType": "int64",
         "type": "integer"
        },
        {
         "name": "RBI",
         "rawType": "int64",
         "type": "integer"
        },
        {
         "name": "BB",
         "rawType": "int64",
         "type": "integer"
        },
        {
         "name": "SO",
         "rawType": "int64",
         "type": "integer"
        },
        {
         "name": "SB",
         "rawType": "int64",
         "type": "integer"
        },
        {
         "name": "CS",
         "rawType": "int64",
         "type": "integer"
        },
        {
         "name": "BA",
         "rawType": "float64",
         "type": "float"
        }
       ],
       "ref": "2211aeee-2c92-4e1d-b45e-701560f9278d",
       "rows": [
        [
         "0",
         "24",
         "3035",
         "11434",
         "2246",
         "4189",
         "724",
         "295",
         "117",
         "726",
         "1249",
         "357",
         "892",
         "178",
         "0.366"
        ],
        [
         "1",
         "22",
         "3026",
         "10972",
         "1949",
         "3630",
         "725",
         "177",
         "475",
         "1951",
         "1599",
         "696",
         "78",
         "31",
         "0.331"
        ],
        [
         "2",
         "22",
         "2789",
         "10195",
         "1882",
         "3514",
         "792",
         "222",
         "117",
         "724",
         "1381",
         "220",
         "432",
         "129",
         "0.345"
        ],
        [
         "3",
         "20",
         "2747",
         "11195",
         "1923",
         "3465",
         "544",
         "66",
         "260",
         "1311",
         "1082",
         "1840",
         "358",
         "97",
         "0.31"
        ],
        [
         "4",
         "21",
         "2792",
         "10430",
         "1736",
         "3430",
         "640",
         "252",
         "101",
         "0",
         "963",
         "327",
         "722",
         "15",
         "0.329"
        ]
       ],
       "shape": {
        "columns": 14,
        "rows": 5
       }
      },
      "text/html": [
       "<div>\n",
       "<style scoped>\n",
       "    .dataframe tbody tr th:only-of-type {\n",
       "        vertical-align: middle;\n",
       "    }\n",
       "\n",
       "    .dataframe tbody tr th {\n",
       "        vertical-align: top;\n",
       "    }\n",
       "\n",
       "    .dataframe thead th {\n",
       "        text-align: right;\n",
       "    }\n",
       "</style>\n",
       "<table border=\"1\" class=\"dataframe\">\n",
       "  <thead>\n",
       "    <tr style=\"text-align: right;\">\n",
       "      <th></th>\n",
       "      <th>YRS</th>\n",
       "      <th>G</th>\n",
       "      <th>AB</th>\n",
       "      <th>R</th>\n",
       "      <th>H</th>\n",
       "      <th>2B</th>\n",
       "      <th>3B</th>\n",
       "      <th>HR</th>\n",
       "      <th>RBI</th>\n",
       "      <th>BB</th>\n",
       "      <th>SO</th>\n",
       "      <th>SB</th>\n",
       "      <th>CS</th>\n",
       "      <th>BA</th>\n",
       "    </tr>\n",
       "  </thead>\n",
       "  <tbody>\n",
       "    <tr>\n",
       "      <th>0</th>\n",
       "      <td>24</td>\n",
       "      <td>3035</td>\n",
       "      <td>11434</td>\n",
       "      <td>2246</td>\n",
       "      <td>4189</td>\n",
       "      <td>724</td>\n",
       "      <td>295</td>\n",
       "      <td>117</td>\n",
       "      <td>726</td>\n",
       "      <td>1249</td>\n",
       "      <td>357</td>\n",
       "      <td>892</td>\n",
       "      <td>178</td>\n",
       "      <td>0.366</td>\n",
       "    </tr>\n",
       "    <tr>\n",
       "      <th>1</th>\n",
       "      <td>22</td>\n",
       "      <td>3026</td>\n",
       "      <td>10972</td>\n",
       "      <td>1949</td>\n",
       "      <td>3630</td>\n",
       "      <td>725</td>\n",
       "      <td>177</td>\n",
       "      <td>475</td>\n",
       "      <td>1951</td>\n",
       "      <td>1599</td>\n",
       "      <td>696</td>\n",
       "      <td>78</td>\n",
       "      <td>31</td>\n",
       "      <td>0.331</td>\n",
       "    </tr>\n",
       "    <tr>\n",
       "      <th>2</th>\n",
       "      <td>22</td>\n",
       "      <td>2789</td>\n",
       "      <td>10195</td>\n",
       "      <td>1882</td>\n",
       "      <td>3514</td>\n",
       "      <td>792</td>\n",
       "      <td>222</td>\n",
       "      <td>117</td>\n",
       "      <td>724</td>\n",
       "      <td>1381</td>\n",
       "      <td>220</td>\n",
       "      <td>432</td>\n",
       "      <td>129</td>\n",
       "      <td>0.345</td>\n",
       "    </tr>\n",
       "    <tr>\n",
       "      <th>3</th>\n",
       "      <td>20</td>\n",
       "      <td>2747</td>\n",
       "      <td>11195</td>\n",
       "      <td>1923</td>\n",
       "      <td>3465</td>\n",
       "      <td>544</td>\n",
       "      <td>66</td>\n",
       "      <td>260</td>\n",
       "      <td>1311</td>\n",
       "      <td>1082</td>\n",
       "      <td>1840</td>\n",
       "      <td>358</td>\n",
       "      <td>97</td>\n",
       "      <td>0.310</td>\n",
       "    </tr>\n",
       "    <tr>\n",
       "      <th>4</th>\n",
       "      <td>21</td>\n",
       "      <td>2792</td>\n",
       "      <td>10430</td>\n",
       "      <td>1736</td>\n",
       "      <td>3430</td>\n",
       "      <td>640</td>\n",
       "      <td>252</td>\n",
       "      <td>101</td>\n",
       "      <td>0</td>\n",
       "      <td>963</td>\n",
       "      <td>327</td>\n",
       "      <td>722</td>\n",
       "      <td>15</td>\n",
       "      <td>0.329</td>\n",
       "    </tr>\n",
       "  </tbody>\n",
       "</table>\n",
       "</div>"
      ],
      "text/plain": [
       "   YRS     G     AB     R     H   2B   3B   HR   RBI    BB    SO   SB   CS  \\\n",
       "0   24  3035  11434  2246  4189  724  295  117   726  1249   357  892  178   \n",
       "1   22  3026  10972  1949  3630  725  177  475  1951  1599   696   78   31   \n",
       "2   22  2789  10195  1882  3514  792  222  117   724  1381   220  432  129   \n",
       "3   20  2747  11195  1923  3465  544   66  260  1311  1082  1840  358   97   \n",
       "4   21  2792  10430  1736  3430  640  252  101     0   963   327  722   15   \n",
       "\n",
       "      BA  \n",
       "0  0.366  \n",
       "1  0.331  \n",
       "2  0.345  \n",
       "3  0.310  \n",
       "4  0.329  "
      ]
     },
     "execution_count": 10,
     "metadata": {},
     "output_type": "execute_result"
    }
   ],
   "source": [
    "X.head()"
   ]
  },
  {
   "cell_type": "code",
   "execution_count": 12,
   "id": "53aa3f1f",
   "metadata": {},
   "outputs": [
    {
     "data": {
      "text/plain": [
       "(465, 14)"
      ]
     },
     "execution_count": 12,
     "metadata": {},
     "output_type": "execute_result"
    }
   ],
   "source": [
    "X.shape"
   ]
  },
  {
   "cell_type": "code",
   "execution_count": 13,
   "id": "ca8d0cba",
   "metadata": {},
   "outputs": [
    {
     "data": {
      "text/plain": [
       "(465,)"
      ]
     },
     "execution_count": 13,
     "metadata": {},
     "output_type": "execute_result"
    }
   ],
   "source": [
    "y.shape"
   ]
  },
  {
   "cell_type": "code",
   "execution_count": 14,
   "id": "4433e1df",
   "metadata": {},
   "outputs": [],
   "source": [
    "X_train, X_test, y_train, y_test = train_test_split(X, y, test_size = 0.2, random_state= 45)"
   ]
  },
  {
   "cell_type": "code",
   "execution_count": 17,
   "id": "eaff6281",
   "metadata": {},
   "outputs": [
    {
     "data": {
      "text/plain": [
       "(372, 14)"
      ]
     },
     "metadata": {},
     "output_type": "display_data"
    },
    {
     "data": {
      "text/plain": [
       "(93, 14)"
      ]
     },
     "metadata": {},
     "output_type": "display_data"
    }
   ],
   "source": [
    "display(X_train.shape)\n",
    "display(X_test.shape)"
   ]
  },
  {
   "cell_type": "code",
   "execution_count": 18,
   "id": "5db4240f",
   "metadata": {},
   "outputs": [
    {
     "data": {
      "text/plain": [
       "(372,)"
      ]
     },
     "metadata": {},
     "output_type": "display_data"
    },
    {
     "data": {
      "text/plain": [
       "(93,)"
      ]
     },
     "metadata": {},
     "output_type": "display_data"
    }
   ],
   "source": [
    "display(y_train.shape)\n",
    "display(y_test.shape)"
   ]
  },
  {
   "cell_type": "code",
   "execution_count": 20,
   "id": "cf7b4e68",
   "metadata": {},
   "outputs": [
    {
     "data": {
      "application/vnd.microsoft.datawrangler.viewer.v0+json": {
       "columns": [
        {
         "name": "index",
         "rawType": "object",
         "type": "string"
        },
        {
         "name": "YRS",
         "rawType": "float64",
         "type": "float"
        },
        {
         "name": "G",
         "rawType": "float64",
         "type": "float"
        },
        {
         "name": "AB",
         "rawType": "float64",
         "type": "float"
        },
        {
         "name": "R",
         "rawType": "float64",
         "type": "float"
        },
        {
         "name": "H",
         "rawType": "float64",
         "type": "float"
        },
        {
         "name": "2B",
         "rawType": "float64",
         "type": "float"
        },
        {
         "name": "3B",
         "rawType": "float64",
         "type": "float"
        },
        {
         "name": "HR",
         "rawType": "float64",
         "type": "float"
        },
        {
         "name": "RBI",
         "rawType": "float64",
         "type": "float"
        },
        {
         "name": "BB",
         "rawType": "float64",
         "type": "float"
        },
        {
         "name": "SO",
         "rawType": "float64",
         "type": "float"
        },
        {
         "name": "SB",
         "rawType": "float64",
         "type": "float"
        },
        {
         "name": "CS",
         "rawType": "float64",
         "type": "float"
        },
        {
         "name": "BA",
         "rawType": "float64",
         "type": "float"
        }
       ],
       "ref": "15bfb670-095c-4b83-ad8c-db8af99f43e0",
       "rows": [
        [
         "count",
         "372.0",
         "372.0",
         "372.0",
         "372.0",
         "372.0",
         "372.0",
         "372.0",
         "372.0",
         "372.0",
         "372.0",
         "372.0",
         "372.0",
         "372.0",
         "372.0"
        ],
        [
         "mean",
         "17.1",
         "2050.55",
         "7508.85",
         "1152.03",
         "2171.93",
         "382.65",
         "77.45",
         "206.37",
         "920.2",
         "790.01",
         "867.63",
         "193.59",
         "60.11",
         "0.29"
        ],
        [
         "std",
         "2.77",
         "355.82",
         "1301.63",
         "297.92",
         "425.26",
         "95.98",
         "48.28",
         "145.65",
         "476.29",
         "327.31",
         "485.97",
         "184.43",
         "48.79",
         "0.02"
        ],
        [
         "min",
         "11.0",
         "1331.0",
         "4981.0",
         "601.0",
         "1660.0",
         "177.0",
         "3.0",
         "9.0",
         "0.0",
         "239.0",
         "0.0",
         "7.0",
         "0.0",
         "0.25"
        ],
        [
         "25%",
         "15.0",
         "1801.75",
         "6519.75",
         "933.25",
         "1837.0",
         "312.0",
         "39.0",
         "83.0",
         "686.0",
         "548.0",
         "465.0",
         "62.75",
         "26.75",
         "0.27"
        ],
        [
         "50%",
         "17.0",
         "1992.0",
         "7261.5",
         "1108.5",
         "2085.5",
         "366.0",
         "67.0",
         "187.0",
         "978.5",
         "736.0",
         "848.0",
         "135.5",
         "55.0",
         "0.29"
        ],
        [
         "75%",
         "19.0",
         "2229.5",
         "8144.0",
         "1287.5",
         "2375.0",
         "440.0",
         "105.5",
         "299.25",
         "1207.5",
         "949.5",
         "1237.25",
         "275.0",
         "86.25",
         "0.3"
        ],
        [
         "max",
         "26.0",
         "3308.0",
         "12364.0",
         "2295.0",
         "4189.0",
         "792.0",
         "295.0",
         "755.0",
         "2297.0",
         "2190.0",
         "2597.0",
         "1406.0",
         "335.0",
         "0.37"
        ]
       ],
       "shape": {
        "columns": 14,
        "rows": 8
       }
      },
      "text/html": [
       "<div>\n",
       "<style scoped>\n",
       "    .dataframe tbody tr th:only-of-type {\n",
       "        vertical-align: middle;\n",
       "    }\n",
       "\n",
       "    .dataframe tbody tr th {\n",
       "        vertical-align: top;\n",
       "    }\n",
       "\n",
       "    .dataframe thead th {\n",
       "        text-align: right;\n",
       "    }\n",
       "</style>\n",
       "<table border=\"1\" class=\"dataframe\">\n",
       "  <thead>\n",
       "    <tr style=\"text-align: right;\">\n",
       "      <th></th>\n",
       "      <th>YRS</th>\n",
       "      <th>G</th>\n",
       "      <th>AB</th>\n",
       "      <th>R</th>\n",
       "      <th>H</th>\n",
       "      <th>2B</th>\n",
       "      <th>3B</th>\n",
       "      <th>HR</th>\n",
       "      <th>RBI</th>\n",
       "      <th>BB</th>\n",
       "      <th>SO</th>\n",
       "      <th>SB</th>\n",
       "      <th>CS</th>\n",
       "      <th>BA</th>\n",
       "    </tr>\n",
       "  </thead>\n",
       "  <tbody>\n",
       "    <tr>\n",
       "      <th>count</th>\n",
       "      <td>372.00</td>\n",
       "      <td>372.00</td>\n",
       "      <td>372.00</td>\n",
       "      <td>372.00</td>\n",
       "      <td>372.00</td>\n",
       "      <td>372.00</td>\n",
       "      <td>372.00</td>\n",
       "      <td>372.00</td>\n",
       "      <td>372.00</td>\n",
       "      <td>372.00</td>\n",
       "      <td>372.00</td>\n",
       "      <td>372.00</td>\n",
       "      <td>372.00</td>\n",
       "      <td>372.00</td>\n",
       "    </tr>\n",
       "    <tr>\n",
       "      <th>mean</th>\n",
       "      <td>17.10</td>\n",
       "      <td>2050.55</td>\n",
       "      <td>7508.85</td>\n",
       "      <td>1152.03</td>\n",
       "      <td>2171.93</td>\n",
       "      <td>382.65</td>\n",
       "      <td>77.45</td>\n",
       "      <td>206.37</td>\n",
       "      <td>920.20</td>\n",
       "      <td>790.01</td>\n",
       "      <td>867.63</td>\n",
       "      <td>193.59</td>\n",
       "      <td>60.11</td>\n",
       "      <td>0.29</td>\n",
       "    </tr>\n",
       "    <tr>\n",
       "      <th>std</th>\n",
       "      <td>2.77</td>\n",
       "      <td>355.82</td>\n",
       "      <td>1301.63</td>\n",
       "      <td>297.92</td>\n",
       "      <td>425.26</td>\n",
       "      <td>95.98</td>\n",
       "      <td>48.28</td>\n",
       "      <td>145.65</td>\n",
       "      <td>476.29</td>\n",
       "      <td>327.31</td>\n",
       "      <td>485.97</td>\n",
       "      <td>184.43</td>\n",
       "      <td>48.79</td>\n",
       "      <td>0.02</td>\n",
       "    </tr>\n",
       "    <tr>\n",
       "      <th>min</th>\n",
       "      <td>11.00</td>\n",
       "      <td>1331.00</td>\n",
       "      <td>4981.00</td>\n",
       "      <td>601.00</td>\n",
       "      <td>1660.00</td>\n",
       "      <td>177.00</td>\n",
       "      <td>3.00</td>\n",
       "      <td>9.00</td>\n",
       "      <td>0.00</td>\n",
       "      <td>239.00</td>\n",
       "      <td>0.00</td>\n",
       "      <td>7.00</td>\n",
       "      <td>0.00</td>\n",
       "      <td>0.25</td>\n",
       "    </tr>\n",
       "    <tr>\n",
       "      <th>25%</th>\n",
       "      <td>15.00</td>\n",
       "      <td>1801.75</td>\n",
       "      <td>6519.75</td>\n",
       "      <td>933.25</td>\n",
       "      <td>1837.00</td>\n",
       "      <td>312.00</td>\n",
       "      <td>39.00</td>\n",
       "      <td>83.00</td>\n",
       "      <td>686.00</td>\n",
       "      <td>548.00</td>\n",
       "      <td>465.00</td>\n",
       "      <td>62.75</td>\n",
       "      <td>26.75</td>\n",
       "      <td>0.27</td>\n",
       "    </tr>\n",
       "    <tr>\n",
       "      <th>50%</th>\n",
       "      <td>17.00</td>\n",
       "      <td>1992.00</td>\n",
       "      <td>7261.50</td>\n",
       "      <td>1108.50</td>\n",
       "      <td>2085.50</td>\n",
       "      <td>366.00</td>\n",
       "      <td>67.00</td>\n",
       "      <td>187.00</td>\n",
       "      <td>978.50</td>\n",
       "      <td>736.00</td>\n",
       "      <td>848.00</td>\n",
       "      <td>135.50</td>\n",
       "      <td>55.00</td>\n",
       "      <td>0.29</td>\n",
       "    </tr>\n",
       "    <tr>\n",
       "      <th>75%</th>\n",
       "      <td>19.00</td>\n",
       "      <td>2229.50</td>\n",
       "      <td>8144.00</td>\n",
       "      <td>1287.50</td>\n",
       "      <td>2375.00</td>\n",
       "      <td>440.00</td>\n",
       "      <td>105.50</td>\n",
       "      <td>299.25</td>\n",
       "      <td>1207.50</td>\n",
       "      <td>949.50</td>\n",
       "      <td>1237.25</td>\n",
       "      <td>275.00</td>\n",
       "      <td>86.25</td>\n",
       "      <td>0.30</td>\n",
       "    </tr>\n",
       "    <tr>\n",
       "      <th>max</th>\n",
       "      <td>26.00</td>\n",
       "      <td>3308.00</td>\n",
       "      <td>12364.00</td>\n",
       "      <td>2295.00</td>\n",
       "      <td>4189.00</td>\n",
       "      <td>792.00</td>\n",
       "      <td>295.00</td>\n",
       "      <td>755.00</td>\n",
       "      <td>2297.00</td>\n",
       "      <td>2190.00</td>\n",
       "      <td>2597.00</td>\n",
       "      <td>1406.00</td>\n",
       "      <td>335.00</td>\n",
       "      <td>0.37</td>\n",
       "    </tr>\n",
       "  </tbody>\n",
       "</table>\n",
       "</div>"
      ],
      "text/plain": [
       "          YRS        G        AB        R        H      2B      3B      HR  \\\n",
       "count  372.00   372.00    372.00   372.00   372.00  372.00  372.00  372.00   \n",
       "mean    17.10  2050.55   7508.85  1152.03  2171.93  382.65   77.45  206.37   \n",
       "std      2.77   355.82   1301.63   297.92   425.26   95.98   48.28  145.65   \n",
       "min     11.00  1331.00   4981.00   601.00  1660.00  177.00    3.00    9.00   \n",
       "25%     15.00  1801.75   6519.75   933.25  1837.00  312.00   39.00   83.00   \n",
       "50%     17.00  1992.00   7261.50  1108.50  2085.50  366.00   67.00  187.00   \n",
       "75%     19.00  2229.50   8144.00  1287.50  2375.00  440.00  105.50  299.25   \n",
       "max     26.00  3308.00  12364.00  2295.00  4189.00  792.00  295.00  755.00   \n",
       "\n",
       "           RBI       BB       SO       SB      CS      BA  \n",
       "count   372.00   372.00   372.00   372.00  372.00  372.00  \n",
       "mean    920.20   790.01   867.63   193.59   60.11    0.29  \n",
       "std     476.29   327.31   485.97   184.43   48.79    0.02  \n",
       "min       0.00   239.00     0.00     7.00    0.00    0.25  \n",
       "25%     686.00   548.00   465.00    62.75   26.75    0.27  \n",
       "50%     978.50   736.00   848.00   135.50   55.00    0.29  \n",
       "75%    1207.50   949.50  1237.25   275.00   86.25    0.30  \n",
       "max    2297.00  2190.00  2597.00  1406.00  335.00    0.37  "
      ]
     },
     "metadata": {},
     "output_type": "display_data"
    },
    {
     "data": {
      "application/vnd.microsoft.datawrangler.viewer.v0+json": {
       "columns": [
        {
         "name": "index",
         "rawType": "object",
         "type": "string"
        },
        {
         "name": "HOF",
         "rawType": "float64",
         "type": "float"
        }
       ],
       "ref": "7d1574fa-61be-4379-9a56-f97e068178c2",
       "rows": [
        [
         "count",
         "372.0"
        ],
        [
         "mean",
         "0.347"
        ],
        [
         "std",
         "0.482"
        ],
        [
         "min",
         "0.0"
        ],
        [
         "25%",
         "0.0"
        ],
        [
         "50%",
         "0.0"
        ],
        [
         "75%",
         "1.0"
        ],
        [
         "max",
         "2.0"
        ]
       ],
       "shape": {
        "columns": 1,
        "rows": 8
       }
      },
      "text/plain": [
       "count    372.000\n",
       "mean       0.347\n",
       "std        0.482\n",
       "min        0.000\n",
       "25%        0.000\n",
       "50%        0.000\n",
       "75%        1.000\n",
       "max        2.000\n",
       "Name: HOF, dtype: float64"
      ]
     },
     "metadata": {},
     "output_type": "display_data"
    }
   ],
   "source": [
    "display(X_train.describe().round(2))\n",
    "display(y_train.describe().round(3))"
   ]
  },
  {
   "cell_type": "code",
   "execution_count": 21,
   "id": "ac8eeafc",
   "metadata": {},
   "outputs": [
    {
     "data": {
      "application/vnd.microsoft.datawrangler.viewer.v0+json": {
       "columns": [
        {
         "name": "index",
         "rawType": "object",
         "type": "string"
        },
        {
         "name": "YRS",
         "rawType": "float64",
         "type": "float"
        },
        {
         "name": "G",
         "rawType": "float64",
         "type": "float"
        },
        {
         "name": "AB",
         "rawType": "float64",
         "type": "float"
        },
        {
         "name": "R",
         "rawType": "float64",
         "type": "float"
        },
        {
         "name": "H",
         "rawType": "float64",
         "type": "float"
        },
        {
         "name": "2B",
         "rawType": "float64",
         "type": "float"
        },
        {
         "name": "3B",
         "rawType": "float64",
         "type": "float"
        },
        {
         "name": "HR",
         "rawType": "float64",
         "type": "float"
        },
        {
         "name": "RBI",
         "rawType": "float64",
         "type": "float"
        },
        {
         "name": "BB",
         "rawType": "float64",
         "type": "float"
        },
        {
         "name": "SO",
         "rawType": "float64",
         "type": "float"
        },
        {
         "name": "SB",
         "rawType": "float64",
         "type": "float"
        },
        {
         "name": "CS",
         "rawType": "float64",
         "type": "float"
        },
        {
         "name": "BA",
         "rawType": "float64",
         "type": "float"
        }
       ],
       "ref": "12dfe8e6-3b68-4dfc-aa4a-ddb913c2c6f6",
       "rows": [
        [
         "count",
         "93.0",
         "93.0",
         "93.0",
         "93.0",
         "93.0",
         "93.0",
         "93.0",
         "93.0",
         "93.0",
         "93.0",
         "93.0",
         "93.0",
         "93.0",
         "93.0"
        ],
        [
         "mean",
         "16.84",
         "2041.3",
         "7521.86",
         "1143.44",
         "2163.52",
         "374.15",
         "82.98",
         "179.75",
         "790.48",
         "757.78",
         "766.83",
         "205.17",
         "49.98",
         "0.29"
        ],
        [
         "std",
         "2.76",
         "350.44",
         "1270.22",
         "255.15",
         "422.1",
         "98.69",
         "53.52",
         "133.85",
         "513.6",
         "328.43",
         "496.5",
         "171.75",
         "44.18",
         "0.02"
        ],
        [
         "min",
         "12.0",
         "1437.0",
         "5603.0",
         "651.0",
         "1661.0",
         "182.0",
         "11.0",
         "16.0",
         "0.0",
         "276.0",
         "14.0",
         "14.0",
         "0.0",
         "0.25"
        ],
        [
         "25%",
         "15.0",
         "1802.0",
         "6527.0",
         "954.0",
         "1839.0",
         "311.0",
         "47.0",
         "67.0",
         "527.0",
         "510.0",
         "327.0",
         "67.0",
         "15.0",
         "0.27"
        ],
        [
         "50%",
         "17.0",
         "1993.0",
         "7147.0",
         "1083.0",
         "2061.0",
         "368.0",
         "69.0",
         "144.0",
         "885.0",
         "719.0",
         "741.0",
         "167.0",
         "41.0",
         "0.29"
        ],
        [
         "75%",
         "19.0",
         "2323.0",
         "8498.0",
         "1320.0",
         "2383.0",
         "425.0",
         "109.0",
         "264.0",
         "1195.0",
         "966.0",
         "1125.0",
         "302.0",
         "79.0",
         "0.3"
        ],
        [
         "max",
         "25.0",
         "2968.0",
         "11008.0",
         "1774.0",
         "3430.0",
         "657.0",
         "309.0",
         "548.0",
         "1704.0",
         "1865.0",
         "2003.0",
         "739.0",
         "178.0",
         "0.34"
        ]
       ],
       "shape": {
        "columns": 14,
        "rows": 8
       }
      },
      "text/html": [
       "<div>\n",
       "<style scoped>\n",
       "    .dataframe tbody tr th:only-of-type {\n",
       "        vertical-align: middle;\n",
       "    }\n",
       "\n",
       "    .dataframe tbody tr th {\n",
       "        vertical-align: top;\n",
       "    }\n",
       "\n",
       "    .dataframe thead th {\n",
       "        text-align: right;\n",
       "    }\n",
       "</style>\n",
       "<table border=\"1\" class=\"dataframe\">\n",
       "  <thead>\n",
       "    <tr style=\"text-align: right;\">\n",
       "      <th></th>\n",
       "      <th>YRS</th>\n",
       "      <th>G</th>\n",
       "      <th>AB</th>\n",
       "      <th>R</th>\n",
       "      <th>H</th>\n",
       "      <th>2B</th>\n",
       "      <th>3B</th>\n",
       "      <th>HR</th>\n",
       "      <th>RBI</th>\n",
       "      <th>BB</th>\n",
       "      <th>SO</th>\n",
       "      <th>SB</th>\n",
       "      <th>CS</th>\n",
       "      <th>BA</th>\n",
       "    </tr>\n",
       "  </thead>\n",
       "  <tbody>\n",
       "    <tr>\n",
       "      <th>count</th>\n",
       "      <td>93.00</td>\n",
       "      <td>93.00</td>\n",
       "      <td>93.00</td>\n",
       "      <td>93.00</td>\n",
       "      <td>93.00</td>\n",
       "      <td>93.00</td>\n",
       "      <td>93.00</td>\n",
       "      <td>93.00</td>\n",
       "      <td>93.00</td>\n",
       "      <td>93.00</td>\n",
       "      <td>93.00</td>\n",
       "      <td>93.00</td>\n",
       "      <td>93.00</td>\n",
       "      <td>93.00</td>\n",
       "    </tr>\n",
       "    <tr>\n",
       "      <th>mean</th>\n",
       "      <td>16.84</td>\n",
       "      <td>2041.30</td>\n",
       "      <td>7521.86</td>\n",
       "      <td>1143.44</td>\n",
       "      <td>2163.52</td>\n",
       "      <td>374.15</td>\n",
       "      <td>82.98</td>\n",
       "      <td>179.75</td>\n",
       "      <td>790.48</td>\n",
       "      <td>757.78</td>\n",
       "      <td>766.83</td>\n",
       "      <td>205.17</td>\n",
       "      <td>49.98</td>\n",
       "      <td>0.29</td>\n",
       "    </tr>\n",
       "    <tr>\n",
       "      <th>std</th>\n",
       "      <td>2.76</td>\n",
       "      <td>350.44</td>\n",
       "      <td>1270.22</td>\n",
       "      <td>255.15</td>\n",
       "      <td>422.10</td>\n",
       "      <td>98.69</td>\n",
       "      <td>53.52</td>\n",
       "      <td>133.85</td>\n",
       "      <td>513.60</td>\n",
       "      <td>328.43</td>\n",
       "      <td>496.50</td>\n",
       "      <td>171.75</td>\n",
       "      <td>44.18</td>\n",
       "      <td>0.02</td>\n",
       "    </tr>\n",
       "    <tr>\n",
       "      <th>min</th>\n",
       "      <td>12.00</td>\n",
       "      <td>1437.00</td>\n",
       "      <td>5603.00</td>\n",
       "      <td>651.00</td>\n",
       "      <td>1661.00</td>\n",
       "      <td>182.00</td>\n",
       "      <td>11.00</td>\n",
       "      <td>16.00</td>\n",
       "      <td>0.00</td>\n",
       "      <td>276.00</td>\n",
       "      <td>14.00</td>\n",
       "      <td>14.00</td>\n",
       "      <td>0.00</td>\n",
       "      <td>0.25</td>\n",
       "    </tr>\n",
       "    <tr>\n",
       "      <th>25%</th>\n",
       "      <td>15.00</td>\n",
       "      <td>1802.00</td>\n",
       "      <td>6527.00</td>\n",
       "      <td>954.00</td>\n",
       "      <td>1839.00</td>\n",
       "      <td>311.00</td>\n",
       "      <td>47.00</td>\n",
       "      <td>67.00</td>\n",
       "      <td>527.00</td>\n",
       "      <td>510.00</td>\n",
       "      <td>327.00</td>\n",
       "      <td>67.00</td>\n",
       "      <td>15.00</td>\n",
       "      <td>0.27</td>\n",
       "    </tr>\n",
       "    <tr>\n",
       "      <th>50%</th>\n",
       "      <td>17.00</td>\n",
       "      <td>1993.00</td>\n",
       "      <td>7147.00</td>\n",
       "      <td>1083.00</td>\n",
       "      <td>2061.00</td>\n",
       "      <td>368.00</td>\n",
       "      <td>69.00</td>\n",
       "      <td>144.00</td>\n",
       "      <td>885.00</td>\n",
       "      <td>719.00</td>\n",
       "      <td>741.00</td>\n",
       "      <td>167.00</td>\n",
       "      <td>41.00</td>\n",
       "      <td>0.29</td>\n",
       "    </tr>\n",
       "    <tr>\n",
       "      <th>75%</th>\n",
       "      <td>19.00</td>\n",
       "      <td>2323.00</td>\n",
       "      <td>8498.00</td>\n",
       "      <td>1320.00</td>\n",
       "      <td>2383.00</td>\n",
       "      <td>425.00</td>\n",
       "      <td>109.00</td>\n",
       "      <td>264.00</td>\n",
       "      <td>1195.00</td>\n",
       "      <td>966.00</td>\n",
       "      <td>1125.00</td>\n",
       "      <td>302.00</td>\n",
       "      <td>79.00</td>\n",
       "      <td>0.30</td>\n",
       "    </tr>\n",
       "    <tr>\n",
       "      <th>max</th>\n",
       "      <td>25.00</td>\n",
       "      <td>2968.00</td>\n",
       "      <td>11008.00</td>\n",
       "      <td>1774.00</td>\n",
       "      <td>3430.00</td>\n",
       "      <td>657.00</td>\n",
       "      <td>309.00</td>\n",
       "      <td>548.00</td>\n",
       "      <td>1704.00</td>\n",
       "      <td>1865.00</td>\n",
       "      <td>2003.00</td>\n",
       "      <td>739.00</td>\n",
       "      <td>178.00</td>\n",
       "      <td>0.34</td>\n",
       "    </tr>\n",
       "  </tbody>\n",
       "</table>\n",
       "</div>"
      ],
      "text/plain": [
       "         YRS        G        AB        R        H      2B      3B      HR  \\\n",
       "count  93.00    93.00     93.00    93.00    93.00   93.00   93.00   93.00   \n",
       "mean   16.84  2041.30   7521.86  1143.44  2163.52  374.15   82.98  179.75   \n",
       "std     2.76   350.44   1270.22   255.15   422.10   98.69   53.52  133.85   \n",
       "min    12.00  1437.00   5603.00   651.00  1661.00  182.00   11.00   16.00   \n",
       "25%    15.00  1802.00   6527.00   954.00  1839.00  311.00   47.00   67.00   \n",
       "50%    17.00  1993.00   7147.00  1083.00  2061.00  368.00   69.00  144.00   \n",
       "75%    19.00  2323.00   8498.00  1320.00  2383.00  425.00  109.00  264.00   \n",
       "max    25.00  2968.00  11008.00  1774.00  3430.00  657.00  309.00  548.00   \n",
       "\n",
       "           RBI       BB       SO      SB      CS     BA  \n",
       "count    93.00    93.00    93.00   93.00   93.00  93.00  \n",
       "mean    790.48   757.78   766.83  205.17   49.98   0.29  \n",
       "std     513.60   328.43   496.50  171.75   44.18   0.02  \n",
       "min       0.00   276.00    14.00   14.00    0.00   0.25  \n",
       "25%     527.00   510.00   327.00   67.00   15.00   0.27  \n",
       "50%     885.00   719.00   741.00  167.00   41.00   0.29  \n",
       "75%    1195.00   966.00  1125.00  302.00   79.00   0.30  \n",
       "max    1704.00  1865.00  2003.00  739.00  178.00   0.34  "
      ]
     },
     "metadata": {},
     "output_type": "display_data"
    },
    {
     "data": {
      "application/vnd.microsoft.datawrangler.viewer.v0+json": {
       "columns": [
        {
         "name": "index",
         "rawType": "object",
         "type": "string"
        },
        {
         "name": "HOF",
         "rawType": "float64",
         "type": "float"
        }
       ],
       "ref": "dcf785d9-ca0d-4b00-bda5-da72620a8b60",
       "rows": [
        [
         "count",
         "93.0"
        ],
        [
         "mean",
         "0.258"
        ],
        [
         "std",
         "0.44"
        ],
        [
         "min",
         "0.0"
        ],
        [
         "25%",
         "0.0"
        ],
        [
         "50%",
         "0.0"
        ],
        [
         "75%",
         "1.0"
        ],
        [
         "max",
         "1.0"
        ]
       ],
       "shape": {
        "columns": 1,
        "rows": 8
       }
      },
      "text/plain": [
       "count    93.000\n",
       "mean      0.258\n",
       "std       0.440\n",
       "min       0.000\n",
       "25%       0.000\n",
       "50%       0.000\n",
       "75%       1.000\n",
       "max       1.000\n",
       "Name: HOF, dtype: float64"
      ]
     },
     "metadata": {},
     "output_type": "display_data"
    }
   ],
   "source": [
    "display(X_test.describe().round(2))\n",
    "display(y_test.describe().round(3))"
   ]
  },
  {
   "cell_type": "code",
   "execution_count": null,
   "id": "f5340957",
   "metadata": {},
   "outputs": [],
   "source": []
  }
 ],
 "metadata": {
  "kernelspec": {
   "display_name": "base",
   "language": "python",
   "name": "python3"
  },
  "language_info": {
   "codemirror_mode": {
    "name": "ipython",
    "version": 3
   },
   "file_extension": ".py",
   "mimetype": "text/x-python",
   "name": "python",
   "nbconvert_exporter": "python",
   "pygments_lexer": "ipython3",
   "version": "3.12.3"
  }
 },
 "nbformat": 4,
 "nbformat_minor": 5
}
