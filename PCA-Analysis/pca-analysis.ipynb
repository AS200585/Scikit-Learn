{
 "cells": [
  {
   "cell_type": "markdown",
   "id": "de641743",
   "metadata": {},
   "source": [
    "# **PCA Analysis**\n",
    "\n",
    "PCA stands for Principal Component Analysis, a dimensionality reduction technique widely used in data analysis and machine learning. \n",
    "\n",
    "PCA Analysis is a powerful technique that helps in reducing the complexity of datasets while retaining their essential features. \n",
    "\n",
    "PCA helps us in getting rid of non-important features allow our models to run faster.\n",
    "\n",
    "It works by transforming the data into a new coordinate system, where the greatest variance lies on the first axis, the second greatest variance on the second axis, and so on. This transformation helps in visualizing and understanding the underlying structure of the data.\n",
    "\n",
    "It transforms a dataset with many variables into a smaller set of uncorrelated variables called principal components, which capture the most important variations in the data. This helps in data compression, visualization, and feature extraction.\n",
    "\n",
    "It is particularly useful when dealing with high-dimensional data, as it allows for more efficient processing and analysis.\n",
    "\n",
    "PCA is widely used in various fields, including image processing, finance, and bioinformatics, to simplify data analysis and improve model performance.\n",
    "\n",
    "It is important to note that PCA is a linear technique, meaning it assumes that the relationships between features are linear. For datasets with non-linear relationships, other techniques like t-SNE or UMAP may be more appropriate."
   ]
  },
  {
   "cell_type": "code",
   "execution_count": 112,
   "id": "54ebf6f0",
   "metadata": {},
   "outputs": [],
   "source": [
    "import pandas as pd\n",
    "import numpy as np\n",
    "from sklearn.model_selection import train_test_split"
   ]
  },
  {
   "cell_type": "code",
   "execution_count": 113,
   "id": "cdee0752",
   "metadata": {},
   "outputs": [
    {
     "name": "stdout",
     "output_type": "stream",
     "text": [
      "✅ CSV saved successfully with correct data types!\n"
     ]
    }
   ],
   "source": [
    "tables = pd.read_html(\"https://www.baseball-reference.com/leagues/majors/2022.shtml\", flavor=\"lxml\")\n",
    "team_stats = tables[0]  # Get the first table\n",
    "\n",
    "# 2. Convert columns to proper data types BEFORE saving\n",
    "numeric_cols = ['R', 'H', 'HR', 'RBI', '#Bat', 'OBP', 'SLG', 'OPS', \n",
    "                'SB', 'CS', 'BB', 'SO', 'BA', 'IBB', 'HBP', \n",
    "                'SH', 'SF', 'GDP', 'LOB', 'G']\n",
    "\n",
    "for col in numeric_cols:\n",
    "    team_stats[col] = pd.to_numeric(team_stats[col].astype(str).str.extract('([0-9.]+)')[0], errors='coerce')\n",
    "\n",
    "# 3. Now save to CSV\n",
    "team_stats.to_csv(\"mlb_batting_2022.csv\", index=False)\n",
    "print(\"✅ CSV saved successfully with correct data types!\")"
   ]
  },
  {
   "cell_type": "code",
   "execution_count": 114,
   "id": "129f9080",
   "metadata": {},
   "outputs": [
    {
     "data": {
      "application/vnd.microsoft.datawrangler.viewer.v0+json": {
       "columns": [
        {
         "name": "index",
         "rawType": "int64",
         "type": "integer"
        },
        {
         "name": "Tm",
         "rawType": "object",
         "type": "string"
        },
        {
         "name": "#Bat",
         "rawType": "float64",
         "type": "float"
        },
        {
         "name": "BatAge",
         "rawType": "object",
         "type": "string"
        },
        {
         "name": "R/G",
         "rawType": "object",
         "type": "string"
        },
        {
         "name": "G",
         "rawType": "float64",
         "type": "float"
        },
        {
         "name": "PA",
         "rawType": "object",
         "type": "string"
        },
        {
         "name": "AB",
         "rawType": "object",
         "type": "string"
        },
        {
         "name": "R",
         "rawType": "float64",
         "type": "float"
        },
        {
         "name": "H",
         "rawType": "float64",
         "type": "float"
        },
        {
         "name": "2B",
         "rawType": "object",
         "type": "string"
        },
        {
         "name": "3B",
         "rawType": "object",
         "type": "string"
        },
        {
         "name": "HR",
         "rawType": "float64",
         "type": "float"
        },
        {
         "name": "RBI",
         "rawType": "float64",
         "type": "float"
        },
        {
         "name": "SB",
         "rawType": "float64",
         "type": "float"
        },
        {
         "name": "CS",
         "rawType": "float64",
         "type": "float"
        },
        {
         "name": "BB",
         "rawType": "float64",
         "type": "float"
        },
        {
         "name": "SO",
         "rawType": "float64",
         "type": "float"
        },
        {
         "name": "BA",
         "rawType": "float64",
         "type": "float"
        },
        {
         "name": "OBP",
         "rawType": "float64",
         "type": "float"
        },
        {
         "name": "SLG",
         "rawType": "float64",
         "type": "float"
        },
        {
         "name": "OPS",
         "rawType": "float64",
         "type": "float"
        },
        {
         "name": "OPS+",
         "rawType": "object",
         "type": "string"
        },
        {
         "name": "TB",
         "rawType": "object",
         "type": "string"
        },
        {
         "name": "GDP",
         "rawType": "float64",
         "type": "float"
        },
        {
         "name": "HBP",
         "rawType": "float64",
         "type": "float"
        },
        {
         "name": "SH",
         "rawType": "float64",
         "type": "float"
        },
        {
         "name": "SF",
         "rawType": "float64",
         "type": "float"
        },
        {
         "name": "IBB",
         "rawType": "float64",
         "type": "float"
        },
        {
         "name": "LOB",
         "rawType": "float64",
         "type": "float"
        }
       ],
       "ref": "54e43cf0-600c-457b-b9f4-f8c3f9240e7c",
       "rows": [
        [
         "0",
         "Arizona Diamondbacks",
         "57.0",
         "26.5",
         "4.33",
         "162.0",
         "6027",
         "5351",
         "702.0",
         "1232.0",
         "262",
         "24",
         "173.0",
         "658.0",
         "104.0",
         "29.0",
         "531.0",
         "1341.0",
         "0.23",
         "0.304",
         "0.385",
         "0.689",
         "95",
         "2061",
         "97.0",
         "60.0",
         "31.0",
         "50.0",
         "14.0",
         "1039.0"
        ],
        [
         "1",
         "Atlanta Braves",
         "53.0",
         "27.5",
         "4.87",
         "162.0",
         "6082",
         "5509",
         "789.0",
         "1394.0",
         "298",
         "11",
         "243.0",
         "753.0",
         "87.0",
         "31.0",
         "470.0",
         "1498.0",
         "0.253",
         "0.317",
         "0.443",
         "0.761",
         "109",
         "2443",
         "103.0",
         "66.0",
         "1.0",
         "36.0",
         "13.0",
         "1030.0"
        ],
        [
         "2",
         "Baltimore Orioles",
         "58.0",
         "27.0",
         "4.16",
         "162.0",
         "6049",
         "5429",
         "674.0",
         "1281.0",
         "275",
         "25",
         "171.0",
         "639.0",
         "95.0",
         "31.0",
         "476.0",
         "1390.0",
         "0.236",
         "0.305",
         "0.39",
         "0.695",
         "99",
         "2119",
         "95.0",
         "83.0",
         "12.0",
         "43.0",
         "10.0",
         "1095.0"
        ],
        [
         "3",
         "Boston Red Sox",
         "54.0",
         "28.8",
         "4.54",
         "162.0",
         "6144",
         "5539",
         "735.0",
         "1427.0",
         "352",
         "12",
         "155.0",
         "704.0",
         "52.0",
         "20.0",
         "478.0",
         "1373.0",
         "0.258",
         "0.321",
         "0.409",
         "0.731",
         "102",
         "2268",
         "131.0",
         "63.0",
         "12.0",
         "50.0",
         "23.0",
         "1133.0"
        ],
        [
         "4",
         "Chicago Cubs",
         "64.0",
         "27.9",
         "4.06",
         "162.0",
         "6072",
         "5425",
         "657.0",
         "1293.0",
         "265",
         "31",
         "159.0",
         "620.0",
         "111.0",
         "37.0",
         "507.0",
         "1448.0",
         "0.238",
         "0.311",
         "0.387",
         "0.698",
         "94",
         "2097",
         "130.0",
         "84.0",
         "19.0",
         "36.0",
         "16.0",
         "1100.0"
        ]
       ],
       "shape": {
        "columns": 29,
        "rows": 5
       }
      },
      "text/html": [
       "<div>\n",
       "<style scoped>\n",
       "    .dataframe tbody tr th:only-of-type {\n",
       "        vertical-align: middle;\n",
       "    }\n",
       "\n",
       "    .dataframe tbody tr th {\n",
       "        vertical-align: top;\n",
       "    }\n",
       "\n",
       "    .dataframe thead th {\n",
       "        text-align: right;\n",
       "    }\n",
       "</style>\n",
       "<table border=\"1\" class=\"dataframe\">\n",
       "  <thead>\n",
       "    <tr style=\"text-align: right;\">\n",
       "      <th></th>\n",
       "      <th>Tm</th>\n",
       "      <th>#Bat</th>\n",
       "      <th>BatAge</th>\n",
       "      <th>R/G</th>\n",
       "      <th>G</th>\n",
       "      <th>PA</th>\n",
       "      <th>AB</th>\n",
       "      <th>R</th>\n",
       "      <th>H</th>\n",
       "      <th>2B</th>\n",
       "      <th>...</th>\n",
       "      <th>SLG</th>\n",
       "      <th>OPS</th>\n",
       "      <th>OPS+</th>\n",
       "      <th>TB</th>\n",
       "      <th>GDP</th>\n",
       "      <th>HBP</th>\n",
       "      <th>SH</th>\n",
       "      <th>SF</th>\n",
       "      <th>IBB</th>\n",
       "      <th>LOB</th>\n",
       "    </tr>\n",
       "  </thead>\n",
       "  <tbody>\n",
       "    <tr>\n",
       "      <th>0</th>\n",
       "      <td>Arizona Diamondbacks</td>\n",
       "      <td>57.0</td>\n",
       "      <td>26.5</td>\n",
       "      <td>4.33</td>\n",
       "      <td>162.0</td>\n",
       "      <td>6027</td>\n",
       "      <td>5351</td>\n",
       "      <td>702.0</td>\n",
       "      <td>1232.0</td>\n",
       "      <td>262</td>\n",
       "      <td>...</td>\n",
       "      <td>0.385</td>\n",
       "      <td>0.689</td>\n",
       "      <td>95</td>\n",
       "      <td>2061</td>\n",
       "      <td>97.0</td>\n",
       "      <td>60.0</td>\n",
       "      <td>31.0</td>\n",
       "      <td>50.0</td>\n",
       "      <td>14.0</td>\n",
       "      <td>1039.0</td>\n",
       "    </tr>\n",
       "    <tr>\n",
       "      <th>1</th>\n",
       "      <td>Atlanta Braves</td>\n",
       "      <td>53.0</td>\n",
       "      <td>27.5</td>\n",
       "      <td>4.87</td>\n",
       "      <td>162.0</td>\n",
       "      <td>6082</td>\n",
       "      <td>5509</td>\n",
       "      <td>789.0</td>\n",
       "      <td>1394.0</td>\n",
       "      <td>298</td>\n",
       "      <td>...</td>\n",
       "      <td>0.443</td>\n",
       "      <td>0.761</td>\n",
       "      <td>109</td>\n",
       "      <td>2443</td>\n",
       "      <td>103.0</td>\n",
       "      <td>66.0</td>\n",
       "      <td>1.0</td>\n",
       "      <td>36.0</td>\n",
       "      <td>13.0</td>\n",
       "      <td>1030.0</td>\n",
       "    </tr>\n",
       "    <tr>\n",
       "      <th>2</th>\n",
       "      <td>Baltimore Orioles</td>\n",
       "      <td>58.0</td>\n",
       "      <td>27.0</td>\n",
       "      <td>4.16</td>\n",
       "      <td>162.0</td>\n",
       "      <td>6049</td>\n",
       "      <td>5429</td>\n",
       "      <td>674.0</td>\n",
       "      <td>1281.0</td>\n",
       "      <td>275</td>\n",
       "      <td>...</td>\n",
       "      <td>0.390</td>\n",
       "      <td>0.695</td>\n",
       "      <td>99</td>\n",
       "      <td>2119</td>\n",
       "      <td>95.0</td>\n",
       "      <td>83.0</td>\n",
       "      <td>12.0</td>\n",
       "      <td>43.0</td>\n",
       "      <td>10.0</td>\n",
       "      <td>1095.0</td>\n",
       "    </tr>\n",
       "    <tr>\n",
       "      <th>3</th>\n",
       "      <td>Boston Red Sox</td>\n",
       "      <td>54.0</td>\n",
       "      <td>28.8</td>\n",
       "      <td>4.54</td>\n",
       "      <td>162.0</td>\n",
       "      <td>6144</td>\n",
       "      <td>5539</td>\n",
       "      <td>735.0</td>\n",
       "      <td>1427.0</td>\n",
       "      <td>352</td>\n",
       "      <td>...</td>\n",
       "      <td>0.409</td>\n",
       "      <td>0.731</td>\n",
       "      <td>102</td>\n",
       "      <td>2268</td>\n",
       "      <td>131.0</td>\n",
       "      <td>63.0</td>\n",
       "      <td>12.0</td>\n",
       "      <td>50.0</td>\n",
       "      <td>23.0</td>\n",
       "      <td>1133.0</td>\n",
       "    </tr>\n",
       "    <tr>\n",
       "      <th>4</th>\n",
       "      <td>Chicago Cubs</td>\n",
       "      <td>64.0</td>\n",
       "      <td>27.9</td>\n",
       "      <td>4.06</td>\n",
       "      <td>162.0</td>\n",
       "      <td>6072</td>\n",
       "      <td>5425</td>\n",
       "      <td>657.0</td>\n",
       "      <td>1293.0</td>\n",
       "      <td>265</td>\n",
       "      <td>...</td>\n",
       "      <td>0.387</td>\n",
       "      <td>0.698</td>\n",
       "      <td>94</td>\n",
       "      <td>2097</td>\n",
       "      <td>130.0</td>\n",
       "      <td>84.0</td>\n",
       "      <td>19.0</td>\n",
       "      <td>36.0</td>\n",
       "      <td>16.0</td>\n",
       "      <td>1100.0</td>\n",
       "    </tr>\n",
       "  </tbody>\n",
       "</table>\n",
       "<p>5 rows × 29 columns</p>\n",
       "</div>"
      ],
      "text/plain": [
       "                     Tm  #Bat BatAge   R/G      G    PA    AB      R       H  \\\n",
       "0  Arizona Diamondbacks  57.0   26.5  4.33  162.0  6027  5351  702.0  1232.0   \n",
       "1        Atlanta Braves  53.0   27.5  4.87  162.0  6082  5509  789.0  1394.0   \n",
       "2     Baltimore Orioles  58.0   27.0  4.16  162.0  6049  5429  674.0  1281.0   \n",
       "3        Boston Red Sox  54.0   28.8  4.54  162.0  6144  5539  735.0  1427.0   \n",
       "4          Chicago Cubs  64.0   27.9  4.06  162.0  6072  5425  657.0  1293.0   \n",
       "\n",
       "    2B  ...    SLG    OPS  OPS+    TB    GDP   HBP    SH    SF   IBB     LOB  \n",
       "0  262  ...  0.385  0.689    95  2061   97.0  60.0  31.0  50.0  14.0  1039.0  \n",
       "1  298  ...  0.443  0.761   109  2443  103.0  66.0   1.0  36.0  13.0  1030.0  \n",
       "2  275  ...  0.390  0.695    99  2119   95.0  83.0  12.0  43.0  10.0  1095.0  \n",
       "3  352  ...  0.409  0.731   102  2268  131.0  63.0  12.0  50.0  23.0  1133.0  \n",
       "4  265  ...  0.387  0.698    94  2097  130.0  84.0  19.0  36.0  16.0  1100.0  \n",
       "\n",
       "[5 rows x 29 columns]"
      ]
     },
     "metadata": {},
     "output_type": "display_data"
    }
   ],
   "source": [
    "df = pd.read_csv('mlb_batting_2022.csv')\n",
    "\n",
    "display(df.head())"
   ]
  },
  {
   "cell_type": "code",
   "execution_count": 115,
   "id": "7a06a264",
   "metadata": {},
   "outputs": [
    {
     "data": {
      "text/plain": [
       "Index(['Tm', '#Bat', 'BatAge', 'R/G', 'G', 'PA', 'AB', 'R', 'H', '2B', '3B',\n",
       "       'HR', 'RBI', 'SB', 'CS', 'BB', 'SO', 'BA', 'OBP', 'SLG', 'OPS', 'OPS+',\n",
       "       'TB', 'GDP', 'HBP', 'SH', 'SF', 'IBB', 'LOB'],\n",
       "      dtype='object')"
      ]
     },
     "execution_count": 115,
     "metadata": {},
     "output_type": "execute_result"
    }
   ],
   "source": [
    "df.columns"
   ]
  },
  {
   "cell_type": "code",
   "execution_count": 116,
   "id": "8241ce9f",
   "metadata": {},
   "outputs": [],
   "source": [
    "df.drop(columns=['Tm'], axis=1, inplace=True)"
   ]
  },
  {
   "cell_type": "code",
   "execution_count": 117,
   "id": "679b3a78",
   "metadata": {},
   "outputs": [],
   "source": [
    "# Handle missing values - either impute or drop\n",
    "df = df.dropna()  # or use SimpleImputer\n",
    "\n",
    "# Convert remaining object columns to numeric\n",
    "object_cols = ['BatAge', 'R/G', 'PA', 'AB', '2B', '3B', 'OPS+', 'TB']\n",
    "for col in object_cols:\n",
    "    df[col] = pd.to_numeric(df[col].astype(str).str.extract('([0-9.]+)')[0], errors='coerce')"
   ]
  },
  {
   "cell_type": "code",
   "execution_count": 118,
   "id": "ec5617a3",
   "metadata": {},
   "outputs": [
    {
     "data": {
      "application/vnd.microsoft.datawrangler.viewer.v0+json": {
       "columns": [
        {
         "name": "index",
         "rawType": "int64",
         "type": "integer"
        },
        {
         "name": "#Bat",
         "rawType": "float64",
         "type": "float"
        },
        {
         "name": "BatAge",
         "rawType": "float64",
         "type": "float"
        },
        {
         "name": "R/G",
         "rawType": "float64",
         "type": "float"
        },
        {
         "name": "G",
         "rawType": "float64",
         "type": "float"
        },
        {
         "name": "PA",
         "rawType": "int64",
         "type": "integer"
        },
        {
         "name": "AB",
         "rawType": "int64",
         "type": "integer"
        },
        {
         "name": "R",
         "rawType": "float64",
         "type": "float"
        },
        {
         "name": "H",
         "rawType": "float64",
         "type": "float"
        },
        {
         "name": "2B",
         "rawType": "int64",
         "type": "integer"
        },
        {
         "name": "3B",
         "rawType": "int64",
         "type": "integer"
        },
        {
         "name": "HR",
         "rawType": "float64",
         "type": "float"
        },
        {
         "name": "RBI",
         "rawType": "float64",
         "type": "float"
        },
        {
         "name": "SB",
         "rawType": "float64",
         "type": "float"
        },
        {
         "name": "CS",
         "rawType": "float64",
         "type": "float"
        },
        {
         "name": "BB",
         "rawType": "float64",
         "type": "float"
        },
        {
         "name": "SO",
         "rawType": "float64",
         "type": "float"
        },
        {
         "name": "BA",
         "rawType": "float64",
         "type": "float"
        },
        {
         "name": "OBP",
         "rawType": "float64",
         "type": "float"
        },
        {
         "name": "SLG",
         "rawType": "float64",
         "type": "float"
        },
        {
         "name": "OPS",
         "rawType": "float64",
         "type": "float"
        },
        {
         "name": "OPS+",
         "rawType": "int64",
         "type": "integer"
        },
        {
         "name": "TB",
         "rawType": "int64",
         "type": "integer"
        },
        {
         "name": "GDP",
         "rawType": "float64",
         "type": "float"
        },
        {
         "name": "HBP",
         "rawType": "float64",
         "type": "float"
        },
        {
         "name": "SH",
         "rawType": "float64",
         "type": "float"
        },
        {
         "name": "SF",
         "rawType": "float64",
         "type": "float"
        },
        {
         "name": "IBB",
         "rawType": "float64",
         "type": "float"
        },
        {
         "name": "LOB",
         "rawType": "float64",
         "type": "float"
        }
       ],
       "ref": "e9700673-b25c-4707-b512-c907373018d0",
       "rows": [
        [
         "0",
         "57.0",
         "26.5",
         "4.33",
         "162.0",
         "6027",
         "5351",
         "702.0",
         "1232.0",
         "262",
         "24",
         "173.0",
         "658.0",
         "104.0",
         "29.0",
         "531.0",
         "1341.0",
         "0.23",
         "0.304",
         "0.385",
         "0.689",
         "95",
         "2061",
         "97.0",
         "60.0",
         "31.0",
         "50.0",
         "14.0",
         "1039.0"
        ],
        [
         "1",
         "53.0",
         "27.5",
         "4.87",
         "162.0",
         "6082",
         "5509",
         "789.0",
         "1394.0",
         "298",
         "11",
         "243.0",
         "753.0",
         "87.0",
         "31.0",
         "470.0",
         "1498.0",
         "0.253",
         "0.317",
         "0.443",
         "0.761",
         "109",
         "2443",
         "103.0",
         "66.0",
         "1.0",
         "36.0",
         "13.0",
         "1030.0"
        ],
        [
         "2",
         "58.0",
         "27.0",
         "4.16",
         "162.0",
         "6049",
         "5429",
         "674.0",
         "1281.0",
         "275",
         "25",
         "171.0",
         "639.0",
         "95.0",
         "31.0",
         "476.0",
         "1390.0",
         "0.236",
         "0.305",
         "0.39",
         "0.695",
         "99",
         "2119",
         "95.0",
         "83.0",
         "12.0",
         "43.0",
         "10.0",
         "1095.0"
        ],
        [
         "3",
         "54.0",
         "28.8",
         "4.54",
         "162.0",
         "6144",
         "5539",
         "735.0",
         "1427.0",
         "352",
         "12",
         "155.0",
         "704.0",
         "52.0",
         "20.0",
         "478.0",
         "1373.0",
         "0.258",
         "0.321",
         "0.409",
         "0.731",
         "102",
         "2268",
         "131.0",
         "63.0",
         "12.0",
         "50.0",
         "23.0",
         "1133.0"
        ],
        [
         "4",
         "64.0",
         "27.9",
         "4.06",
         "162.0",
         "6072",
         "5425",
         "657.0",
         "1293.0",
         "265",
         "31",
         "159.0",
         "620.0",
         "111.0",
         "37.0",
         "507.0",
         "1448.0",
         "0.238",
         "0.311",
         "0.387",
         "0.698",
         "94",
         "2097",
         "130.0",
         "84.0",
         "19.0",
         "36.0",
         "16.0",
         "1100.0"
        ]
       ],
       "shape": {
        "columns": 28,
        "rows": 5
       }
      },
      "text/html": [
       "<div>\n",
       "<style scoped>\n",
       "    .dataframe tbody tr th:only-of-type {\n",
       "        vertical-align: middle;\n",
       "    }\n",
       "\n",
       "    .dataframe tbody tr th {\n",
       "        vertical-align: top;\n",
       "    }\n",
       "\n",
       "    .dataframe thead th {\n",
       "        text-align: right;\n",
       "    }\n",
       "</style>\n",
       "<table border=\"1\" class=\"dataframe\">\n",
       "  <thead>\n",
       "    <tr style=\"text-align: right;\">\n",
       "      <th></th>\n",
       "      <th>#Bat</th>\n",
       "      <th>BatAge</th>\n",
       "      <th>R/G</th>\n",
       "      <th>G</th>\n",
       "      <th>PA</th>\n",
       "      <th>AB</th>\n",
       "      <th>R</th>\n",
       "      <th>H</th>\n",
       "      <th>2B</th>\n",
       "      <th>3B</th>\n",
       "      <th>...</th>\n",
       "      <th>SLG</th>\n",
       "      <th>OPS</th>\n",
       "      <th>OPS+</th>\n",
       "      <th>TB</th>\n",
       "      <th>GDP</th>\n",
       "      <th>HBP</th>\n",
       "      <th>SH</th>\n",
       "      <th>SF</th>\n",
       "      <th>IBB</th>\n",
       "      <th>LOB</th>\n",
       "    </tr>\n",
       "  </thead>\n",
       "  <tbody>\n",
       "    <tr>\n",
       "      <th>0</th>\n",
       "      <td>57.0</td>\n",
       "      <td>26.5</td>\n",
       "      <td>4.33</td>\n",
       "      <td>162.0</td>\n",
       "      <td>6027</td>\n",
       "      <td>5351</td>\n",
       "      <td>702.0</td>\n",
       "      <td>1232.0</td>\n",
       "      <td>262</td>\n",
       "      <td>24</td>\n",
       "      <td>...</td>\n",
       "      <td>0.385</td>\n",
       "      <td>0.689</td>\n",
       "      <td>95</td>\n",
       "      <td>2061</td>\n",
       "      <td>97.0</td>\n",
       "      <td>60.0</td>\n",
       "      <td>31.0</td>\n",
       "      <td>50.0</td>\n",
       "      <td>14.0</td>\n",
       "      <td>1039.0</td>\n",
       "    </tr>\n",
       "    <tr>\n",
       "      <th>1</th>\n",
       "      <td>53.0</td>\n",
       "      <td>27.5</td>\n",
       "      <td>4.87</td>\n",
       "      <td>162.0</td>\n",
       "      <td>6082</td>\n",
       "      <td>5509</td>\n",
       "      <td>789.0</td>\n",
       "      <td>1394.0</td>\n",
       "      <td>298</td>\n",
       "      <td>11</td>\n",
       "      <td>...</td>\n",
       "      <td>0.443</td>\n",
       "      <td>0.761</td>\n",
       "      <td>109</td>\n",
       "      <td>2443</td>\n",
       "      <td>103.0</td>\n",
       "      <td>66.0</td>\n",
       "      <td>1.0</td>\n",
       "      <td>36.0</td>\n",
       "      <td>13.0</td>\n",
       "      <td>1030.0</td>\n",
       "    </tr>\n",
       "    <tr>\n",
       "      <th>2</th>\n",
       "      <td>58.0</td>\n",
       "      <td>27.0</td>\n",
       "      <td>4.16</td>\n",
       "      <td>162.0</td>\n",
       "      <td>6049</td>\n",
       "      <td>5429</td>\n",
       "      <td>674.0</td>\n",
       "      <td>1281.0</td>\n",
       "      <td>275</td>\n",
       "      <td>25</td>\n",
       "      <td>...</td>\n",
       "      <td>0.390</td>\n",
       "      <td>0.695</td>\n",
       "      <td>99</td>\n",
       "      <td>2119</td>\n",
       "      <td>95.0</td>\n",
       "      <td>83.0</td>\n",
       "      <td>12.0</td>\n",
       "      <td>43.0</td>\n",
       "      <td>10.0</td>\n",
       "      <td>1095.0</td>\n",
       "    </tr>\n",
       "    <tr>\n",
       "      <th>3</th>\n",
       "      <td>54.0</td>\n",
       "      <td>28.8</td>\n",
       "      <td>4.54</td>\n",
       "      <td>162.0</td>\n",
       "      <td>6144</td>\n",
       "      <td>5539</td>\n",
       "      <td>735.0</td>\n",
       "      <td>1427.0</td>\n",
       "      <td>352</td>\n",
       "      <td>12</td>\n",
       "      <td>...</td>\n",
       "      <td>0.409</td>\n",
       "      <td>0.731</td>\n",
       "      <td>102</td>\n",
       "      <td>2268</td>\n",
       "      <td>131.0</td>\n",
       "      <td>63.0</td>\n",
       "      <td>12.0</td>\n",
       "      <td>50.0</td>\n",
       "      <td>23.0</td>\n",
       "      <td>1133.0</td>\n",
       "    </tr>\n",
       "    <tr>\n",
       "      <th>4</th>\n",
       "      <td>64.0</td>\n",
       "      <td>27.9</td>\n",
       "      <td>4.06</td>\n",
       "      <td>162.0</td>\n",
       "      <td>6072</td>\n",
       "      <td>5425</td>\n",
       "      <td>657.0</td>\n",
       "      <td>1293.0</td>\n",
       "      <td>265</td>\n",
       "      <td>31</td>\n",
       "      <td>...</td>\n",
       "      <td>0.387</td>\n",
       "      <td>0.698</td>\n",
       "      <td>94</td>\n",
       "      <td>2097</td>\n",
       "      <td>130.0</td>\n",
       "      <td>84.0</td>\n",
       "      <td>19.0</td>\n",
       "      <td>36.0</td>\n",
       "      <td>16.0</td>\n",
       "      <td>1100.0</td>\n",
       "    </tr>\n",
       "  </tbody>\n",
       "</table>\n",
       "<p>5 rows × 28 columns</p>\n",
       "</div>"
      ],
      "text/plain": [
       "   #Bat  BatAge   R/G      G    PA    AB      R       H   2B  3B  ...    SLG  \\\n",
       "0  57.0    26.5  4.33  162.0  6027  5351  702.0  1232.0  262  24  ...  0.385   \n",
       "1  53.0    27.5  4.87  162.0  6082  5509  789.0  1394.0  298  11  ...  0.443   \n",
       "2  58.0    27.0  4.16  162.0  6049  5429  674.0  1281.0  275  25  ...  0.390   \n",
       "3  54.0    28.8  4.54  162.0  6144  5539  735.0  1427.0  352  12  ...  0.409   \n",
       "4  64.0    27.9  4.06  162.0  6072  5425  657.0  1293.0  265  31  ...  0.387   \n",
       "\n",
       "     OPS  OPS+    TB    GDP   HBP    SH    SF   IBB     LOB  \n",
       "0  0.689    95  2061   97.0  60.0  31.0  50.0  14.0  1039.0  \n",
       "1  0.761   109  2443  103.0  66.0   1.0  36.0  13.0  1030.0  \n",
       "2  0.695    99  2119   95.0  83.0  12.0  43.0  10.0  1095.0  \n",
       "3  0.731   102  2268  131.0  63.0  12.0  50.0  23.0  1133.0  \n",
       "4  0.698    94  2097  130.0  84.0  19.0  36.0  16.0  1100.0  \n",
       "\n",
       "[5 rows x 28 columns]"
      ]
     },
     "execution_count": 118,
     "metadata": {},
     "output_type": "execute_result"
    }
   ],
   "source": [
    "df.head()"
   ]
  },
  {
   "cell_type": "code",
   "execution_count": 119,
   "id": "561f62e2",
   "metadata": {},
   "outputs": [
    {
     "data": {
      "text/plain": [
       "Index(['#Bat', 'BatAge', 'R/G', 'G', 'PA', 'AB', 'R', 'H', '2B', '3B', 'HR',\n",
       "       'RBI', 'SB', 'CS', 'BB', 'SO', 'BA', 'OBP', 'SLG', 'OPS', 'OPS+', 'TB',\n",
       "       'GDP', 'HBP', 'SH', 'SF', 'IBB', 'LOB'],\n",
       "      dtype='object')"
      ]
     },
     "execution_count": 119,
     "metadata": {},
     "output_type": "execute_result"
    }
   ],
   "source": [
    "df.columns"
   ]
  },
  {
   "cell_type": "code",
   "execution_count": 120,
   "id": "a2f48fad",
   "metadata": {},
   "outputs": [
    {
     "name": "stdout",
     "output_type": "stream",
     "text": [
      "#Bat      float64\n",
      "BatAge    float64\n",
      "R/G       float64\n",
      "G         float64\n",
      "PA          int64\n",
      "AB          int64\n",
      "R         float64\n",
      "H         float64\n",
      "2B          int64\n",
      "3B          int64\n",
      "HR        float64\n",
      "RBI       float64\n",
      "SB        float64\n",
      "CS        float64\n",
      "BB        float64\n",
      "SO        float64\n",
      "BA        float64\n",
      "OBP       float64\n",
      "SLG       float64\n",
      "OPS       float64\n",
      "OPS+        int64\n",
      "TB          int64\n",
      "GDP       float64\n",
      "HBP       float64\n",
      "SH        float64\n",
      "SF        float64\n",
      "IBB       float64\n",
      "LOB       float64\n",
      "dtype: object\n"
     ]
    }
   ],
   "source": [
    "print(df.dtypes)"
   ]
  },
  {
   "cell_type": "code",
   "execution_count": 121,
   "id": "e3124891",
   "metadata": {},
   "outputs": [],
   "source": [
    "X = df.iloc[:, 27]\n",
    "y = df.iloc[:, 27]"
   ]
  },
  {
   "cell_type": "code",
   "execution_count": 122,
   "id": "d8cd9431",
   "metadata": {},
   "outputs": [],
   "source": [
    "X_train, X_test, y_train, y_test = train_test_split(X, y, test_size=0.2, random_state=39)"
   ]
  },
  {
   "cell_type": "code",
   "execution_count": 123,
   "id": "1a2c9971",
   "metadata": {},
   "outputs": [
    {
     "name": "stdout",
     "output_type": "stream",
     "text": [
      "[7.48743568e-01 1.92133379e-01 3.30075388e-02 1.48990802e-02\n",
      " 5.86098076e-03 2.96283554e-03 1.55417194e-03 3.57569098e-04\n",
      " 1.38888705e-04 1.26875382e-04 1.01792620e-04 3.92476884e-05\n",
      " 3.43646947e-05 1.37237041e-05 1.03463297e-05 7.81027275e-06\n",
      " 5.75956472e-06 1.15959897e-06 7.55233167e-07 8.35880850e-08\n",
      " 3.74155009e-08 2.38151580e-08 5.58264007e-09 1.95676225e-09\n",
      " 1.33437638e-10 5.94146466e-11 1.85395906e-11 1.10499775e-12]\n"
     ]
    }
   ],
   "source": [
    "from sklearn.preprocessing import StandardScaler\n",
    "from sklearn.decomposition import PCA\n",
    "\n",
    "# Select all numeric features for PCA\n",
    "numeric_features = df.select_dtypes(include=['float64', 'int64']).columns\n",
    "X = df[numeric_features]\n",
    "\n",
    "# Scale data\n",
    "scaler = StandardScaler()\n",
    "X_scaled = scaler.fit_transform(X)\n",
    "\n",
    "# Apply PCA\n",
    "pca = PCA()\n",
    "pca.fit(X_scaled)\n",
    "\n",
    "# Examine explained variance\n",
    "print(pca.explained_variance_ratio_)"
   ]
  },
  {
   "cell_type": "markdown",
   "id": "1c9f037e",
   "metadata": {},
   "source": [
    "**Variance ratio**\n",
    "\n",
    "Variance ratio is the percentage of variance explained by each principal component.\n",
    "\n",
    "It helps to understand how much information each component retains.\n",
    "\n",
    "The sum of all variance ratios should equal 1 (or 100%).\n",
    "\n",
    "Variance ratio is useful for determining how many components to keep.\n",
    "\n",
    "For example, if the first two components explain 95% of the variance, you might choose to keep only those two components.\n",
    "\n",
    "This is often done to reduce dimensionality while retaining most of the information.\n",
    "\n",
    "The variance ratio can be accessed using the `explained_variance_ratio_` attribute of the PCA object."
   ]
  },
  {
   "cell_type": "code",
   "execution_count": 126,
   "id": "f5228bfb",
   "metadata": {},
   "outputs": [
    {
     "data": {
      "text/plain": [
       "<matplotlib.legend.Legend at 0x1ac5d858e00>"
      ]
     },
     "execution_count": 126,
     "metadata": {},
     "output_type": "execute_result"
    },
    {
     "data": {
      "image/png": "[encoded data removed]",
      "text/plain": [
       "<Figure size 640x480 with 1 Axes>"
      ]
     },
     "metadata": {},
     "output_type": "display_data"
    }
   ],
   "source": [
    "import matplotlib.pyplot as plt\n",
    "\n",
    "plt.bar(range(1, len(pca.explained_variance_ratio_) + 1), pca.explained_variance_ratio_)\n",
    "plt.xlabel('Principal Component')\n",
    "plt.ylabel('Variance Explained')\n",
    "plt.plot(range(1, len(pca.explained_variance_ratio_) + 1), \n",
    "         np.cumsum(pca.explained_variance_ratio_), \n",
    "         marker='o', color='r', label=\"Cumulative Explained Variance\")\n",
    "plt.legend(loc='upper left')"
   ]
  },
  {
   "cell_type": "code",
   "execution_count": 127,
   "id": "e7aacb23",
   "metadata": {},
   "outputs": [
    {
     "data": {
      "image/png": "[encoded data removed]",
      "text/plain": [
       "<Figure size 640x480 with 1 Axes>"
      ]
     },
     "metadata": {},
     "output_type": "display_data"
    }
   ],
   "source": [
    "plt.plot(pca.explained_variance_ratio_, marker='o')\n",
    "plt.xlabel('Total Components')\n",
    "plt.ylabel('Cumulative Explained Variance')\n",
    "plt.grid()\n",
    "plt.show()"
   ]
  },
  {
   "cell_type": "code",
   "execution_count": 133,
   "id": "9d3fbc21",
   "metadata": {},
   "outputs": [
    {
     "data": {
      "text/plain": [
       "array([[-0.76271267, -1.39936027],\n",
       "       [-0.83654128,  2.89168152],\n",
       "       [-0.82447078, -0.94509046],\n",
       "       [-0.80815313,  1.78225893],\n",
       "       [-0.74491568, -0.8903784 ],\n",
       "       [-0.91551547,  0.11431849],\n",
       "       [-0.87946688, -1.98905453],\n",
       "       [-0.69475565,  0.04195218],\n",
       "       [-0.86065055,  0.38687159],\n",
       "       [-0.95931018, -4.57828505],\n",
       "       [-0.83559151,  2.2724861 ],\n",
       "       [-0.81513581, -1.40014424],\n",
       "       [-0.78412245, -1.84956457],\n",
       "       [-0.74833105,  4.59971293],\n",
       "       [-0.91525318, -3.29105673],\n",
       "       [-0.77305044,  0.80947545],\n",
       "       [-0.86438845,  0.683994  ],\n",
       "       [-0.70827089,  3.2089662 ],\n",
       "       [-0.71181281,  2.97640367],\n",
       "       [-0.92901182, -5.07865464],\n",
       "       [-0.7964966 ,  2.0438173 ],\n",
       "       [-0.8530842 , -3.97840652],\n",
       "       [-0.81522325,  0.05079141],\n",
       "       [-0.80715869, -0.2122355 ],\n",
       "       [-0.8366894 ,  0.15412946],\n",
       "       [-0.80966083,  2.74563369],\n",
       "       [-0.87193534, -1.09545497],\n",
       "       [-0.83760131, -0.69094635],\n",
       "       [-0.81774604,  3.62041801],\n",
       "       [-0.84659307, -0.93232549],\n",
       "       [-0.82738009,  0.04861993],\n",
       "       [25.49102952, -0.10057313]])"
      ]
     },
     "execution_count": 133,
     "metadata": {},
     "output_type": "execute_result"
    }
   ],
   "source": [
    "pca2 = PCA(0.90) # Retain 90% of variance\n",
    "X_pca2 = pca2.fit_transform(X_scaled)\n",
    "X_pca2"
   ]
  },
  {
   "cell_type": "code",
   "execution_count": 134,
   "id": "39b14786",
   "metadata": {},
   "outputs": [
    {
     "data": {
      "text/plain": [
       "(32, 2)"
      ]
     },
     "execution_count": 134,
     "metadata": {},
     "output_type": "execute_result"
    }
   ],
   "source": [
    "X_pca2.shape"
   ]
  },
  {
   "cell_type": "code",
   "execution_count": 135,
   "id": "ad4d11d3",
   "metadata": {},
   "outputs": [
    {
     "data": {
      "text/plain": [
       "array([0.74874357, 0.19213338])"
      ]
     },
     "execution_count": 135,
     "metadata": {},
     "output_type": "execute_result"
    }
   ],
   "source": [
    "pca2.explained_variance_ratio_"
   ]
  },
  {
   "cell_type": "code",
   "execution_count": 136,
   "id": "c8b8eae1",
   "metadata": {},
   "outputs": [],
   "source": [
    "pca2c = PCA(n_components=2)  # Retain 2 components\n",
    "X_pca2c = pca2c.fit_transform(X_scaled)"
   ]
  },
  {
   "cell_type": "code",
   "execution_count": 137,
   "id": "a0ebfa06",
   "metadata": {},
   "outputs": [
    {
     "data": {
      "text/plain": [
       "array([[-0.76271267, -1.39936027],\n",
       "       [-0.83654128,  2.89168152],\n",
       "       [-0.82447078, -0.94509046],\n",
       "       [-0.80815313,  1.78225893],\n",
       "       [-0.74491568, -0.8903784 ],\n",
       "       [-0.91551547,  0.11431849],\n",
       "       [-0.87946688, -1.98905453],\n",
       "       [-0.69475565,  0.04195218],\n",
       "       [-0.86065055,  0.38687159],\n",
       "       [-0.95931018, -4.57828505],\n",
       "       [-0.83559151,  2.2724861 ],\n",
       "       [-0.81513581, -1.40014424],\n",
       "       [-0.78412245, -1.84956457],\n",
       "       [-0.74833105,  4.59971293],\n",
       "       [-0.91525318, -3.29105673],\n",
       "       [-0.77305044,  0.80947545],\n",
       "       [-0.86438845,  0.683994  ],\n",
       "       [-0.70827089,  3.2089662 ],\n",
       "       [-0.71181281,  2.97640367],\n",
       "       [-0.92901182, -5.07865464],\n",
       "       [-0.7964966 ,  2.0438173 ],\n",
       "       [-0.8530842 , -3.97840652],\n",
       "       [-0.81522325,  0.05079141],\n",
       "       [-0.80715869, -0.2122355 ],\n",
       "       [-0.8366894 ,  0.15412946],\n",
       "       [-0.80966083,  2.74563369],\n",
       "       [-0.87193534, -1.09545497],\n",
       "       [-0.83760131, -0.69094635],\n",
       "       [-0.81774604,  3.62041801],\n",
       "       [-0.84659307, -0.93232549],\n",
       "       [-0.82738009,  0.04861993],\n",
       "       [25.49102952, -0.10057313]])"
      ]
     },
     "execution_count": 137,
     "metadata": {},
     "output_type": "execute_result"
    }
   ],
   "source": [
    "X_pca2c"
   ]
  },
  {
   "cell_type": "code",
   "execution_count": 138,
   "id": "ff8d3171",
   "metadata": {},
   "outputs": [
    {
     "data": {
      "text/plain": [
       "(32, 2)"
      ]
     },
     "execution_count": 138,
     "metadata": {},
     "output_type": "execute_result"
    }
   ],
   "source": [
    "X_pca2c.shape"
   ]
  },
  {
   "cell_type": "code",
   "execution_count": 140,
   "id": "dbd22edf",
   "metadata": {},
   "outputs": [
    {
     "data": {
      "text/plain": [
       "array([0.74874357, 0.19213338])"
      ]
     },
     "execution_count": 140,
     "metadata": {},
     "output_type": "execute_result"
    }
   ],
   "source": [
    "pca2c.explained_variance_ratio_"
   ]
  },
  {
   "cell_type": "code",
   "execution_count": 142,
   "id": "21b4ff44",
   "metadata": {},
   "outputs": [],
   "source": [
    "colormap = plt.get_cmap('viridis')"
   ]
  },
  {
   "cell_type": "code",
   "execution_count": 144,
   "id": "df44451d",
   "metadata": {},
   "outputs": [
    {
     "data": {
      "image/png": "[encoded data removed]",
      "text/plain": [
       "<Figure size 1000x1000 with 2 Axes>"
      ]
     },
     "metadata": {},
     "output_type": "display_data"
    }
   ],
   "source": [
    "plt.figure(figsize=(10, 10))\n",
    "scatter = plt.scatter(X_pca2c[:, 0], X_pca2c[:, 1],\n",
    "                    c=df['R'], cmap=colormap, alpha=0.7)\n",
    "plt.xlabel('Principal Component Analysis(PCA) 1')\n",
    "plt.ylabel('Principal Component Analysis 2')\n",
    "plt.title('PCA of MLB Batting Stats (2022)')\n",
    "plt.colorbar(scatter, label='Runs (R)')\n",
    "plt.show()"
   ]
  },
  {
   "cell_type": "code",
   "execution_count": 146,
   "id": "136fb1e7",
   "metadata": {},
   "outputs": [
    {
     "data": {
      "text/plain": [
       "array([[-7.62712673e-01, -1.39936027e+00, -1.25539961e+00],\n",
       "       [-8.36541278e-01,  2.89168152e+00, -1.03615212e+00],\n",
       "       [-8.24470784e-01, -9.45090458e-01, -9.56225136e-01],\n",
       "       [-8.08153127e-01,  1.78225893e+00,  2.62847181e-01],\n",
       "       [-7.44915678e-01, -8.90378396e-01, -1.04839084e-01],\n",
       "       [-9.15515471e-01,  1.14318487e-01,  8.91128606e-01],\n",
       "       [-8.79466878e-01, -1.98905453e+00,  1.46910658e+00],\n",
       "       [-6.94755645e-01,  4.19521809e-02, -2.19681735e+00],\n",
       "       [-8.60650550e-01,  3.86871595e-01,  7.87883813e-01],\n",
       "       [-9.59310185e-01, -4.57828505e+00,  3.25546998e-01],\n",
       "       [-8.35591514e-01,  2.27248610e+00,  6.46366210e-01],\n",
       "       [-8.15135809e-01, -1.40014424e+00, -8.49012364e-01],\n",
       "       [-7.84122455e-01, -1.84956457e+00, -2.01794410e-02],\n",
       "       [-7.48331047e-01,  4.59971293e+00,  6.73811009e-01],\n",
       "       [-9.15253183e-01, -3.29105673e+00,  1.12029709e+00],\n",
       "       [-7.73050442e-01,  8.09475450e-01,  7.97286915e-01],\n",
       "       [-8.64388450e-01,  6.83993998e-01, -1.32842059e+00],\n",
       "       [-7.08270895e-01,  3.20896620e+00,  8.56574166e-01],\n",
       "       [-7.11812811e-01,  2.97640367e+00,  1.50412204e+00],\n",
       "       [-9.29011824e-01, -5.07865464e+00,  8.37681261e-01],\n",
       "       [-7.96496601e-01,  2.04381730e+00, -4.29052588e-01],\n",
       "       [-8.53084200e-01, -3.97840652e+00, -1.10403361e+00],\n",
       "       [-8.15223251e-01,  5.07914144e-02,  1.31495340e-02],\n",
       "       [-8.07158693e-01, -2.12235501e-01, -5.58643977e-01],\n",
       "       [-8.36689397e-01,  1.54129458e-01,  1.71862005e+00],\n",
       "       [-8.09660831e-01,  2.74563369e+00,  1.42624662e-01],\n",
       "       [-8.71935338e-01, -1.09545497e+00, -9.59606668e-01],\n",
       "       [-8.37601305e-01, -6.90946348e-01, -6.30006215e-02],\n",
       "       [-8.17746044e-01,  3.62041801e+00, -1.63353417e+00],\n",
       "       [-8.46593067e-01, -9.32325493e-01,  4.43283318e-01],\n",
       "       [-8.27380093e-01,  4.86199271e-02, -9.18706789e-03],\n",
       "       [ 2.54910295e+01, -1.00573134e-01,  1.37749543e-02]])"
      ]
     },
     "execution_count": 146,
     "metadata": {},
     "output_type": "execute_result"
    }
   ],
   "source": [
    "pca3c = PCA(n_components=3) \n",
    "X_pca3c = pca3c.fit_transform(X_scaled)\n",
    "X_pca3c"
   ]
  },
  {
   "cell_type": "code",
   "execution_count": 147,
   "id": "46217cbb",
   "metadata": {},
   "outputs": [
    {
     "data": {
      "text/plain": [
       "(32, 3)"
      ]
     },
     "execution_count": 147,
     "metadata": {},
     "output_type": "execute_result"
    }
   ],
   "source": [
    "X_pca3c.shape"
   ]
  },
  {
   "cell_type": "code",
   "execution_count": 148,
   "id": "81232a9a",
   "metadata": {},
   "outputs": [
    {
     "data": {
      "text/plain": [
       "array([0.74874357, 0.19213338, 0.03300754])"
      ]
     },
     "execution_count": 148,
     "metadata": {},
     "output_type": "execute_result"
    }
   ],
   "source": [
    "pca3c.explained_variance_ratio_"
   ]
  },
  {
   "cell_type": "code",
   "execution_count": 151,
   "id": "f172247e",
   "metadata": {},
   "outputs": [
    {
     "data": {
      "image/png": "[encoded data removed]",
      "text/plain": [
       "<Figure size 1000x1000 with 2 Axes>"
      ]
     },
     "metadata": {},
     "output_type": "display_data"
    }
   ],
   "source": [
    "plt.figure(figsize=(10, 10))\n",
    "scatter = plt.scatter(X_pca3c[:, 0], X_pca3c[:, 1],\n",
    "                    c=df['R'], cmap=\"hsv\", alpha=0.7)\n",
    "plt.xlabel('Principal Component Analysis(PCA) 2')\n",
    "plt.ylabel('Principal Component Analysis 3')\n",
    "plt.title('PCA of MLB Batting Stats (2022)')\n",
    "plt.colorbar(scatter, label='Runs (R)')\n",
    "plt.show()"
   ]
  },
  {
   "cell_type": "code",
   "execution_count": null,
   "id": "ea01b769",
   "metadata": {},
   "outputs": [],
   "source": []
  }
 ],
 "metadata": {
  "kernelspec": {
   "display_name": "base",
   "language": "python",
   "name": "python3"
  },
  "language_info": {
   "codemirror_mode": {
    "name": "ipython",
    "version": 3
   },
   "file_extension": ".py",
   "mimetype": "text/x-python",
   "name": "python",
   "nbconvert_exporter": "python",
   "pygments_lexer": "ipython3",
   "version": "3.12.3"
  }
 },
 "nbformat": 4,
 "nbformat_minor": 5
}
