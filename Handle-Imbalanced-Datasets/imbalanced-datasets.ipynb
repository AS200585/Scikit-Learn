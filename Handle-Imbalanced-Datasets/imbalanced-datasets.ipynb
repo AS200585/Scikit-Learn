{
 "cells": [
  {
   "cell_type": "markdown",
   "id": "7e76c4c7",
   "metadata": {},
   "source": [
    "# **Class Imbalance**\n",
    "\n",
    "Class Imbalance occurs when classes in a dataset are not represented equally.\n",
    "One class(majority) dominates while another(minority) has fewer samples.\n",
    "\n",
    "Class imbalance is a common issue in machine learning, particularly in classification tasks. \n",
    "It can lead to biased models that perform poorly on the minority class. \n",
    "\n",
    "Techniques such as resampling, using different evaluation metrics, and employing specialized algorithms can help address this issue.\n",
    "\n",
    "Our goal is to create a balanced training dataset (eg., aiming for a 50:50 ratio) for better model performance.\n",
    "\n",
    "Common metrics for evaluating the performance of a model are accuracy, precision, recall, F1 score, confusion matrix.\n",
    "Accuracy score never helps in evaluating the performance of a model when the dataset is imbalanced.\n",
    "Precison and recall are the most important metrics for evaluating the performance of a model when the dataset is imbalanced.\n",
    "\n",
    "**Problems with imbalanced datasets:**\n",
    "1. Class imbalance can lead to biased models that favor the majority class.\n",
    "2. It can result in poor generalization to the minority class.\n",
    "3. Evaluation metrics like accuracy can be misleading in imbalanced scenarios.\n",
    "4. It can cause overfitting to the majority class.\n",
    "5. It can lead to under-representation of the minority class in the model's predictions.\n",
    "6. It can complicate the training process, requiring more sophisticated techniques to handle the imbalance.\n",
    "7. It can result in longer training times due to the need for specialized handling of imbalanced data.\n",
    "8. It can lead to a lack of diversity in the model's learned features.\n",
    "\n",
    "\n",
    "Ways to fix class imbalance in a dataset:\n",
    "- Oversampling the minority class - this involves duplicating examples from the minority class to balance the dataset. Oversampling can however lead to overfitting, especially if the synthetic samples are too similar to the original ones. It is important to balance the dataset without introducing too much noise.\n",
    "- Undersampling the majority class - this involves removing examples from the majority class to balance the dataset. Undersampling can however lead to loss of important information, especially if the dataset is small or if the minority class is significantly underrepresented. It is often used in conjunction with other techniques such as oversampling the minority class or using algorithms that are robust to class imbalance.\n",
    "- Using synthetic data generation techniques like SMOTE (Synthetic Minority Over-sampling Technique) to create synthetic examples of the minority class.\n",
    "- Using class weights in the loss function to give more importance to the minority class during training.   \n",
    "- Using ensemble methods like Random Forest or Gradient Boosting that can handle class imbalance better than single classifiers.\n",
    "- Using anomaly detection techniques to treat the minority class as anomalies and train a model to detect them.\n",
    "- Using cost-sensitive learning where the model is penalized more for misclassifying the minority class.\n",
    "- Using stratified sampling to ensure that each class is represented proportionally in training and validation sets.\n",
    "- Using data augmentation techniques to artificially increase the size of the minority class by applying transformations like rotation, scaling, or flipping to existing examples.\n",
    "- Using transfer learning to leverage pre-trained models that may have learned features relevant to the minority class.\n",
    "- Using focal loss instead of standard cross-entropy loss to focus more on hard-to-classify examples, which are often from the minority class."
   ]
  },
  {
   "cell_type": "code",
   "execution_count": 18,
   "id": "d4098d7c",
   "metadata": {},
   "outputs": [
    {
     "name": "stdout",
     "output_type": "stream",
     "text": [
      "Total transactions (samples): 284807\n",
      "\n",
      "Class distribution:\n",
      "Class\n",
      "0    284315\n",
      "1       492\n",
      "Name: count, dtype: int64\n",
      "\n",
      "Fraud rate: 0.173%\n"
     ]
    }
   ],
   "source": [
    "import numpy as np\n",
    "import pandas as pd\n",
    "import matplotlib.pyplot as plt\n",
    "import seaborn as sns\n",
    "from sklearn.model_selection import train_test_split\n",
    "from sklearn.ensemble import RandomForestClassifier\n",
    "from sklearn.metrics import classification_report, confusion_matrix\n",
    "from imblearn.over_sampling import SMOTE, RandomOverSampler, ADASYN\n",
    "from imblearn.under_sampling import RandomUnderSampler, EditedNearestNeighbours\n",
    "\n",
    "# Load the dataset\n",
    "df = pd.read_csv('creditcard.csv')\n",
    "\n",
    "# Total number of transactions\n",
    "print(\"Total transactions (samples):\", df.shape[0])\n",
    "\n",
    "# Check class distribution\n",
    "print(\"\\nClass distribution:\")\n",
    "print(df['Class'].value_counts())\n",
    "\n",
    "# Get fraud percentage\n",
    "fraud_rate = (df['Class'].value_counts()[1] / df.shape[0]) * 100\n",
    "print(f\"\\nFraud rate: {fraud_rate:.3f}%\")\n"
   ]
  },
  {
   "cell_type": "code",
   "execution_count": 19,
   "id": "99d6bddb",
   "metadata": {},
   "outputs": [
    {
     "name": "stdout",
     "output_type": "stream",
     "text": [
      "<class 'pandas.core.frame.DataFrame'>\n",
      "RangeIndex: 284807 entries, 0 to 284806\n",
      "Data columns (total 31 columns):\n",
      " #   Column  Non-Null Count   Dtype  \n",
      "---  ------  --------------   -----  \n",
      " 0   Time    284807 non-null  float64\n",
      " 1   V1      284807 non-null  float64\n",
      " 2   V2      284807 non-null  float64\n",
      " 3   V3      284807 non-null  float64\n",
      " 4   V4      284807 non-null  float64\n",
      " 5   V5      284807 non-null  float64\n",
      " 6   V6      284807 non-null  float64\n",
      " 7   V7      284807 non-null  float64\n",
      " 8   V8      284807 non-null  float64\n",
      " 9   V9      284807 non-null  float64\n",
      " 10  V10     284807 non-null  float64\n",
      " 11  V11     284807 non-null  float64\n",
      " 12  V12     284807 non-null  float64\n",
      " 13  V13     284807 non-null  float64\n",
      " 14  V14     284807 non-null  float64\n",
      " 15  V15     284807 non-null  float64\n",
      " 16  V16     284807 non-null  float64\n",
      " 17  V17     284807 non-null  float64\n",
      " 18  V18     284807 non-null  float64\n",
      " 19  V19     284807 non-null  float64\n",
      " 20  V20     284807 non-null  float64\n",
      " 21  V21     284807 non-null  float64\n",
      " 22  V22     284807 non-null  float64\n",
      " 23  V23     284807 non-null  float64\n",
      " 24  V24     284807 non-null  float64\n",
      " 25  V25     284807 non-null  float64\n",
      " 26  V26     284807 non-null  float64\n",
      " 27  V27     284807 non-null  float64\n",
      " 28  V28     284807 non-null  float64\n",
      " 29  Amount  284807 non-null  float64\n",
      " 30  Class   284807 non-null  int64  \n",
      "dtypes: float64(30), int64(1)\n",
      "memory usage: 67.4 MB\n",
      "None\n"
     ]
    }
   ],
   "source": [
    "print(df.info())"
   ]
  },
  {
   "cell_type": "code",
   "execution_count": 20,
   "id": "d36362cf",
   "metadata": {},
   "outputs": [],
   "source": [
    "# Downcast float columns (e.g., float64 -> float32)\n",
    "for col in df.select_dtypes(include=['float64']).columns:\n",
    "    df[col] = pd.to_numeric(df[col], downcast='float')\n",
    "\n",
    "# Downcast integer columns (e.g., int64 -> int32)\n",
    "for col in df.select_dtypes(include=['int64']).columns:\n",
    "    df[col] = pd.to_numeric(df[col], downcast='integer')"
   ]
  },
  {
   "cell_type": "code",
   "execution_count": 21,
   "id": "ce3a3274",
   "metadata": {},
   "outputs": [
    {
     "name": "stdout",
     "output_type": "stream",
     "text": [
      "\n",
      "Data types after downcasting:\n",
      "Time      float32\n",
      "V1        float32\n",
      "V2        float32\n",
      "V3        float32\n",
      "V4        float32\n",
      "V5        float32\n",
      "V6        float32\n",
      "V7        float32\n",
      "V8        float32\n",
      "V9        float32\n",
      "V10       float32\n",
      "V11       float32\n",
      "V12       float32\n",
      "V13       float32\n",
      "V14       float32\n",
      "V15       float32\n",
      "V16       float32\n",
      "V17       float32\n",
      "V18       float32\n",
      "V19       float32\n",
      "V20       float32\n",
      "V21       float32\n",
      "V22       float32\n",
      "V23       float32\n",
      "V24       float32\n",
      "V25       float32\n",
      "V26       float32\n",
      "V27       float32\n",
      "V28       float32\n",
      "Amount    float64\n",
      "Class        int8\n",
      "dtype: object\n",
      "<class 'pandas.core.frame.DataFrame'>\n",
      "RangeIndex: 284807 entries, 0 to 284806\n",
      "Data columns (total 31 columns):\n",
      " #   Column  Non-Null Count   Dtype  \n",
      "---  ------  --------------   -----  \n",
      " 0   Time    284807 non-null  float32\n",
      " 1   V1      284807 non-null  float32\n",
      " 2   V2      284807 non-null  float32\n",
      " 3   V3      284807 non-null  float32\n",
      " 4   V4      284807 non-null  float32\n",
      " 5   V5      284807 non-null  float32\n",
      " 6   V6      284807 non-null  float32\n",
      " 7   V7      284807 non-null  float32\n",
      " 8   V8      284807 non-null  float32\n",
      " 9   V9      284807 non-null  float32\n",
      " 10  V10     284807 non-null  float32\n",
      " 11  V11     284807 non-null  float32\n",
      " 12  V12     284807 non-null  float32\n",
      " 13  V13     284807 non-null  float32\n",
      " 14  V14     284807 non-null  float32\n",
      " 15  V15     284807 non-null  float32\n",
      " 16  V16     284807 non-null  float32\n",
      " 17  V17     284807 non-null  float32\n",
      " 18  V18     284807 non-null  float32\n",
      " 19  V19     284807 non-null  float32\n",
      " 20  V20     284807 non-null  float32\n",
      " 21  V21     284807 non-null  float32\n",
      " 22  V22     284807 non-null  float32\n",
      " 23  V23     284807 non-null  float32\n",
      " 24  V24     284807 non-null  float32\n",
      " 25  V25     284807 non-null  float32\n",
      " 26  V26     284807 non-null  float32\n",
      " 27  V27     284807 non-null  float32\n",
      " 28  V28     284807 non-null  float32\n",
      " 29  Amount  284807 non-null  float64\n",
      " 30  Class   284807 non-null  int8   \n",
      "dtypes: float32(29), float64(1), int8(1)\n",
      "memory usage: 34.0 MB\n",
      "None\n"
     ]
    }
   ],
   "source": [
    "print(\"\\nData types after downcasting:\")\n",
    "print(df.dtypes)\n",
    "print(df.info())"
   ]
  },
  {
   "cell_type": "code",
   "execution_count": 22,
   "id": "c2b0ea71",
   "metadata": {},
   "outputs": [
    {
     "data": {
      "application/vnd.microsoft.datawrangler.viewer.v0+json": {
       "columns": [
        {
         "name": "index",
         "rawType": "int64",
         "type": "integer"
        },
        {
         "name": "Time",
         "rawType": "float32",
         "type": "float"
        },
        {
         "name": "V1",
         "rawType": "float32",
         "type": "float"
        },
        {
         "name": "V2",
         "rawType": "float32",
         "type": "float"
        },
        {
         "name": "V3",
         "rawType": "float32",
         "type": "float"
        },
        {
         "name": "V4",
         "rawType": "float32",
         "type": "float"
        },
        {
         "name": "V5",
         "rawType": "float32",
         "type": "float"
        },
        {
         "name": "V6",
         "rawType": "float32",
         "type": "float"
        },
        {
         "name": "V7",
         "rawType": "float32",
         "type": "float"
        },
        {
         "name": "V8",
         "rawType": "float32",
         "type": "float"
        },
        {
         "name": "V9",
         "rawType": "float32",
         "type": "float"
        },
        {
         "name": "V10",
         "rawType": "float32",
         "type": "float"
        },
        {
         "name": "V11",
         "rawType": "float32",
         "type": "float"
        },
        {
         "name": "V12",
         "rawType": "float32",
         "type": "float"
        },
        {
         "name": "V13",
         "rawType": "float32",
         "type": "float"
        },
        {
         "name": "V14",
         "rawType": "float32",
         "type": "float"
        },
        {
         "name": "V15",
         "rawType": "float32",
         "type": "float"
        },
        {
         "name": "V16",
         "rawType": "float32",
         "type": "float"
        },
        {
         "name": "V17",
         "rawType": "float32",
         "type": "float"
        },
        {
         "name": "V18",
         "rawType": "float32",
         "type": "float"
        },
        {
         "name": "V19",
         "rawType": "float32",
         "type": "float"
        },
        {
         "name": "V20",
         "rawType": "float32",
         "type": "float"
        },
        {
         "name": "V21",
         "rawType": "float32",
         "type": "float"
        },
        {
         "name": "V22",
         "rawType": "float32",
         "type": "float"
        },
        {
         "name": "V23",
         "rawType": "float32",
         "type": "float"
        },
        {
         "name": "V24",
         "rawType": "float32",
         "type": "float"
        },
        {
         "name": "V25",
         "rawType": "float32",
         "type": "float"
        },
        {
         "name": "V26",
         "rawType": "float32",
         "type": "float"
        },
        {
         "name": "V27",
         "rawType": "float32",
         "type": "float"
        },
        {
         "name": "V28",
         "rawType": "float32",
         "type": "float"
        },
        {
         "name": "Amount",
         "rawType": "float64",
         "type": "float"
        },
        {
         "name": "Class",
         "rawType": "int8",
         "type": "integer"
        }
       ],
       "ref": "73d4b841-c65e-4123-bcbe-369f7e0ee166",
       "rows": [
        [
         "0",
         "0.0",
         "-1.3598071",
         "-0.072781175",
         "2.5363467",
         "1.3781552",
         "-0.33832076",
         "0.46238777",
         "0.23959856",
         "0.0986979",
         "0.36378697",
         "0.09079417",
         "-0.55159956",
         "-0.61780083",
         "-0.9913899",
         "-0.31116936",
         "1.468177",
         "-0.4704005",
         "0.20797125",
         "0.02579058",
         "0.40399295",
         "0.2514121",
         "-0.018306779",
         "0.27783757",
         "-0.11047391",
         "0.066928074",
         "0.12853935",
         "-0.18911484",
         "0.13355838",
         "-0.021053053",
         "149.62",
         "0"
        ],
        [
         "1",
         "0.0",
         "1.1918571",
         "0.2661507",
         "0.16648011",
         "0.4481541",
         "0.06001765",
         "-0.08236081",
         "-0.07880298",
         "0.08510166",
         "-0.25542513",
         "-0.16697441",
         "1.6127267",
         "1.0652353",
         "0.489095",
         "-0.14377229",
         "0.63555807",
         "0.46391705",
         "-0.11480466",
         "-0.18336128",
         "-0.14578304",
         "-0.06908313",
         "-0.22577524",
         "-0.63867193",
         "0.10128802",
         "-0.33984646",
         "0.1671704",
         "0.12589453",
         "-0.008983099",
         "0.014724169",
         "2.69",
         "0"
        ],
        [
         "2",
         "1.0",
         "-1.3583541",
         "-1.3401631",
         "1.7732093",
         "0.3797796",
         "-0.50319815",
         "1.8004994",
         "0.79146093",
         "0.24767579",
         "-1.5146543",
         "0.20764287",
         "0.62450147",
         "0.066083685",
         "0.7172927",
         "-0.16594592",
         "2.345865",
         "-2.8900833",
         "1.1099694",
         "-0.12135931",
         "-2.261857",
         "0.5249797",
         "0.24799815",
         "0.7716794",
         "0.90941226",
         "-0.6892809",
         "-0.32764184",
         "-0.13909657",
         "-0.055352796",
         "-0.059751842",
         "378.66",
         "0"
        ],
        [
         "3",
         "1.0",
         "-0.9662717",
         "-0.18522601",
         "1.7929933",
         "-0.86329126",
         "-0.010308879",
         "1.2472031",
         "0.23760894",
         "0.37743586",
         "-1.387024",
         "-0.05495192",
         "-0.22648726",
         "0.17822823",
         "0.5077569",
         "-0.28792375",
         "-0.6314181",
         "-1.0596472",
         "-0.68409276",
         "1.965775",
         "-1.232622",
         "-0.20803778",
         "-0.108300455",
         "0.005273597",
         "-0.19032052",
         "-1.1755754",
         "0.64737606",
         "-0.22192885",
         "0.06272285",
         "0.06145763",
         "123.5",
         "0"
        ],
        [
         "4",
         "2.0",
         "-1.158233",
         "0.87773675",
         "1.5487179",
         "0.40303394",
         "-0.40719336",
         "0.095921464",
         "0.59294075",
         "-0.27053267",
         "0.8177393",
         "0.7530744",
         "-0.8228429",
         "0.53819555",
         "1.3458515",
         "-1.1196698",
         "0.17512113",
         "-0.4514492",
         "-0.23703323",
         "-0.038194787",
         "0.80348694",
         "0.40854236",
         "-0.009430697",
         "0.7982785",
         "-0.13745809",
         "0.14126699",
         "-0.20600958",
         "0.5022922",
         "0.21942224",
         "0.21515314",
         "69.99",
         "0"
        ]
       ],
       "shape": {
        "columns": 31,
        "rows": 5
       }
      },
      "text/html": [
       "<div>\n",
       "<style scoped>\n",
       "    .dataframe tbody tr th:only-of-type {\n",
       "        vertical-align: middle;\n",
       "    }\n",
       "\n",
       "    .dataframe tbody tr th {\n",
       "        vertical-align: top;\n",
       "    }\n",
       "\n",
       "    .dataframe thead th {\n",
       "        text-align: right;\n",
       "    }\n",
       "</style>\n",
       "<table border=\"1\" class=\"dataframe\">\n",
       "  <thead>\n",
       "    <tr style=\"text-align: right;\">\n",
       "      <th></th>\n",
       "      <th>Time</th>\n",
       "      <th>V1</th>\n",
       "      <th>V2</th>\n",
       "      <th>V3</th>\n",
       "      <th>V4</th>\n",
       "      <th>V5</th>\n",
       "      <th>V6</th>\n",
       "      <th>V7</th>\n",
       "      <th>V8</th>\n",
       "      <th>V9</th>\n",
       "      <th>...</th>\n",
       "      <th>V21</th>\n",
       "      <th>V22</th>\n",
       "      <th>V23</th>\n",
       "      <th>V24</th>\n",
       "      <th>V25</th>\n",
       "      <th>V26</th>\n",
       "      <th>V27</th>\n",
       "      <th>V28</th>\n",
       "      <th>Amount</th>\n",
       "      <th>Class</th>\n",
       "    </tr>\n",
       "  </thead>\n",
       "  <tbody>\n",
       "    <tr>\n",
       "      <th>0</th>\n",
       "      <td>0.0</td>\n",
       "      <td>-1.359807</td>\n",
       "      <td>-0.072781</td>\n",
       "      <td>2.536347</td>\n",
       "      <td>1.378155</td>\n",
       "      <td>-0.338321</td>\n",
       "      <td>0.462388</td>\n",
       "      <td>0.239599</td>\n",
       "      <td>0.098698</td>\n",
       "      <td>0.363787</td>\n",
       "      <td>...</td>\n",
       "      <td>-0.018307</td>\n",
       "      <td>0.277838</td>\n",
       "      <td>-0.110474</td>\n",
       "      <td>0.066928</td>\n",
       "      <td>0.128539</td>\n",
       "      <td>-0.189115</td>\n",
       "      <td>0.133558</td>\n",
       "      <td>-0.021053</td>\n",
       "      <td>149.62</td>\n",
       "      <td>0</td>\n",
       "    </tr>\n",
       "    <tr>\n",
       "      <th>1</th>\n",
       "      <td>0.0</td>\n",
       "      <td>1.191857</td>\n",
       "      <td>0.266151</td>\n",
       "      <td>0.166480</td>\n",
       "      <td>0.448154</td>\n",
       "      <td>0.060018</td>\n",
       "      <td>-0.082361</td>\n",
       "      <td>-0.078803</td>\n",
       "      <td>0.085102</td>\n",
       "      <td>-0.255425</td>\n",
       "      <td>...</td>\n",
       "      <td>-0.225775</td>\n",
       "      <td>-0.638672</td>\n",
       "      <td>0.101288</td>\n",
       "      <td>-0.339846</td>\n",
       "      <td>0.167170</td>\n",
       "      <td>0.125895</td>\n",
       "      <td>-0.008983</td>\n",
       "      <td>0.014724</td>\n",
       "      <td>2.69</td>\n",
       "      <td>0</td>\n",
       "    </tr>\n",
       "    <tr>\n",
       "      <th>2</th>\n",
       "      <td>1.0</td>\n",
       "      <td>-1.358354</td>\n",
       "      <td>-1.340163</td>\n",
       "      <td>1.773209</td>\n",
       "      <td>0.379780</td>\n",
       "      <td>-0.503198</td>\n",
       "      <td>1.800499</td>\n",
       "      <td>0.791461</td>\n",
       "      <td>0.247676</td>\n",
       "      <td>-1.514654</td>\n",
       "      <td>...</td>\n",
       "      <td>0.247998</td>\n",
       "      <td>0.771679</td>\n",
       "      <td>0.909412</td>\n",
       "      <td>-0.689281</td>\n",
       "      <td>-0.327642</td>\n",
       "      <td>-0.139097</td>\n",
       "      <td>-0.055353</td>\n",
       "      <td>-0.059752</td>\n",
       "      <td>378.66</td>\n",
       "      <td>0</td>\n",
       "    </tr>\n",
       "    <tr>\n",
       "      <th>3</th>\n",
       "      <td>1.0</td>\n",
       "      <td>-0.966272</td>\n",
       "      <td>-0.185226</td>\n",
       "      <td>1.792993</td>\n",
       "      <td>-0.863291</td>\n",
       "      <td>-0.010309</td>\n",
       "      <td>1.247203</td>\n",
       "      <td>0.237609</td>\n",
       "      <td>0.377436</td>\n",
       "      <td>-1.387024</td>\n",
       "      <td>...</td>\n",
       "      <td>-0.108300</td>\n",
       "      <td>0.005274</td>\n",
       "      <td>-0.190321</td>\n",
       "      <td>-1.175575</td>\n",
       "      <td>0.647376</td>\n",
       "      <td>-0.221929</td>\n",
       "      <td>0.062723</td>\n",
       "      <td>0.061458</td>\n",
       "      <td>123.50</td>\n",
       "      <td>0</td>\n",
       "    </tr>\n",
       "    <tr>\n",
       "      <th>4</th>\n",
       "      <td>2.0</td>\n",
       "      <td>-1.158233</td>\n",
       "      <td>0.877737</td>\n",
       "      <td>1.548718</td>\n",
       "      <td>0.403034</td>\n",
       "      <td>-0.407193</td>\n",
       "      <td>0.095921</td>\n",
       "      <td>0.592941</td>\n",
       "      <td>-0.270533</td>\n",
       "      <td>0.817739</td>\n",
       "      <td>...</td>\n",
       "      <td>-0.009431</td>\n",
       "      <td>0.798279</td>\n",
       "      <td>-0.137458</td>\n",
       "      <td>0.141267</td>\n",
       "      <td>-0.206010</td>\n",
       "      <td>0.502292</td>\n",
       "      <td>0.219422</td>\n",
       "      <td>0.215153</td>\n",
       "      <td>69.99</td>\n",
       "      <td>0</td>\n",
       "    </tr>\n",
       "  </tbody>\n",
       "</table>\n",
       "<p>5 rows × 31 columns</p>\n",
       "</div>"
      ],
      "text/plain": [
       "   Time        V1        V2        V3        V4        V5        V6        V7  \\\n",
       "0   0.0 -1.359807 -0.072781  2.536347  1.378155 -0.338321  0.462388  0.239599   \n",
       "1   0.0  1.191857  0.266151  0.166480  0.448154  0.060018 -0.082361 -0.078803   \n",
       "2   1.0 -1.358354 -1.340163  1.773209  0.379780 -0.503198  1.800499  0.791461   \n",
       "3   1.0 -0.966272 -0.185226  1.792993 -0.863291 -0.010309  1.247203  0.237609   \n",
       "4   2.0 -1.158233  0.877737  1.548718  0.403034 -0.407193  0.095921  0.592941   \n",
       "\n",
       "         V8        V9  ...       V21       V22       V23       V24       V25  \\\n",
       "0  0.098698  0.363787  ... -0.018307  0.277838 -0.110474  0.066928  0.128539   \n",
       "1  0.085102 -0.255425  ... -0.225775 -0.638672  0.101288 -0.339846  0.167170   \n",
       "2  0.247676 -1.514654  ...  0.247998  0.771679  0.909412 -0.689281 -0.327642   \n",
       "3  0.377436 -1.387024  ... -0.108300  0.005274 -0.190321 -1.175575  0.647376   \n",
       "4 -0.270533  0.817739  ... -0.009431  0.798279 -0.137458  0.141267 -0.206010   \n",
       "\n",
       "        V26       V27       V28  Amount  Class  \n",
       "0 -0.189115  0.133558 -0.021053  149.62      0  \n",
       "1  0.125895 -0.008983  0.014724    2.69      0  \n",
       "2 -0.139097 -0.055353 -0.059752  378.66      0  \n",
       "3 -0.221929  0.062723  0.061458  123.50      0  \n",
       "4  0.502292  0.219422  0.215153   69.99      0  \n",
       "\n",
       "[5 rows x 31 columns]"
      ]
     },
     "execution_count": 22,
     "metadata": {},
     "output_type": "execute_result"
    }
   ],
   "source": [
    "df.head()"
   ]
  },
  {
   "cell_type": "code",
   "execution_count": 23,
   "id": "dfb9065a",
   "metadata": {},
   "outputs": [
    {
     "name": "stderr",
     "output_type": "stream",
     "text": [
      "C:\\Users\\anany\\AppData\\Local\\Temp\\ipykernel_15380\\529207907.py:2: FutureWarning: \n",
      "\n",
      "Passing `palette` without assigning `hue` is deprecated and will be removed in v0.14.0. Assign the `x` variable to `hue` and set `legend=False` for the same effect.\n",
      "\n",
      "  sns.countplot(x=\"Class\", data=df, palette=\"Set3\")\n"
     ]
    },
    {
     "data": {
      "image/png": "[encoded data removed]",
      "text/plain": [
       "<Figure size 1000x1000 with 1 Axes>"
      ]
     },
     "metadata": {},
     "output_type": "display_data"
    }
   ],
   "source": [
    "plt.figure(figsize=(10, 10))\n",
    "sns.countplot(x=\"Class\", data=df, palette=\"Set3\")\n",
    "plt.title(\"Class Distribution\")\n",
    "plt.show()"
   ]
  },
  {
   "cell_type": "code",
   "execution_count": 24,
   "id": "e0acee82",
   "metadata": {},
   "outputs": [],
   "source": [
    "X = df.drop('Class', axis=1)\n",
    "y = df[\"Class\"]"
   ]
  },
  {
   "cell_type": "code",
   "execution_count": 25,
   "id": "82e712d4",
   "metadata": {},
   "outputs": [],
   "source": [
    "# stratify ensures that the class distribution is preserved in both training and test sets\n",
    "# stratify=y ensures that the split maintains the same proportion of classes in both sets\n",
    "X_train, X_test, y_train, y_test = train_test_split(X, y, test_size=0.3, random_state=42, stratify=y)"
   ]
  },
  {
   "cell_type": "code",
   "execution_count": 26,
   "id": "e1080bab",
   "metadata": {},
   "outputs": [
    {
     "data": {
      "text/html": [
       "<style>#sk-container-id-1 {\n",
       "  /* Definition of color scheme common for light and dark mode */\n",
       "  --sklearn-color-text: black;\n",
       "  --sklearn-color-line: gray;\n",
       "  /* Definition of color scheme for unfitted estimators */\n",
       "  --sklearn-color-unfitted-level-0: #fff5e6;\n",
       "  --sklearn-color-unfitted-level-1: #f6e4d2;\n",
       "  --sklearn-color-unfitted-level-2: #ffe0b3;\n",
       "  --sklearn-color-unfitted-level-3: chocolate;\n",
       "  /* Definition of color scheme for fitted estimators */\n",
       "  --sklearn-color-fitted-level-0: #f0f8ff;\n",
       "  --sklearn-color-fitted-level-1: #d4ebff;\n",
       "  --sklearn-color-fitted-level-2: #b3dbfd;\n",
       "  --sklearn-color-fitted-level-3: cornflowerblue;\n",
       "\n",
       "  /* Specific color for light theme */\n",
       "  --sklearn-color-text-on-default-background: var(--sg-text-color, var(--theme-code-foreground, var(--jp-content-font-color1, black)));\n",
       "  --sklearn-color-background: var(--sg-background-color, var(--theme-background, var(--jp-layout-color0, white)));\n",
       "  --sklearn-color-border-box: var(--sg-text-color, var(--theme-code-foreground, var(--jp-content-font-color1, black)));\n",
       "  --sklearn-color-icon: #696969;\n",
       "\n",
       "  @media (prefers-color-scheme: dark) {\n",
       "    /* Redefinition of color scheme for dark theme */\n",
       "    --sklearn-color-text-on-default-background: var(--sg-text-color, var(--theme-code-foreground, var(--jp-content-font-color1, white)));\n",
       "    --sklearn-color-background: var(--sg-background-color, var(--theme-background, var(--jp-layout-color0, #111)));\n",
       "    --sklearn-color-border-box: var(--sg-text-color, var(--theme-code-foreground, var(--jp-content-font-color1, white)));\n",
       "    --sklearn-color-icon: #878787;\n",
       "  }\n",
       "}\n",
       "\n",
       "#sk-container-id-1 {\n",
       "  color: var(--sklearn-color-text);\n",
       "}\n",
       "\n",
       "#sk-container-id-1 pre {\n",
       "  padding: 0;\n",
       "}\n",
       "\n",
       "#sk-container-id-1 input.sk-hidden--visually {\n",
       "  border: 0;\n",
       "  clip: rect(1px 1px 1px 1px);\n",
       "  clip: rect(1px, 1px, 1px, 1px);\n",
       "  height: 1px;\n",
       "  margin: -1px;\n",
       "  overflow: hidden;\n",
       "  padding: 0;\n",
       "  position: absolute;\n",
       "  width: 1px;\n",
       "}\n",
       "\n",
       "#sk-container-id-1 div.sk-dashed-wrapped {\n",
       "  border: 1px dashed var(--sklearn-color-line);\n",
       "  margin: 0 0.4em 0.5em 0.4em;\n",
       "  box-sizing: border-box;\n",
       "  padding-bottom: 0.4em;\n",
       "  background-color: var(--sklearn-color-background);\n",
       "}\n",
       "\n",
       "#sk-container-id-1 div.sk-container {\n",
       "  /* jupyter's `normalize.less` sets `[hidden] { display: none; }`\n",
       "     but bootstrap.min.css set `[hidden] { display: none !important; }`\n",
       "     so we also need the `!important` here to be able to override the\n",
       "     default hidden behavior on the sphinx rendered scikit-learn.org.\n",
       "     See: https://github.com/scikit-learn/scikit-learn/issues/21755 */\n",
       "  display: inline-block !important;\n",
       "  position: relative;\n",
       "}\n",
       "\n",
       "#sk-container-id-1 div.sk-text-repr-fallback {\n",
       "  display: none;\n",
       "}\n",
       "\n",
       "div.sk-parallel-item,\n",
       "div.sk-serial,\n",
       "div.sk-item {\n",
       "  /* draw centered vertical line to link estimators */\n",
       "  background-image: linear-gradient(var(--sklearn-color-text-on-default-background), var(--sklearn-color-text-on-default-background));\n",
       "  background-size: 2px 100%;\n",
       "  background-repeat: no-repeat;\n",
       "  background-position: center center;\n",
       "}\n",
       "\n",
       "/* Parallel-specific style estimator block */\n",
       "\n",
       "#sk-container-id-1 div.sk-parallel-item::after {\n",
       "  content: \"\";\n",
       "  width: 100%;\n",
       "  border-bottom: 2px solid var(--sklearn-color-text-on-default-background);\n",
       "  flex-grow: 1;\n",
       "}\n",
       "\n",
       "#sk-container-id-1 div.sk-parallel {\n",
       "  display: flex;\n",
       "  align-items: stretch;\n",
       "  justify-content: center;\n",
       "  background-color: var(--sklearn-color-background);\n",
       "  position: relative;\n",
       "}\n",
       "\n",
       "#sk-container-id-1 div.sk-parallel-item {\n",
       "  display: flex;\n",
       "  flex-direction: column;\n",
       "}\n",
       "\n",
       "#sk-container-id-1 div.sk-parallel-item:first-child::after {\n",
       "  align-self: flex-end;\n",
       "  width: 50%;\n",
       "}\n",
       "\n",
       "#sk-container-id-1 div.sk-parallel-item:last-child::after {\n",
       "  align-self: flex-start;\n",
       "  width: 50%;\n",
       "}\n",
       "\n",
       "#sk-container-id-1 div.sk-parallel-item:only-child::after {\n",
       "  width: 0;\n",
       "}\n",
       "\n",
       "/* Serial-specific style estimator block */\n",
       "\n",
       "#sk-container-id-1 div.sk-serial {\n",
       "  display: flex;\n",
       "  flex-direction: column;\n",
       "  align-items: center;\n",
       "  background-color: var(--sklearn-color-background);\n",
       "  padding-right: 1em;\n",
       "  padding-left: 1em;\n",
       "}\n",
       "\n",
       "\n",
       "/* Toggleable style: style used for estimator/Pipeline/ColumnTransformer box that is\n",
       "clickable and can be expanded/collapsed.\n",
       "- Pipeline and ColumnTransformer use this feature and define the default style\n",
       "- Estimators will overwrite some part of the style using the `sk-estimator` class\n",
       "*/\n",
       "\n",
       "/* Pipeline and ColumnTransformer style (default) */\n",
       "\n",
       "#sk-container-id-1 div.sk-toggleable {\n",
       "  /* Default theme specific background. It is overwritten whether we have a\n",
       "  specific estimator or a Pipeline/ColumnTransformer */\n",
       "  background-color: var(--sklearn-color-background);\n",
       "}\n",
       "\n",
       "/* Toggleable label */\n",
       "#sk-container-id-1 label.sk-toggleable__label {\n",
       "  cursor: pointer;\n",
       "  display: block;\n",
       "  width: 100%;\n",
       "  margin-bottom: 0;\n",
       "  padding: 0.5em;\n",
       "  box-sizing: border-box;\n",
       "  text-align: center;\n",
       "}\n",
       "\n",
       "#sk-container-id-1 label.sk-toggleable__label-arrow:before {\n",
       "  /* Arrow on the left of the label */\n",
       "  content: \"▸\";\n",
       "  float: left;\n",
       "  margin-right: 0.25em;\n",
       "  color: var(--sklearn-color-icon);\n",
       "}\n",
       "\n",
       "#sk-container-id-1 label.sk-toggleable__label-arrow:hover:before {\n",
       "  color: var(--sklearn-color-text);\n",
       "}\n",
       "\n",
       "/* Toggleable content - dropdown */\n",
       "\n",
       "#sk-container-id-1 div.sk-toggleable__content {\n",
       "  max-height: 0;\n",
       "  max-width: 0;\n",
       "  overflow: hidden;\n",
       "  text-align: left;\n",
       "  /* unfitted */\n",
       "  background-color: var(--sklearn-color-unfitted-level-0);\n",
       "}\n",
       "\n",
       "#sk-container-id-1 div.sk-toggleable__content.fitted {\n",
       "  /* fitted */\n",
       "  background-color: var(--sklearn-color-fitted-level-0);\n",
       "}\n",
       "\n",
       "#sk-container-id-1 div.sk-toggleable__content pre {\n",
       "  margin: 0.2em;\n",
       "  border-radius: 0.25em;\n",
       "  color: var(--sklearn-color-text);\n",
       "  /* unfitted */\n",
       "  background-color: var(--sklearn-color-unfitted-level-0);\n",
       "}\n",
       "\n",
       "#sk-container-id-1 div.sk-toggleable__content.fitted pre {\n",
       "  /* unfitted */\n",
       "  background-color: var(--sklearn-color-fitted-level-0);\n",
       "}\n",
       "\n",
       "#sk-container-id-1 input.sk-toggleable__control:checked~div.sk-toggleable__content {\n",
       "  /* Expand drop-down */\n",
       "  max-height: 200px;\n",
       "  max-width: 100%;\n",
       "  overflow: auto;\n",
       "}\n",
       "\n",
       "#sk-container-id-1 input.sk-toggleable__control:checked~label.sk-toggleable__label-arrow:before {\n",
       "  content: \"▾\";\n",
       "}\n",
       "\n",
       "/* Pipeline/ColumnTransformer-specific style */\n",
       "\n",
       "#sk-container-id-1 div.sk-label input.sk-toggleable__control:checked~label.sk-toggleable__label {\n",
       "  color: var(--sklearn-color-text);\n",
       "  background-color: var(--sklearn-color-unfitted-level-2);\n",
       "}\n",
       "\n",
       "#sk-container-id-1 div.sk-label.fitted input.sk-toggleable__control:checked~label.sk-toggleable__label {\n",
       "  background-color: var(--sklearn-color-fitted-level-2);\n",
       "}\n",
       "\n",
       "/* Estimator-specific style */\n",
       "\n",
       "/* Colorize estimator box */\n",
       "#sk-container-id-1 div.sk-estimator input.sk-toggleable__control:checked~label.sk-toggleable__label {\n",
       "  /* unfitted */\n",
       "  background-color: var(--sklearn-color-unfitted-level-2);\n",
       "}\n",
       "\n",
       "#sk-container-id-1 div.sk-estimator.fitted input.sk-toggleable__control:checked~label.sk-toggleable__label {\n",
       "  /* fitted */\n",
       "  background-color: var(--sklearn-color-fitted-level-2);\n",
       "}\n",
       "\n",
       "#sk-container-id-1 div.sk-label label.sk-toggleable__label,\n",
       "#sk-container-id-1 div.sk-label label {\n",
       "  /* The background is the default theme color */\n",
       "  color: var(--sklearn-color-text-on-default-background);\n",
       "}\n",
       "\n",
       "/* On hover, darken the color of the background */\n",
       "#sk-container-id-1 div.sk-label:hover label.sk-toggleable__label {\n",
       "  color: var(--sklearn-color-text);\n",
       "  background-color: var(--sklearn-color-unfitted-level-2);\n",
       "}\n",
       "\n",
       "/* Label box, darken color on hover, fitted */\n",
       "#sk-container-id-1 div.sk-label.fitted:hover label.sk-toggleable__label.fitted {\n",
       "  color: var(--sklearn-color-text);\n",
       "  background-color: var(--sklearn-color-fitted-level-2);\n",
       "}\n",
       "\n",
       "/* Estimator label */\n",
       "\n",
       "#sk-container-id-1 div.sk-label label {\n",
       "  font-family: monospace;\n",
       "  font-weight: bold;\n",
       "  display: inline-block;\n",
       "  line-height: 1.2em;\n",
       "}\n",
       "\n",
       "#sk-container-id-1 div.sk-label-container {\n",
       "  text-align: center;\n",
       "}\n",
       "\n",
       "/* Estimator-specific */\n",
       "#sk-container-id-1 div.sk-estimator {\n",
       "  font-family: monospace;\n",
       "  border: 1px dotted var(--sklearn-color-border-box);\n",
       "  border-radius: 0.25em;\n",
       "  box-sizing: border-box;\n",
       "  margin-bottom: 0.5em;\n",
       "  /* unfitted */\n",
       "  background-color: var(--sklearn-color-unfitted-level-0);\n",
       "}\n",
       "\n",
       "#sk-container-id-1 div.sk-estimator.fitted {\n",
       "  /* fitted */\n",
       "  background-color: var(--sklearn-color-fitted-level-0);\n",
       "}\n",
       "\n",
       "/* on hover */\n",
       "#sk-container-id-1 div.sk-estimator:hover {\n",
       "  /* unfitted */\n",
       "  background-color: var(--sklearn-color-unfitted-level-2);\n",
       "}\n",
       "\n",
       "#sk-container-id-1 div.sk-estimator.fitted:hover {\n",
       "  /* fitted */\n",
       "  background-color: var(--sklearn-color-fitted-level-2);\n",
       "}\n",
       "\n",
       "/* Specification for estimator info (e.g. \"i\" and \"?\") */\n",
       "\n",
       "/* Common style for \"i\" and \"?\" */\n",
       "\n",
       ".sk-estimator-doc-link,\n",
       "a:link.sk-estimator-doc-link,\n",
       "a:visited.sk-estimator-doc-link {\n",
       "  float: right;\n",
       "  font-size: smaller;\n",
       "  line-height: 1em;\n",
       "  font-family: monospace;\n",
       "  background-color: var(--sklearn-color-background);\n",
       "  border-radius: 1em;\n",
       "  height: 1em;\n",
       "  width: 1em;\n",
       "  text-decoration: none !important;\n",
       "  margin-left: 1ex;\n",
       "  /* unfitted */\n",
       "  border: var(--sklearn-color-unfitted-level-1) 1pt solid;\n",
       "  color: var(--sklearn-color-unfitted-level-1);\n",
       "}\n",
       "\n",
       ".sk-estimator-doc-link.fitted,\n",
       "a:link.sk-estimator-doc-link.fitted,\n",
       "a:visited.sk-estimator-doc-link.fitted {\n",
       "  /* fitted */\n",
       "  border: var(--sklearn-color-fitted-level-1) 1pt solid;\n",
       "  color: var(--sklearn-color-fitted-level-1);\n",
       "}\n",
       "\n",
       "/* On hover */\n",
       "div.sk-estimator:hover .sk-estimator-doc-link:hover,\n",
       ".sk-estimator-doc-link:hover,\n",
       "div.sk-label-container:hover .sk-estimator-doc-link:hover,\n",
       ".sk-estimator-doc-link:hover {\n",
       "  /* unfitted */\n",
       "  background-color: var(--sklearn-color-unfitted-level-3);\n",
       "  color: var(--sklearn-color-background);\n",
       "  text-decoration: none;\n",
       "}\n",
       "\n",
       "div.sk-estimator.fitted:hover .sk-estimator-doc-link.fitted:hover,\n",
       ".sk-estimator-doc-link.fitted:hover,\n",
       "div.sk-label-container:hover .sk-estimator-doc-link.fitted:hover,\n",
       ".sk-estimator-doc-link.fitted:hover {\n",
       "  /* fitted */\n",
       "  background-color: var(--sklearn-color-fitted-level-3);\n",
       "  color: var(--sklearn-color-background);\n",
       "  text-decoration: none;\n",
       "}\n",
       "\n",
       "/* Span, style for the box shown on hovering the info icon */\n",
       ".sk-estimator-doc-link span {\n",
       "  display: none;\n",
       "  z-index: 9999;\n",
       "  position: relative;\n",
       "  font-weight: normal;\n",
       "  right: .2ex;\n",
       "  padding: .5ex;\n",
       "  margin: .5ex;\n",
       "  width: min-content;\n",
       "  min-width: 20ex;\n",
       "  max-width: 50ex;\n",
       "  color: var(--sklearn-color-text);\n",
       "  box-shadow: 2pt 2pt 4pt #999;\n",
       "  /* unfitted */\n",
       "  background: var(--sklearn-color-unfitted-level-0);\n",
       "  border: .5pt solid var(--sklearn-color-unfitted-level-3);\n",
       "}\n",
       "\n",
       ".sk-estimator-doc-link.fitted span {\n",
       "  /* fitted */\n",
       "  background: var(--sklearn-color-fitted-level-0);\n",
       "  border: var(--sklearn-color-fitted-level-3);\n",
       "}\n",
       "\n",
       ".sk-estimator-doc-link:hover span {\n",
       "  display: block;\n",
       "}\n",
       "\n",
       "/* \"?\"-specific style due to the `<a>` HTML tag */\n",
       "\n",
       "#sk-container-id-1 a.estimator_doc_link {\n",
       "  float: right;\n",
       "  font-size: 1rem;\n",
       "  line-height: 1em;\n",
       "  font-family: monospace;\n",
       "  background-color: var(--sklearn-color-background);\n",
       "  border-radius: 1rem;\n",
       "  height: 1rem;\n",
       "  width: 1rem;\n",
       "  text-decoration: none;\n",
       "  /* unfitted */\n",
       "  color: var(--sklearn-color-unfitted-level-1);\n",
       "  border: var(--sklearn-color-unfitted-level-1) 1pt solid;\n",
       "}\n",
       "\n",
       "#sk-container-id-1 a.estimator_doc_link.fitted {\n",
       "  /* fitted */\n",
       "  border: var(--sklearn-color-fitted-level-1) 1pt solid;\n",
       "  color: var(--sklearn-color-fitted-level-1);\n",
       "}\n",
       "\n",
       "/* On hover */\n",
       "#sk-container-id-1 a.estimator_doc_link:hover {\n",
       "  /* unfitted */\n",
       "  background-color: var(--sklearn-color-unfitted-level-3);\n",
       "  color: var(--sklearn-color-background);\n",
       "  text-decoration: none;\n",
       "}\n",
       "\n",
       "#sk-container-id-1 a.estimator_doc_link.fitted:hover {\n",
       "  /* fitted */\n",
       "  background-color: var(--sklearn-color-fitted-level-3);\n",
       "}\n",
       "</style><div id=\"sk-container-id-1\" class=\"sk-top-container\"><div class=\"sk-text-repr-fallback\"><pre>RandomForestClassifier(max_samples=0.7, n_estimators=80, n_jobs=1,\n",
       "                       random_state=42)</pre><b>In a Jupyter environment, please rerun this cell to show the HTML representation or trust the notebook. <br />On GitHub, the HTML representation is unable to render, please try loading this page with nbviewer.org.</b></div><div class=\"sk-container\" hidden><div class=\"sk-item\"><div class=\"sk-estimator fitted sk-toggleable\"><input class=\"sk-toggleable__control sk-hidden--visually\" id=\"sk-estimator-id-1\" type=\"checkbox\" checked><label for=\"sk-estimator-id-1\" class=\"sk-toggleable__label fitted sk-toggleable__label-arrow fitted\">&nbsp;&nbsp;RandomForestClassifier<a class=\"sk-estimator-doc-link fitted\" rel=\"noreferrer\" target=\"_blank\" href=\"https://scikit-learn.org/1.5/modules/generated/sklearn.ensemble.RandomForestClassifier.html\">?<span>Documentation for RandomForestClassifier</span></a><span class=\"sk-estimator-doc-link fitted\">i<span>Fitted</span></span></label><div class=\"sk-toggleable__content fitted\"><pre>RandomForestClassifier(max_samples=0.7, n_estimators=80, n_jobs=1,\n",
       "                       random_state=42)</pre></div> </div></div></div></div>"
      ],
      "text/plain": [
       "RandomForestClassifier(max_samples=0.7, n_estimators=80, n_jobs=1,\n",
       "                       random_state=42)"
      ]
     },
     "execution_count": 26,
     "metadata": {},
     "output_type": "execute_result"
    }
   ],
   "source": [
    "model = RandomForestClassifier(\n",
    "    n_estimators=80,      # Fewer trees\n",
    "    max_samples=0.7,      # Each tree uses 70% of the data\n",
    "    n_jobs=1,             # Crucial: Disable parallel processing\n",
    "    random_state=42\n",
    ")\n",
    "model.fit(X_train, y_train)"
   ]
  },
  {
   "cell_type": "code",
   "execution_count": 27,
   "id": "8ecda346",
   "metadata": {},
   "outputs": [],
   "source": [
    "y_pred = model.predict(X_test)"
   ]
  },
  {
   "cell_type": "code",
   "execution_count": 28,
   "id": "b58893a0",
   "metadata": {},
   "outputs": [
    {
     "name": "stdout",
     "output_type": "stream",
     "text": [
      "Classification Report:\n",
      "               precision    recall  f1-score   support\n",
      "\n",
      "           0       1.00      1.00      1.00     85295\n",
      "           1       0.97      0.76      0.85       148\n",
      "\n",
      "    accuracy                           1.00     85443\n",
      "   macro avg       0.98      0.88      0.93     85443\n",
      "weighted avg       1.00      1.00      1.00     85443\n",
      "\n",
      "Confusion matrix:\n",
      " [[85291     4]\n",
      " [   35   113]]\n"
     ]
    }
   ],
   "source": [
    "print(\"Classification Report:\\n\", classification_report(y_test, y_pred))\n",
    "print(\"Confusion matrix:\\n\", confusion_matrix(y_test, y_pred))"
   ]
  },
  {
   "cell_type": "code",
   "execution_count": 29,
   "id": "08ddb174",
   "metadata": {},
   "outputs": [
    {
     "name": "stdout",
     "output_type": "stream",
     "text": [
      "Accuracy Score: 0.9995435553526912\n",
      "Model Score: 0.9995435553526912\n"
     ]
    }
   ],
   "source": [
    "from sklearn.metrics import accuracy_score\n",
    "\n",
    "print(\"Accuracy Score:\", accuracy_score(y_test, y_pred))\n",
    "print(\"Model Score:\", model.score(X_test, y_test))"
   ]
  },
  {
   "cell_type": "code",
   "execution_count": 30,
   "id": "374bf2bc",
   "metadata": {},
   "outputs": [
    {
     "data": {
      "image/png": "[encoded data removed]",
      "text/plain": [
       "<Figure size 900x900 with 2 Axes>"
      ]
     },
     "metadata": {},
     "output_type": "display_data"
    }
   ],
   "source": [
    "plt.figure(figsize=(9, 9))\n",
    "sns.heatmap(confusion_matrix(y_test, y_pred), annot=True, fmt='d', cmap='Blues', xticklabels=['Not-Fraud', 'Fraud'])\n",
    "plt.xlabel('Predicted')\n",
    "plt.ylabel('Actual')\n",
    "plt.title('Confusion Matrix')\n",
    "plt.show()"
   ]
  },
  {
   "cell_type": "code",
   "execution_count": 31,
   "id": "01af7a42",
   "metadata": {},
   "outputs": [],
   "source": [
    "# Oversampling with RandomOverSampler\n",
    "ros = RandomOverSampler(random_state=42)\n",
    "X_resampled, y_resampled = ros.fit_resample(X_train, y_train)"
   ]
  },
  {
   "cell_type": "code",
   "execution_count": 32,
   "id": "0f02731c",
   "metadata": {},
   "outputs": [
    {
     "data": {
      "application/vnd.microsoft.datawrangler.viewer.v0+json": {
       "columns": [
        {
         "name": "Class",
         "rawType": "int8",
         "type": "integer"
        },
        {
         "name": "count",
         "rawType": "int64",
         "type": "integer"
        }
       ],
       "ref": "570e1db6-0010-4620-96d9-2e0717e32a24",
       "rows": [
        [
         "0",
         "199020"
        ],
        [
         "1",
         "199020"
        ]
       ],
       "shape": {
        "columns": 1,
        "rows": 2
       }
      },
      "text/plain": [
       "Class\n",
       "0    199020\n",
       "1    199020\n",
       "Name: count, dtype: int64"
      ]
     },
     "metadata": {},
     "output_type": "display_data"
    },
    {
     "data": {
      "application/vnd.microsoft.datawrangler.viewer.v0+json": {
       "columns": [
        {
         "name": "('Time', 'V1', 'V2', 'V3', 'V4', 'V5', 'V6', 'V7', 'V8', 'V9', 'V10', 'V11', 'V12', 'V13', 'V14', 'V15', 'V16', 'V17', 'V18', 'V19', 'V20', 'V21', 'V22', 'V23', 'V24', 'V25', 'V26', 'V27', 'V28', 'Amount')",
         "rawType": "object",
         "type": "unknown"
        },
        {
         "name": "count",
         "rawType": "int64",
         "type": "integer"
        }
       ],
       "ref": "fbff13cd-a655-4e8a-a8f4-34de4ed9d460",
       "rows": [
        [
         "(68207.0, -13.192671, 12.785971, -9.90665, 3.3203368, -4.801176, 5.7600584, -18.750889, -37.353443, -0.39153975, -5.052502, 4.4068055, -4.6107564, -1.909488, -9.072711, -0.22607446, -6.2115574, -6.2481456, -3.1492467, 0.05157612, -3.4930499, 27.202839, -8.887017, 5.303607, -0.6394348, 0.2632031, -0.10887693, 1.2695663, 0.93940735, 1.0)",
         "2166"
        ],
        [
         "(94362.0, -26.457745, 16.497473, -30.177317, 8.904157, -17.8926, -1.2279038, -31.197329, -11.43892, -9.462573, -22.187088, 4.4199967, -10.592305, -0.7037958, -3.9262073, -2.4002464, -6.80989, -12.462315, -5.501051, -0.5679396, 2.812241, -8.755698, 3.4608934, 0.8965375, 0.25483555, -0.73809654, -0.96656424, -7.263482, -1.3248843, 1.0)",
         "1759"
        ],
        [
         "(93879.0, -13.086519, 7.3521485, -18.256577, 10.648505, -11.731477, -3.6591673, -14.873658, 8.8104725, -5.4182043, -13.202578, 6.3572273, -15.531611, 0.65969485, -11.41233, -2.447576, -9.833743, -18.174618, -7.2699046, 0.6237966, -1.3762984, 2.761157, -0.2661618, -0.41286072, 0.51995224, -0.74390894, -0.16780822, -2.4983003, -0.7110661, 30.31)",
         "1199"
        ],
        [
         "(93879.0, -12.8336315, 7.50879, -20.491953, 7.46578, -11.575304, -5.1409993, -14.020564, 8.332121, -4.337713, -15.563791, 7.61082, -15.592323, 0.50478905, -13.247889, -0.796526, -10.342328, -16.044525, -5.882136, 1.5736979, -1.3789232, 2.9668424, 0.61534435, -0.76649475, 0.431261, -0.10497499, -0.010091327, -2.4008114, -0.7205566, 104.03)",
         "1189"
        ],
        [
         "(93860.0, -10.632375, 7.2519364, -17.681072, 8.2041445, -10.166591, -4.5103436, -12.9816065, 6.783589, -4.6593294, -14.924655, 8.389142, -16.465504, 0.33851695, -14.224403, 0.5565845, -11.683998, -15.841616, -5.7531996, 3.8130407, -0.8101465, 2.715357, 0.6956027, -1.1381221, 0.45944223, 0.3863373, 0.52243847, -1.4166037, -0.48830703, 188.52)",
         "1187"
        ],
        [
         "(93860.0, -10.850282, 6.7274656, -16.760584, 8.425832, -10.252697, -4.192171, -14.077086, 7.1682878, -3.683242, -15.239962, 8.030708, -16.060307, 0.27052975, -14.952981, -0.24109489, -11.866731, -15.48699, -5.7486515, 4.1300316, -0.6468183, 2.541637, 0.13553493, -1.0239669, 0.4062645, 0.10659278, -0.02623239, -1.46463, -0.41168183, 78.0)",
         "1185"
        ],
        [
         "(93853.0, -6.1858573, 7.102985, -13.030456, 8.010823, -7.885237, -3.97455, -12.229608, 4.971232, -4.248307, -12.965481, 8.688308, -17.182919, 0.06957691, -14.116156, 0.9590317, -12.375334, -18.716764, -6.5220146, 3.5179548, 0.4839301, 2.5027723, 0.4816913, 0.48095798, 0.36031863, -0.2933543, -0.19919316, -0.20391732, 0.39892718, 44.9)",
         "1169"
        ],
        [
         "(155054.0, -0.512349, 4.82706, -7.9739394, 7.3340583, 0.36770365, -2.055129, -2.9358556, 1.4310081, -4.544722, -5.2580957, 5.7163186, -5.810407, 0.72329265, -12.289133, 0.37877318, -2.0207343, -2.0397027, 0.6581829, 0.832574, 0.80410135, 0.53561974, -0.45949593, -0.009363668, -1.1404358, -0.0064452686, 0.5279703, 0.558881, 0.12651676, 0.77)",
         "650"
        ],
        [
         "(154599.0, 0.66771364, 3.0415025, -5.845112, 5.967587, 0.21386333, -1.4629228, -2.6887605, 0.6777635, -3.4475958, -4.707571, 4.90582, -5.208374, 0.53249836, -10.544011, -1.3074187, -2.1335936, -5.1330814, -1.0621508, -0.8193711, 0.5584246, 0.32976013, -0.9413835, -0.0060746623, -0.95892537, 0.23929787, -0.06735568, 0.8210476, 0.42617524, 6.74)",
         "642"
        ],
        [
         "(133184.0, -1.2126817, -2.4848235, -6.397186, 3.6705625, -0.86337507, -1.8558547, 1.0177315, -0.5447038, -1.7033781, -3.7396595, 1.738124, -2.8444493, 0.76586396, -4.799737, -0.011335412, -2.6931682, -3.1669552, -1.0678002, -0.5591322, 2.9083738, 1.396872, 0.092072874, -1.4928825, -0.2042274, 0.53251094, -0.2938711, 0.21266305, 0.4310947, 1335.0)",
         "639"
        ],
        [
         "(154181.0, -0.54961544, 2.2190747, -3.5220244, 0.23699518, 1.0874689, -1.2355301, -0.27931255, 0.5143607, -1.8499274, -3.443819, 2.2140002, -1.6898355, 0.49843767, -4.3936334, -1.2708414, -1.1766287, -1.859739, -0.049418587, 0.3852626, 0.12651794, 0.36413023, 0.21042809, -0.36601865, 0.015802568, 0.34921154, 0.64730227, 0.1719292, 0.11718823, 0.76)",
         "635"
        ],
        [
         "(21046.0, -16.917469, 9.6699, -23.736443, 11.82499, -9.830548, -2.514829, -17.290657, 1.8204079, -6.2649035, -12.916636, 9.56711, -13.717068, 0.8995407, -13.272965, -0.40226004, -7.754094, -11.644603, -4.7413025, 0.58462596, 0.9967451, -2.336111, 0.9727547, 1.2418658, -1.0510863, 0.03800908, 0.6723171, 2.108471, -1.4212433, 1.0)",
         "634"
        ],
        [
         "(47545.0, 1.1767157, 0.5570909, -0.49079964, 0.7564243, 0.24919155, -0.78187054, 0.22875032, -0.04084008, -0.43211058, -0.5857784, 2.2819393, 0.6545667, -0.31037945, -1.0437052, 0.5137504, 0.39917776, 1.1431301, 0.2560139, -0.5112101, -0.102771804, -0.062166, -0.12816814, -0.04017599, 0.110040344, 0.43789142, 0.36880887, -0.018287348, 0.031173402, 0.76)",
         "632"
        ],
        [
         "(66037.0, 0.28630236, 1.3993448, -1.6825027, 3.864377, -1.1853734, -0.34173203, -2.53938, 0.7683784, -1.5478816, -2.659718, 2.6215882, -3.4623618, -1.0543002, -4.9558234, -1.4002745, -2.339943, -5.1977944, -1.3428144, 0.2888469, 0.27036014, 0.35245642, -0.24367765, -0.19407855, -0.17220108, 0.7422372, 0.1277898, 0.5697308, 0.29120585, 7.53)",
         "624"
        ],
        [
         "(167338.0, -1.3744243, 2.7931845, -4.346572, 2.4007313, -1.6884327, 0.111136094, -0.9220376, -2.14993, -2.0274737, -4.390842, 1.2419581, -3.9105215, -1.2256362, -4.697997, 0.6761083, -2.0770655, -2.6835208, -0.52594936, 0.42234245, 0.65019584, -0.8707785, 0.50484914, 0.13799427, 0.36827457, 0.10313665, -0.41420883, 0.4549816, 0.096710965, 349.08)",
         "622"
        ],
        [
         "(143456.0, -2.0065818, 3.6765773, -5.463811, 7.232058, -1.6278595, -0.9967546, -4.299833, 2.2688668, -3.651067, -4.40093, 4.213213, -5.7378154, -0.8756934, -8.893726, -0.5624338, -3.2817838, -4.368986, -0.7367338, 1.6092929, 0.47441405, 0.7139069, -0.06386759, 0.16794732, -0.44986397, 0.023702098, 0.5369053, 0.485864, -0.04239348, 1.0)",
         "622"
        ],
        [
         "(41646.0, -3.2401867, 2.9781218, -4.162314, 3.8691244, -3.6452565, -0.12627056, -4.7447295, -0.06533104, -2.1683662, -4.758304, 3.471098, -6.533107, -0.98346865, -6.073989, 1.1254067, -7.7180424, -9.855927, -5.1939077, 2.0426977, -0.22404346, 2.6014411, 0.23191011, -0.036489848, 0.042639647, -0.43833035, -0.12582108, 0.42129982, 0.003145876, 172.32)",
         "622"
        ],
        [
         "(87202.0, -0.41982016, -1.155978, -2.0925155, 2.7867503, 0.7362966, -0.16729197, 1.6000274, -0.11742685, -0.7969538, -0.13395025, 1.0330321, -0.284368, -1.2082798, -0.4292119, 0.24894536, -0.9289215, 1.6799855, 1.3153389, 2.2261608, 1.2753581, 0.48063973, 0.53351694, 1.2846454, 0.5161313, -0.6029411, -0.3050237, -0.021363145, 0.12909639, 451.27)",
         "621"
        ],
        [
         "(153875.0, -0.6136959, 3.6987724, -5.534941, 5.6204863, 1.6492629, -2.335145, -0.9071885, 0.70636207, -3.747646, -4.2309837, 4.436319, -4.5038013, -0.9543613, -9.861372, -0.505329, 0.26928195, 0.5913191, 1.7959919, -1.0852079, 0.35477293, 0.31926075, -0.4713789, -0.07589041, -0.66790926, -0.64284843, 0.07060011, 0.48840952, 0.292345, 0.0)",
         "619"
        ],
        [
         "(76867.0, 1.0825663, 1.0948615, -1.36702, 2.0125544, 0.70814204, -0.8077121, 0.1519521, 0.15835252, 0.009872284, -1.9252781, 2.605937, -0.30921888, -1.7675489, -4.4291945, -0.17193979, 1.055514, 3.970587, 1.7622485, -0.8808121, -0.13578941, -0.32528377, -0.7343436, -0.10672534, -0.22499907, 0.5691673, -0.33503264, 0.08914014, 0.11233722, 1.0)",
         "619"
        ],
        [
         "(165132.0, -7.5039263, -0.360628, -3.8309522, 2.4861028, 2.4973667, 1.3324369, -6.7839637, -15.415385, 0.4655116, -0.39438125, 1.0541072, 0.9740585, -1.453668, -1.42562, 0.5776616, 0.8368078, 2.8449497, 1.6135095, 2.5483127, -0.47512645, -6.389132, 2.2499645, 1.6705083, 0.14045, 0.16214742, 1.2077309, 1.2689584, 0.09753823, 12.31)",
         "618"
        ],
        [
         "(8528.0, 0.44739556, 2.4819539, -5.660814, 4.4559226, -2.4437797, -2.1850402, -4.716143, 1.2498033, -0.7183261, -5.3903303, 6.4541874, -8.485347, 0.6352814, -7.0199018, 0.53981405, -4.649864, -6.2883577, -1.3393123, 2.2629848, 0.549613, 0.75605255, 0.14016777, 0.6654111, 0.1314638, -1.9082174, 0.3348076, 0.74853426, 0.17541379, 1.0)",
         "617"
        ],
        [
         "(102480.0, -1.9295969, 4.0664134, -4.865184, 5.8986025, -0.55249256, -1.5559624, -3.8336234, 0.67951167, -3.4637654, -6.683689, 7.021278, -11.102493, 1.711755, -10.447633, -2.799076, -6.2617407, -11.647158, -3.451436, -0.50753653, 0.94248897, 1.1372117, 0.67424524, -0.53176546, -0.43340936, 0.37865856, 0.19810729, 0.8696944, 0.22804785, 0.0)",
         "616"
        ],
        [
         "(142409.0, -1.1721829, 1.6617129, -3.049637, 2.5550585, 3.6690347, -3.1629984, -5.98564, -2.1799352, -1.1202923, -3.0755584, 0.99744874, -3.1919148, -1.5148568, -4.267296, -0.15955397, -2.9164627, -2.819906, -1.4172308, 0.32519495, 0.5481064, -0.8120978, -0.2953607, -5.9888062, 0.7143808, -1.6000236, -0.6347829, 0.82271326, 0.49437517, 2.0)",
         "616"
        ],
        [
         "(102625.0, -4.221221, 2.8711207, -5.8887157, 6.890952, -3.4048944, -1.1543939, -7.7399282, 2.8513632, -2.5075686, -5.110728, 5.3508897, -9.299808, 2.7931404, -6.106552, -2.106947, -6.2506294, -13.566325, -4.19278, 0.51057017, -0.2278815, 1.6205913, 1.567947, -0.57800746, -0.05904481, -1.8291688, -0.07242872, 0.1367343, -0.59984756, 7.59)",
         "616"
        ],
        [
         "(12093.0, -4.696795, 2.6938674, -4.475133, 5.4676847, -1.556758, -1.5494202, -4.1042147, 0.5539341, -1.4984682, -4.5949516, 5.275506, -11.349029, 0.37454924, -8.138695, 0.5485709, -6.6535945, -10.246756, -4.1910663, 0.99148613, -0.15897055, 0.5738981, -0.08016278, 0.3184078, -0.2458622, 0.33823842, 0.03227062, -1.5084579, 0.60807467, 0.0)",
         "615"
        ],
        [
         "(135102.0, 1.8621018, -0.12405189, -1.9897517, 0.38260892, 0.47303167, -0.674517, 0.29862136, -0.28241572, 0.8020525, -0.9894312, -0.49111232, 0.9038193, 1.3665243, -1.8861623, -0.19486131, 0.086836725, 0.97854626, 0.055603974, 0.18913084, 0.15072699, -0.20415828, -0.51144105, 0.07787415, 0.3883351, 0.007895729, -0.120979615, -0.019578792, 0.0061547053, 108.51)",
         "615"
        ],
        [
         "(144808.0, -2.4052072, 2.9438233, -7.6166544, 3.5333738, -5.417494, -0.11263192, -1.3293716, 1.7094169, -2.3227155, -6.5409884, 4.4045787, -4.9381595, -0.7409846, -7.4629607, 0.53496766, -4.6710315, -4.472403, -0.9820899, 3.4900687, -0.33870673, 0.6526834, 0.4141323, 0.023869073, -0.2606164, 0.40531647, 0.029106742, 0.51980656, -0.4695371, 667.55)",
         "615"
        ],
        [
         "(170348.0, 1.9919761, 0.15847589, -2.5834405, 0.40866998, 1.151147, -0.096694745, 0.22305027, -0.06838388, 0.57782936, -0.8887217, 0.49114025, 0.7289033, 0.38042805, -1.9488833, -0.83249813, 0.5194355, 0.90356237, 1.1973147, 0.59350884, -0.017652256, -0.16435033, -0.29513517, -0.07217253, -0.45026132, 0.3132666, -0.28961658, 0.0029875822, -0.015308813, 42.53)",
         "614"
        ],
        [
         "(147501.0, -1.6118773, -0.40840992, -3.8297617, 6.2494617, -3.3609216, 1.1479635, 1.8584249, 0.4748583, -3.838399, -1.445375, 2.1139, -3.2597024, -0.31534734, -1.808103, -0.7418773, -2.98692, -4.815863, -1.2716546, 1.7016851, 2.4256775, 1.2455822, 0.6163827, 2.2514389, -0.066096395, 0.53871036, 0.5413255, -0.13624339, -0.009852257, 996.27)",
         "614"
        ],
        [
         "(17230.0, -0.4693267, 1.1114528, 2.0410028, 1.7315952, 0.13514684, -0.09362517, 0.26615518, 0.08298824, 0.5802554, -0.16456267, 0.50037634, -3.0217602, 0.92421323, 1.5007938, -0.40028265, 0.7060477, 0.115114264, -0.04679588, -2.5485215, -0.35870868, 0.1593874, 0.59266955, -0.053596184, 0.3207475, -0.36912075, -0.13660468, -0.10084519, 0.03934715, 3.93)",
         "614"
        ],
        [
         "(76857.0, 1.140208, 1.1564311, -1.471578, 2.0762784, 0.77480906, -1.002532, 0.26494792, 0.013162261, 0.24883534, -2.1006665, 0.7632048, -0.9449165, -1.4190345, -4.6836195, 0.5192823, 0.90845406, 4.1336665, 1.3062046, -1.0947164, -0.12509726, -0.387895, -0.86681193, -0.12158264, -0.35610858, 0.6345728, -0.306311, 0.09408682, 0.12106473, 1.0)",
         "613"
        ],
        [
         "(41170.0, -6.498086, 4.7505145, -8.9665575, 7.0988545, -6.9583764, -2.8221262, -10.3334055, 4.031907, -6.6487784, -11.634415, 6.877571, -13.697685, 0.4630404, -13.044183, -0.30922925, -12.317579, -24.019098, -9.335193, 1.9518905, 0.56833804, 2.158143, 0.111510366, 0.21641384, 0.58466125, 0.7603595, 0.081972346, 1.4150676, 0.035124145, 83.38)",
         "613"
        ],
        [
         "(47826.0, -0.8872869, 1.3900015, 1.2196858, 1.6614252, 1.0092279, -0.7339085, 0.85582894, 7.684623e-05, -1.2756315, -0.43339393, 0.141179, -0.46034846, -0.36786792, -1.1683394, 0.15210763, 0.88223183, 0.60180485, -0.30409238, -2.1917644, -0.26834738, -0.08373438, -0.34693027, -0.050618708, 0.23104443, -0.4507599, -0.37620538, 0.03450437, 0.15777533, 7.58)",
         "613"
        ],
        [
         "(79540.0, -0.114360705, 1.0361294, 1.9844053, 3.1282432, -0.7403436, 1.5486187, -1.7012839, -2.2038417, -1.2422647, 0.2695618, 1.2934183, 0.9332158, -0.13532595, 0.5214837, 0.38688418, 0.059868954, 0.30633938, 0.265052, 0.22371829, 0.7328525, -1.0329347, 1.1964283, -0.112856716, 0.254719, 0.6966679, 0.4823704, 0.12996931, 0.22392434, 0.2)",
         "613"
        ],
        [
         "(20011.0, -14.724627, 7.875157, -21.872318, 11.90617, -8.348734, -2.2628465, -15.833443, 0.07787368, -6.3568335, -13.261652, 10.063789, -14.394767, 0.65488875, -14.248316, -0.30536076, -8.161633, -12.280965, -4.8185863, 0.71978766, 0.9964688, -2.362345, 1.0995573, 1.0371994, -1.0363593, -0.2547765, 0.6423432, 2.1611292, -1.4012821, 1.0)",
         "613"
        ],
        [
         "(148468.0, 0.21881019, 2.7158551, -5.1116576, 6.310661, -0.84834504, -0.8824458, -2.9020793, 0.9391622, -3.6276982, -1.8733308, 1.2038345, -6.17263, -0.9213643, -3.941965, -0.06222138, -5.2410493, -8.152829, -3.2434363, 1.9354838, 0.38168195, 1.0836402, 1.0373238, 0.06232514, 0.5324896, -0.14914486, 0.63957965, 0.35156763, -0.001816515, 0.76)",
         "612"
        ],
        [
         "(39729.0, -0.9645673, -1.6435406, -0.18772686, 1.1582531, -2.4583356, 0.85222167, 2.7851624, -0.30360854, 0.94000554, -1.9653088, 0.15974352, -0.49069738, -1.181977, -1.958876, 1.1527433, -1.3412694, 2.4983249, 0.7778311, 1.4060448, 1.7844493, 0.44718012, 0.5362039, 1.6340605, 0.20383886, 0.21874885, -0.22188583, -0.3085547, -0.16450001, 776.83)",
         "612"
        ],
        [
         "(29526.0, 1.1028043, 2.829168, -3.9328701, 4.7076917, 2.9379668, -1.8009037, 1.6727341, -0.30024034, -2.7830112, -1.8848424, 3.7925653, -1.4604712, -1.3127763, -7.0773606, -0.2994663, 2.4932277, 6.244987, 2.9717493, -2.6799502, -0.030879973, -0.1069944, -0.2500503, -0.52162653, -0.44894952, 1.2916465, 0.51632667, 0.0091462815, 0.15331763, 0.68)",
         "609"
        ],
        [
         "(45463.0, -1.4768934, 2.1223137, -1.2294695, 1.2018487, -0.3432644, -1.317704, -1.5281422, -0.6209534, -1.2130404, -2.9752672, 3.5322196, -3.6826398, -1.1547775, -5.1652293, -0.24009143, -2.4049273, -5.6717386, -0.9942939, -0.2899359, 0.27689347, 1.1860356, -0.04021487, -0.23893009, 0.110144325, 0.04541837, -0.56923234, 0.4810187, -0.047555443, 1.0)",
         "608"
        ],
        [
         "(58060.0, -2.6305976, 5.125759, -6.0922546, 5.527393, 1.6051449, -2.3198836, -3.2070756, -1.4825832, -5.0748706, -6.7783313, 5.7252545, -6.949172, -3.127795, -11.090425, -0.8002726, -1.7075008, -1.685473, 0.27489084, -2.0288854, 0.94886374, -0.5274742, 0.2205461, -1.3711098, -0.50489897, 0.38230678, 0.39552772, 0.78203595, 0.6285279, 1.0)",
         "608"
        ],
        [
         "(26961.0, -23.23792, 13.487386, -25.188772, 6.2617326, -17.345188, -4.5349894, -17.100492, 15.37463, -3.8455667, -8.511766, 5.1385474, -7.22002, 0.6157933, -7.3272214, -0.03863207, -6.3315153, -12.688858, -4.8473816, 1.0205358, 1.6307875, 1.7697082, -1.6919733, -1.0456729, 0.1433865, 1.611577, -0.22157565, 1.4812326, 0.4381248, 99.99)",
         "607"
        ],
        [
         "(129222.0, 1.1778238, 2.4871035, -5.3306084, 5.324547, 1.1502433, -1.2818426, -1.1719942, 0.41377822, -2.65984, -2.9716952, 3.6195974, -4.478044, -2.0341845, -7.7721972, -1.2014928, -0.5098669, -1.3043698, 0.49599954, -1.3598439, 0.15605724, 0.2623251, -0.4317902, -0.092088066, 0.1452159, 0.4577884, 0.16773906, 0.45124254, 0.2684212, 4.87)",
         "607"
        ],
        [
         "(14073.0, -4.1530147, 8.204797, -15.031714, 10.3301, -3.994426, -3.250013, -10.415698, 4.620804, -5.711248, -11.797181, 11.277921, -16.72834, 0.24136768, -17.721638, -0.38729993, -10.322017, -13.959085, -5.03071, 1.1972663, 1.4126248, 1.9769884, 0.2565105, 0.48590812, -1.1988213, -0.5265674, 0.6348735, 1.6272091, 0.7232351, 1.0)",
         "606"
        ],
        [
         "(142280.0, -1.1692034, 1.8634136, -2.5151355, 5.4636807, -0.2979713, 1.364918, 0.7592187, -0.118860975, -2.2939215, -0.42378387, 2.3758757, -3.2448273, -0.556619, -5.152475, 0.050906323, -1.022045, -1.6465049, 0.12645975, 1.8190128, -0.2993741, -0.39308998, -0.7086924, 0.4713087, -0.078616045, -0.54465467, 0.014776756, -0.24092996, -0.7810552, 324.59)",
         "606"
        ],
        [
         "(102676.0, -5.552122, 5.678134, -9.775528, 8.416295, -4.409844, -1.5062354, -6.899839, 3.750443, -3.8797925, -6.8641644, 7.051065, -10.137529, 2.8154397, -9.909168, -0.26222956, -5.0225573, -8.522975, -2.012939, 1.5257324, -0.06478014, 1.1284722, 0.22848405, 0.28625765, -0.5362941, -0.10492489, 0.42091924, -0.29755688, -0.9461844, 119.74)",
         "606"
        ],
        [
         "(83934.0, -0.43322244, 2.428379, -3.9964545, 4.8712983, -1.7963078, -0.5868676, -4.6545424, 1.2852297, -2.7435389, -5.6389413, 4.3437433, -6.6557345, -0.29310867, -9.505141, -1.396149, -4.850323, -10.006253, -2.7895982, 0.9825839, 0.74502933, 0.7135588, -0.4089536, -0.32088953, -0.8042303, 0.9628516, 0.199558, 1.0945332, 0.5411476, 1.0)",
         "606"
        ],
        [
         "(160791.0, 2.132386, 0.70560783, -3.5307586, 0.5147793, 1.5271747, -1.7162683, 1.1327909, -0.57421434, 0.1289039, -1.000805, -0.19119054, -0.3237942, -0.57245594, -1.4220638, 0.3146842, -0.38716206, 1.7347416, 0.610976, -0.22126721, -0.21116719, 0.16373911, 0.7039104, -0.24507615, 0.46004918, 0.920281, -0.21658574, -0.026218563, -0.025001297, 1.0)",
         "605"
        ],
        [
         "(56806.0, 0.016827809, 2.4008255, -4.22036, 3.4622176, -0.62414217, -1.2943026, -2.9860284, 0.75188273, -1.6066723, -5.9749255, 3.2649221, -5.0950317, 0.30780753, -10.018106, 0.27328265, -3.5625336, -4.3771057, -1.792635, 0.08028077, 0.5904184, 0.28583163, -0.7715081, -0.26519978, -0.87307715, 0.9397763, -0.21908474, 0.87449366, 0.47043422, 1.0)",
         "605"
        ],
        [
         "(35899.0, -2.8571699, 4.0456014, -4.197299, 5.487199, -3.0707762, -1.4226863, -5.651314, 2.0196574, -5.015491, -6.3197074, 3.7796023, -8.077094, 1.4408889, -7.8919086, 0.5304528, -7.95407, -14.265056, -5.7710643, 2.8921697, 0.98160875, 1.0803227, -0.56138414, 0.102678426, -0.06719472, -0.47693118, -0.10371636, 1.1669616, 0.6636321, 1.0)",
         "605"
        ]
       ],
       "shape": {
        "columns": 1,
        "rows": 198794
       }
      },
      "text/plain": [
       "Time      V1          V2          V3          V4          V5          V6         V7          V8          V9         V10         V11        V12         V13        V14         V15        V16         V17         V18        V19        V20        V21         V22        V23        V24        V25        V26        V27        V28        Amount\n",
       "68207.0   -13.192671   12.785971  -9.906650    3.320337   -4.801176    5.760058  -18.750889  -37.353443  -0.391540  -5.052502    4.406806  -4.610756   -1.909488  -9.072711   -0.226074  -6.211557   -6.248146   -3.149247   0.051576  -3.493050   27.202839  -8.887017   5.303607  -0.639435   0.263203  -0.108877   1.269566   0.939407  1.00      2166\n",
       "94362.0   -26.457745   16.497473  -30.177317   8.904157   -17.892599  -1.227904  -31.197329  -11.438920  -9.462573  -22.187088   4.419997  -10.592305  -0.703796  -3.926207   -2.400246  -6.809890   -12.462315  -5.501051  -0.567940   2.812241  -8.755698    3.460893   0.896537   0.254836  -0.738097  -0.966564  -7.263482  -1.324884  1.00      1759\n",
       "93879.0   -13.086519   7.352149   -18.256577   10.648505  -11.731477  -3.659167  -14.873658   8.810472   -5.418204  -13.202578   6.357227  -15.531611   0.659695  -11.412330  -2.447576  -9.833743   -18.174618  -7.269905   0.623797  -1.376298   2.761157   -0.266162  -0.412861   0.519952  -0.743909  -0.167808  -2.498300  -0.711066  30.31     1199\n",
       "          -12.833632   7.508790   -20.491953   7.465780   -11.575304  -5.140999  -14.020564   8.332121   -4.337713  -15.563791   7.610820  -15.592323   0.504789  -13.247889  -0.796526  -10.342328  -16.044525  -5.882136   1.573698  -1.378923   2.966842    0.615344  -0.766495   0.431261  -0.104975  -0.010091  -2.400811  -0.720557  104.03    1189\n",
       "93860.0   -10.632375   7.251936   -17.681072   8.204144   -10.166591  -4.510344  -12.981606   6.783589   -4.659329  -14.924655   8.389142  -16.465504   0.338517  -14.224403   0.556584  -11.683998  -15.841616  -5.753200   3.813041  -0.810147   2.715357    0.695603  -1.138122   0.459442   0.386337   0.522438  -1.416604  -0.488307  188.52    1187\n",
       "                                                                                                                                                                                                                                                                                                                                                     ... \n",
       "65241.0   -1.197153    0.583832    1.220539   -1.513085   -0.652989   -1.122744   0.259003   -0.095126   -0.913726   0.337062   -0.411442   0.121910    0.974164  -0.788885   -1.360462   0.488844    0.543861   -1.923752   0.238084   0.028642   0.150543    0.648682  -0.116473   0.783712   0.135085  -0.403938  -0.297093  -0.127144  13.33        1\n",
       "          -1.104781    1.137784    1.542689    0.004650   -0.004165    0.242839   0.179390    0.545069   -0.340473  -0.941384   -1.111970   0.337837    0.280555   0.011681   -0.056880  -0.373687    0.306638   -0.830779   0.302553  -0.149745  -0.190505   -0.563962  -0.185226  -0.405428   0.265368   0.263759  -0.216744  -0.009948  2.57         1\n",
       "65242.0   -3.095088    2.400461    0.045356   -0.661682    0.654252    2.529253  -1.844890   -6.155176   -0.271412  -0.259743   -0.252724  -0.299770   -1.777215   0.961858    1.279443   0.098432    0.488055   -0.823215  -0.308589  -0.382857   2.019681   -2.522583   1.021118   3.478036   0.007034  -0.222041   0.071767   0.233530  51.47        1\n",
       "          -0.631701    1.049422    1.452194    2.576940    0.534141   -0.231687   0.583737   -0.103133   -1.418305   0.773738    0.087578   0.342766    1.085108   0.038844    0.873744  -0.310130    0.063621   -0.707208  -0.411910  -0.029957   0.191249    0.602310   0.204187   0.418955  -0.307745   0.082757  -0.193404   0.147585  0.00         1\n",
       "172792.0  -0.533413   -0.189733    0.703337   -0.506271   -0.012546   -0.649617   1.577006   -0.414650    0.486180  -0.915427   -1.040458  -0.031513   -0.188093  -0.084316    0.041333  -0.302620   -0.660377    0.167430  -0.256117   0.382948   0.261057    0.643078   0.376777   0.008797  -0.473649  -0.818267  -0.002415   0.013649  217.00       1\n",
       "Name: count, Length: 198794, dtype: int64"
      ]
     },
     "metadata": {},
     "output_type": "display_data"
    }
   ],
   "source": [
    "class_count = y_resampled.value_counts()\n",
    "class_count_2 = X_resampled.value_counts()\n",
    "display(class_count)\n",
    "display(class_count_2)"
   ]
  },
  {
   "cell_type": "code",
   "execution_count": 33,
   "id": "b7558ba2",
   "metadata": {},
   "outputs": [
    {
     "data": {
      "image/png": "[encoded data removed]",
      "text/plain": [
       "<Figure size 1000x1000 with 1 Axes>"
      ]
     },
     "metadata": {},
     "output_type": "display_data"
    }
   ],
   "source": [
    "plt.figure(figsize=(10, 10))\n",
    "plt.bar(class_count.index, class_count.values, color=['red', 'orange'])\n",
    "plt.xticks([0, 1], ['Class 0', 'Class 1'])\n",
    "plt.xlabel('Class')\n",
    "plt.ylabel('Count')\n",
    "plt.title('Class Distribution - Oversampling')\n",
    "plt.show()"
   ]
  },
  {
   "cell_type": "code",
   "execution_count": 34,
   "id": "42bd7aa6",
   "metadata": {},
   "outputs": [
    {
     "data": {
      "text/html": [
       "<style>#sk-container-id-2 {\n",
       "  /* Definition of color scheme common for light and dark mode */\n",
       "  --sklearn-color-text: black;\n",
       "  --sklearn-color-line: gray;\n",
       "  /* Definition of color scheme for unfitted estimators */\n",
       "  --sklearn-color-unfitted-level-0: #fff5e6;\n",
       "  --sklearn-color-unfitted-level-1: #f6e4d2;\n",
       "  --sklearn-color-unfitted-level-2: #ffe0b3;\n",
       "  --sklearn-color-unfitted-level-3: chocolate;\n",
       "  /* Definition of color scheme for fitted estimators */\n",
       "  --sklearn-color-fitted-level-0: #f0f8ff;\n",
       "  --sklearn-color-fitted-level-1: #d4ebff;\n",
       "  --sklearn-color-fitted-level-2: #b3dbfd;\n",
       "  --sklearn-color-fitted-level-3: cornflowerblue;\n",
       "\n",
       "  /* Specific color for light theme */\n",
       "  --sklearn-color-text-on-default-background: var(--sg-text-color, var(--theme-code-foreground, var(--jp-content-font-color1, black)));\n",
       "  --sklearn-color-background: var(--sg-background-color, var(--theme-background, var(--jp-layout-color0, white)));\n",
       "  --sklearn-color-border-box: var(--sg-text-color, var(--theme-code-foreground, var(--jp-content-font-color1, black)));\n",
       "  --sklearn-color-icon: #696969;\n",
       "\n",
       "  @media (prefers-color-scheme: dark) {\n",
       "    /* Redefinition of color scheme for dark theme */\n",
       "    --sklearn-color-text-on-default-background: var(--sg-text-color, var(--theme-code-foreground, var(--jp-content-font-color1, white)));\n",
       "    --sklearn-color-background: var(--sg-background-color, var(--theme-background, var(--jp-layout-color0, #111)));\n",
       "    --sklearn-color-border-box: var(--sg-text-color, var(--theme-code-foreground, var(--jp-content-font-color1, white)));\n",
       "    --sklearn-color-icon: #878787;\n",
       "  }\n",
       "}\n",
       "\n",
       "#sk-container-id-2 {\n",
       "  color: var(--sklearn-color-text);\n",
       "}\n",
       "\n",
       "#sk-container-id-2 pre {\n",
       "  padding: 0;\n",
       "}\n",
       "\n",
       "#sk-container-id-2 input.sk-hidden--visually {\n",
       "  border: 0;\n",
       "  clip: rect(1px 1px 1px 1px);\n",
       "  clip: rect(1px, 1px, 1px, 1px);\n",
       "  height: 1px;\n",
       "  margin: -1px;\n",
       "  overflow: hidden;\n",
       "  padding: 0;\n",
       "  position: absolute;\n",
       "  width: 1px;\n",
       "}\n",
       "\n",
       "#sk-container-id-2 div.sk-dashed-wrapped {\n",
       "  border: 1px dashed var(--sklearn-color-line);\n",
       "  margin: 0 0.4em 0.5em 0.4em;\n",
       "  box-sizing: border-box;\n",
       "  padding-bottom: 0.4em;\n",
       "  background-color: var(--sklearn-color-background);\n",
       "}\n",
       "\n",
       "#sk-container-id-2 div.sk-container {\n",
       "  /* jupyter's `normalize.less` sets `[hidden] { display: none; }`\n",
       "     but bootstrap.min.css set `[hidden] { display: none !important; }`\n",
       "     so we also need the `!important` here to be able to override the\n",
       "     default hidden behavior on the sphinx rendered scikit-learn.org.\n",
       "     See: https://github.com/scikit-learn/scikit-learn/issues/21755 */\n",
       "  display: inline-block !important;\n",
       "  position: relative;\n",
       "}\n",
       "\n",
       "#sk-container-id-2 div.sk-text-repr-fallback {\n",
       "  display: none;\n",
       "}\n",
       "\n",
       "div.sk-parallel-item,\n",
       "div.sk-serial,\n",
       "div.sk-item {\n",
       "  /* draw centered vertical line to link estimators */\n",
       "  background-image: linear-gradient(var(--sklearn-color-text-on-default-background), var(--sklearn-color-text-on-default-background));\n",
       "  background-size: 2px 100%;\n",
       "  background-repeat: no-repeat;\n",
       "  background-position: center center;\n",
       "}\n",
       "\n",
       "/* Parallel-specific style estimator block */\n",
       "\n",
       "#sk-container-id-2 div.sk-parallel-item::after {\n",
       "  content: \"\";\n",
       "  width: 100%;\n",
       "  border-bottom: 2px solid var(--sklearn-color-text-on-default-background);\n",
       "  flex-grow: 1;\n",
       "}\n",
       "\n",
       "#sk-container-id-2 div.sk-parallel {\n",
       "  display: flex;\n",
       "  align-items: stretch;\n",
       "  justify-content: center;\n",
       "  background-color: var(--sklearn-color-background);\n",
       "  position: relative;\n",
       "}\n",
       "\n",
       "#sk-container-id-2 div.sk-parallel-item {\n",
       "  display: flex;\n",
       "  flex-direction: column;\n",
       "}\n",
       "\n",
       "#sk-container-id-2 div.sk-parallel-item:first-child::after {\n",
       "  align-self: flex-end;\n",
       "  width: 50%;\n",
       "}\n",
       "\n",
       "#sk-container-id-2 div.sk-parallel-item:last-child::after {\n",
       "  align-self: flex-start;\n",
       "  width: 50%;\n",
       "}\n",
       "\n",
       "#sk-container-id-2 div.sk-parallel-item:only-child::after {\n",
       "  width: 0;\n",
       "}\n",
       "\n",
       "/* Serial-specific style estimator block */\n",
       "\n",
       "#sk-container-id-2 div.sk-serial {\n",
       "  display: flex;\n",
       "  flex-direction: column;\n",
       "  align-items: center;\n",
       "  background-color: var(--sklearn-color-background);\n",
       "  padding-right: 1em;\n",
       "  padding-left: 1em;\n",
       "}\n",
       "\n",
       "\n",
       "/* Toggleable style: style used for estimator/Pipeline/ColumnTransformer box that is\n",
       "clickable and can be expanded/collapsed.\n",
       "- Pipeline and ColumnTransformer use this feature and define the default style\n",
       "- Estimators will overwrite some part of the style using the `sk-estimator` class\n",
       "*/\n",
       "\n",
       "/* Pipeline and ColumnTransformer style (default) */\n",
       "\n",
       "#sk-container-id-2 div.sk-toggleable {\n",
       "  /* Default theme specific background. It is overwritten whether we have a\n",
       "  specific estimator or a Pipeline/ColumnTransformer */\n",
       "  background-color: var(--sklearn-color-background);\n",
       "}\n",
       "\n",
       "/* Toggleable label */\n",
       "#sk-container-id-2 label.sk-toggleable__label {\n",
       "  cursor: pointer;\n",
       "  display: block;\n",
       "  width: 100%;\n",
       "  margin-bottom: 0;\n",
       "  padding: 0.5em;\n",
       "  box-sizing: border-box;\n",
       "  text-align: center;\n",
       "}\n",
       "\n",
       "#sk-container-id-2 label.sk-toggleable__label-arrow:before {\n",
       "  /* Arrow on the left of the label */\n",
       "  content: \"▸\";\n",
       "  float: left;\n",
       "  margin-right: 0.25em;\n",
       "  color: var(--sklearn-color-icon);\n",
       "}\n",
       "\n",
       "#sk-container-id-2 label.sk-toggleable__label-arrow:hover:before {\n",
       "  color: var(--sklearn-color-text);\n",
       "}\n",
       "\n",
       "/* Toggleable content - dropdown */\n",
       "\n",
       "#sk-container-id-2 div.sk-toggleable__content {\n",
       "  max-height: 0;\n",
       "  max-width: 0;\n",
       "  overflow: hidden;\n",
       "  text-align: left;\n",
       "  /* unfitted */\n",
       "  background-color: var(--sklearn-color-unfitted-level-0);\n",
       "}\n",
       "\n",
       "#sk-container-id-2 div.sk-toggleable__content.fitted {\n",
       "  /* fitted */\n",
       "  background-color: var(--sklearn-color-fitted-level-0);\n",
       "}\n",
       "\n",
       "#sk-container-id-2 div.sk-toggleable__content pre {\n",
       "  margin: 0.2em;\n",
       "  border-radius: 0.25em;\n",
       "  color: var(--sklearn-color-text);\n",
       "  /* unfitted */\n",
       "  background-color: var(--sklearn-color-unfitted-level-0);\n",
       "}\n",
       "\n",
       "#sk-container-id-2 div.sk-toggleable__content.fitted pre {\n",
       "  /* unfitted */\n",
       "  background-color: var(--sklearn-color-fitted-level-0);\n",
       "}\n",
       "\n",
       "#sk-container-id-2 input.sk-toggleable__control:checked~div.sk-toggleable__content {\n",
       "  /* Expand drop-down */\n",
       "  max-height: 200px;\n",
       "  max-width: 100%;\n",
       "  overflow: auto;\n",
       "}\n",
       "\n",
       "#sk-container-id-2 input.sk-toggleable__control:checked~label.sk-toggleable__label-arrow:before {\n",
       "  content: \"▾\";\n",
       "}\n",
       "\n",
       "/* Pipeline/ColumnTransformer-specific style */\n",
       "\n",
       "#sk-container-id-2 div.sk-label input.sk-toggleable__control:checked~label.sk-toggleable__label {\n",
       "  color: var(--sklearn-color-text);\n",
       "  background-color: var(--sklearn-color-unfitted-level-2);\n",
       "}\n",
       "\n",
       "#sk-container-id-2 div.sk-label.fitted input.sk-toggleable__control:checked~label.sk-toggleable__label {\n",
       "  background-color: var(--sklearn-color-fitted-level-2);\n",
       "}\n",
       "\n",
       "/* Estimator-specific style */\n",
       "\n",
       "/* Colorize estimator box */\n",
       "#sk-container-id-2 div.sk-estimator input.sk-toggleable__control:checked~label.sk-toggleable__label {\n",
       "  /* unfitted */\n",
       "  background-color: var(--sklearn-color-unfitted-level-2);\n",
       "}\n",
       "\n",
       "#sk-container-id-2 div.sk-estimator.fitted input.sk-toggleable__control:checked~label.sk-toggleable__label {\n",
       "  /* fitted */\n",
       "  background-color: var(--sklearn-color-fitted-level-2);\n",
       "}\n",
       "\n",
       "#sk-container-id-2 div.sk-label label.sk-toggleable__label,\n",
       "#sk-container-id-2 div.sk-label label {\n",
       "  /* The background is the default theme color */\n",
       "  color: var(--sklearn-color-text-on-default-background);\n",
       "}\n",
       "\n",
       "/* On hover, darken the color of the background */\n",
       "#sk-container-id-2 div.sk-label:hover label.sk-toggleable__label {\n",
       "  color: var(--sklearn-color-text);\n",
       "  background-color: var(--sklearn-color-unfitted-level-2);\n",
       "}\n",
       "\n",
       "/* Label box, darken color on hover, fitted */\n",
       "#sk-container-id-2 div.sk-label.fitted:hover label.sk-toggleable__label.fitted {\n",
       "  color: var(--sklearn-color-text);\n",
       "  background-color: var(--sklearn-color-fitted-level-2);\n",
       "}\n",
       "\n",
       "/* Estimator label */\n",
       "\n",
       "#sk-container-id-2 div.sk-label label {\n",
       "  font-family: monospace;\n",
       "  font-weight: bold;\n",
       "  display: inline-block;\n",
       "  line-height: 1.2em;\n",
       "}\n",
       "\n",
       "#sk-container-id-2 div.sk-label-container {\n",
       "  text-align: center;\n",
       "}\n",
       "\n",
       "/* Estimator-specific */\n",
       "#sk-container-id-2 div.sk-estimator {\n",
       "  font-family: monospace;\n",
       "  border: 1px dotted var(--sklearn-color-border-box);\n",
       "  border-radius: 0.25em;\n",
       "  box-sizing: border-box;\n",
       "  margin-bottom: 0.5em;\n",
       "  /* unfitted */\n",
       "  background-color: var(--sklearn-color-unfitted-level-0);\n",
       "}\n",
       "\n",
       "#sk-container-id-2 div.sk-estimator.fitted {\n",
       "  /* fitted */\n",
       "  background-color: var(--sklearn-color-fitted-level-0);\n",
       "}\n",
       "\n",
       "/* on hover */\n",
       "#sk-container-id-2 div.sk-estimator:hover {\n",
       "  /* unfitted */\n",
       "  background-color: var(--sklearn-color-unfitted-level-2);\n",
       "}\n",
       "\n",
       "#sk-container-id-2 div.sk-estimator.fitted:hover {\n",
       "  /* fitted */\n",
       "  background-color: var(--sklearn-color-fitted-level-2);\n",
       "}\n",
       "\n",
       "/* Specification for estimator info (e.g. \"i\" and \"?\") */\n",
       "\n",
       "/* Common style for \"i\" and \"?\" */\n",
       "\n",
       ".sk-estimator-doc-link,\n",
       "a:link.sk-estimator-doc-link,\n",
       "a:visited.sk-estimator-doc-link {\n",
       "  float: right;\n",
       "  font-size: smaller;\n",
       "  line-height: 1em;\n",
       "  font-family: monospace;\n",
       "  background-color: var(--sklearn-color-background);\n",
       "  border-radius: 1em;\n",
       "  height: 1em;\n",
       "  width: 1em;\n",
       "  text-decoration: none !important;\n",
       "  margin-left: 1ex;\n",
       "  /* unfitted */\n",
       "  border: var(--sklearn-color-unfitted-level-1) 1pt solid;\n",
       "  color: var(--sklearn-color-unfitted-level-1);\n",
       "}\n",
       "\n",
       ".sk-estimator-doc-link.fitted,\n",
       "a:link.sk-estimator-doc-link.fitted,\n",
       "a:visited.sk-estimator-doc-link.fitted {\n",
       "  /* fitted */\n",
       "  border: var(--sklearn-color-fitted-level-1) 1pt solid;\n",
       "  color: var(--sklearn-color-fitted-level-1);\n",
       "}\n",
       "\n",
       "/* On hover */\n",
       "div.sk-estimator:hover .sk-estimator-doc-link:hover,\n",
       ".sk-estimator-doc-link:hover,\n",
       "div.sk-label-container:hover .sk-estimator-doc-link:hover,\n",
       ".sk-estimator-doc-link:hover {\n",
       "  /* unfitted */\n",
       "  background-color: var(--sklearn-color-unfitted-level-3);\n",
       "  color: var(--sklearn-color-background);\n",
       "  text-decoration: none;\n",
       "}\n",
       "\n",
       "div.sk-estimator.fitted:hover .sk-estimator-doc-link.fitted:hover,\n",
       ".sk-estimator-doc-link.fitted:hover,\n",
       "div.sk-label-container:hover .sk-estimator-doc-link.fitted:hover,\n",
       ".sk-estimator-doc-link.fitted:hover {\n",
       "  /* fitted */\n",
       "  background-color: var(--sklearn-color-fitted-level-3);\n",
       "  color: var(--sklearn-color-background);\n",
       "  text-decoration: none;\n",
       "}\n",
       "\n",
       "/* Span, style for the box shown on hovering the info icon */\n",
       ".sk-estimator-doc-link span {\n",
       "  display: none;\n",
       "  z-index: 9999;\n",
       "  position: relative;\n",
       "  font-weight: normal;\n",
       "  right: .2ex;\n",
       "  padding: .5ex;\n",
       "  margin: .5ex;\n",
       "  width: min-content;\n",
       "  min-width: 20ex;\n",
       "  max-width: 50ex;\n",
       "  color: var(--sklearn-color-text);\n",
       "  box-shadow: 2pt 2pt 4pt #999;\n",
       "  /* unfitted */\n",
       "  background: var(--sklearn-color-unfitted-level-0);\n",
       "  border: .5pt solid var(--sklearn-color-unfitted-level-3);\n",
       "}\n",
       "\n",
       ".sk-estimator-doc-link.fitted span {\n",
       "  /* fitted */\n",
       "  background: var(--sklearn-color-fitted-level-0);\n",
       "  border: var(--sklearn-color-fitted-level-3);\n",
       "}\n",
       "\n",
       ".sk-estimator-doc-link:hover span {\n",
       "  display: block;\n",
       "}\n",
       "\n",
       "/* \"?\"-specific style due to the `<a>` HTML tag */\n",
       "\n",
       "#sk-container-id-2 a.estimator_doc_link {\n",
       "  float: right;\n",
       "  font-size: 1rem;\n",
       "  line-height: 1em;\n",
       "  font-family: monospace;\n",
       "  background-color: var(--sklearn-color-background);\n",
       "  border-radius: 1rem;\n",
       "  height: 1rem;\n",
       "  width: 1rem;\n",
       "  text-decoration: none;\n",
       "  /* unfitted */\n",
       "  color: var(--sklearn-color-unfitted-level-1);\n",
       "  border: var(--sklearn-color-unfitted-level-1) 1pt solid;\n",
       "}\n",
       "\n",
       "#sk-container-id-2 a.estimator_doc_link.fitted {\n",
       "  /* fitted */\n",
       "  border: var(--sklearn-color-fitted-level-1) 1pt solid;\n",
       "  color: var(--sklearn-color-fitted-level-1);\n",
       "}\n",
       "\n",
       "/* On hover */\n",
       "#sk-container-id-2 a.estimator_doc_link:hover {\n",
       "  /* unfitted */\n",
       "  background-color: var(--sklearn-color-unfitted-level-3);\n",
       "  color: var(--sklearn-color-background);\n",
       "  text-decoration: none;\n",
       "}\n",
       "\n",
       "#sk-container-id-2 a.estimator_doc_link.fitted:hover {\n",
       "  /* fitted */\n",
       "  background-color: var(--sklearn-color-fitted-level-3);\n",
       "}\n",
       "</style><div id=\"sk-container-id-2\" class=\"sk-top-container\"><div class=\"sk-text-repr-fallback\"><pre>RandomForestClassifier(max_samples=0.7, n_estimators=80, n_jobs=1,\n",
       "                       random_state=42)</pre><b>In a Jupyter environment, please rerun this cell to show the HTML representation or trust the notebook. <br />On GitHub, the HTML representation is unable to render, please try loading this page with nbviewer.org.</b></div><div class=\"sk-container\" hidden><div class=\"sk-item\"><div class=\"sk-estimator fitted sk-toggleable\"><input class=\"sk-toggleable__control sk-hidden--visually\" id=\"sk-estimator-id-2\" type=\"checkbox\" checked><label for=\"sk-estimator-id-2\" class=\"sk-toggleable__label fitted sk-toggleable__label-arrow fitted\">&nbsp;&nbsp;RandomForestClassifier<a class=\"sk-estimator-doc-link fitted\" rel=\"noreferrer\" target=\"_blank\" href=\"https://scikit-learn.org/1.5/modules/generated/sklearn.ensemble.RandomForestClassifier.html\">?<span>Documentation for RandomForestClassifier</span></a><span class=\"sk-estimator-doc-link fitted\">i<span>Fitted</span></span></label><div class=\"sk-toggleable__content fitted\"><pre>RandomForestClassifier(max_samples=0.7, n_estimators=80, n_jobs=1,\n",
       "                       random_state=42)</pre></div> </div></div></div></div>"
      ],
      "text/plain": [
       "RandomForestClassifier(max_samples=0.7, n_estimators=80, n_jobs=1,\n",
       "                       random_state=42)"
      ]
     },
     "execution_count": 34,
     "metadata": {},
     "output_type": "execute_result"
    }
   ],
   "source": [
    "model.fit(X_resampled, y_resampled)"
   ]
  },
  {
   "cell_type": "code",
   "execution_count": 35,
   "id": "a2de8a53",
   "metadata": {},
   "outputs": [
    {
     "name": "stdout",
     "output_type": "stream",
     "text": [
      "[0 0 0 ... 0 0 0]\n"
     ]
    }
   ],
   "source": [
    "y_pred_ros = model.predict(X_test)\n",
    "print(y_pred_ros)"
   ]
  },
  {
   "cell_type": "code",
   "execution_count": 36,
   "id": "660e2c3d",
   "metadata": {},
   "outputs": [
    {
     "name": "stdout",
     "output_type": "stream",
     "text": [
      "Classification Report - Oversampling:\n",
      "               precision    recall  f1-score   support\n",
      "\n",
      "           0       1.00      1.00      1.00     85295\n",
      "           1       0.96      0.75      0.84       148\n",
      "\n",
      "    accuracy                           1.00     85443\n",
      "   macro avg       0.98      0.87      0.92     85443\n",
      "weighted avg       1.00      1.00      1.00     85443\n",
      "\n",
      "Confusion Matrix - Oversampling:\n",
      " [[85290     5]\n",
      " [   37   111]]\n",
      "Accuracy Score - Oversampling: 0.9995084442259752\n",
      "Model Score - Oversampling: 0.9999924630690383\n"
     ]
    }
   ],
   "source": [
    "print(\"Classification Report - Oversampling:\\n\", classification_report(y_test, y_pred_ros))\n",
    "print(\"Confusion Matrix - Oversampling:\\n\", confusion_matrix(y_test, y_pred_ros))\n",
    "print(\"Accuracy Score - Oversampling:\", accuracy_score(y_test, y_pred_ros))\n",
    "print(\"Model Score - Oversampling:\", model.score(X_resampled, y_resampled))"
   ]
  },
  {
   "cell_type": "code",
   "execution_count": 37,
   "id": "aa4203ac",
   "metadata": {},
   "outputs": [
    {
     "data": {
      "image/png": "[encoded data removed]",
      "text/plain": [
       "<Figure size 900x900 with 2 Axes>"
      ]
     },
     "metadata": {},
     "output_type": "display_data"
    }
   ],
   "source": [
    "plt.figure(figsize=(9, 9))\n",
    "sns.heatmap(confusion_matrix(y_test, y_pred_ros), annot=True, fmt='d', cmap='Blues', xticklabels=['Not-Fraud', 'Fraud'])\n",
    "plt.xlabel('Predicted')\n",
    "plt.ylabel('Actual')\n",
    "plt.title('Confusion Matrix')\n",
    "plt.show()"
   ]
  },
  {
   "cell_type": "code",
   "execution_count": 38,
   "id": "fcc510b3",
   "metadata": {},
   "outputs": [
    {
     "name": "stderr",
     "output_type": "stream",
     "text": [
      "d:\\Anaconda\\Lib\\site-packages\\joblib\\externals\\loky\\backend\\context.py:136: UserWarning: Could not find the number of physical cores for the following reason:\n",
      "[WinError 2] The system cannot find the file specified\n",
      "Returning the number of logical cores instead. You can silence this warning by setting LOKY_MAX_CPU_COUNT to the number of cores you want to use.\n",
      "  warnings.warn(\n",
      "  File \"d:\\Anaconda\\Lib\\site-packages\\joblib\\externals\\loky\\backend\\context.py\", line 257, in _count_physical_cores\n",
      "    cpu_info = subprocess.run(\n",
      "               ^^^^^^^^^^^^^^^\n",
      "  File \"d:\\Anaconda\\Lib\\subprocess.py\", line 548, in run\n",
      "    with Popen(*popenargs, **kwargs) as process:\n",
      "         ^^^^^^^^^^^^^^^^^^^^^^^^^^^\n",
      "  File \"d:\\Anaconda\\Lib\\subprocess.py\", line 1026, in __init__\n",
      "    self._execute_child(args, executable, preexec_fn, close_fds,\n",
      "  File \"d:\\Anaconda\\Lib\\subprocess.py\", line 1538, in _execute_child\n",
      "    hp, ht, pid, tid = _winapi.CreateProcess(executable, args,\n",
      "                       ^^^^^^^^^^^^^^^^^^^^^^^^^^^^^^^^^^^^^^^\n"
     ]
    }
   ],
   "source": [
    "#SMOTE\n",
    "\n",
    "smote = SMOTE(random_state=40)\n",
    "X_resampled_2, y_resampled_2 = smote.fit_resample(X_train, y_train)"
   ]
  },
  {
   "cell_type": "code",
   "execution_count": 39,
   "id": "19e15a9c",
   "metadata": {},
   "outputs": [
    {
     "data": {
      "application/vnd.microsoft.datawrangler.viewer.v0+json": {
       "columns": [
        {
         "name": "Class",
         "rawType": "int8",
         "type": "integer"
        },
        {
         "name": "count",
         "rawType": "int64",
         "type": "integer"
        }
       ],
       "ref": "45f54da0-7465-492d-a845-c85d60ff6e18",
       "rows": [
        [
         "0",
         "199020"
        ],
        [
         "1",
         "199020"
        ]
       ],
       "shape": {
        "columns": 1,
        "rows": 2
       }
      },
      "text/plain": [
       "Class\n",
       "0    199020\n",
       "1    199020\n",
       "Name: count, dtype: int64"
      ]
     },
     "metadata": {},
     "output_type": "display_data"
    },
    {
     "data": {
      "application/vnd.microsoft.datawrangler.viewer.v0+json": {
       "columns": [
        {
         "name": "('Time', 'V1', 'V2', 'V3', 'V4', 'V5', 'V6', 'V7', 'V8', 'V9', 'V10', 'V11', 'V12', 'V13', 'V14', 'V15', 'V16', 'V17', 'V18', 'V19', 'V20', 'V21', 'V22', 'V23', 'V24', 'V25', 'V26', 'V27', 'V28', 'Amount')",
         "rawType": "object",
         "type": "unknown"
        },
        {
         "name": "count",
         "rawType": "int64",
         "type": "integer"
        }
       ],
       "ref": "758faf8b-b9ab-4b6e-a4a7-f9830556cffc",
       "rows": [
        [
         "(68207.0, -13.192671, 12.785971, -9.90665, 3.3203368, -4.801176, 5.7600584, -18.750889, -37.353443, -0.39153975, -5.052502, 4.4068055, -4.6107564, -1.909488, -9.072711, -0.22607446, -6.2115574, -6.2481456, -3.1492467, 0.05157612, -3.4930499, 27.202839, -8.887017, 5.303607, -0.6394348, 0.2632031, -0.10887693, 1.2695663, 0.93940735, 1.0)",
         "1435"
        ],
        [
         "(94362.0, -26.457745, 16.497473, -30.177317, 8.904157, -17.8926, -1.2279038, -31.197329, -11.43892, -9.462573, -22.187088, 4.4199967, -10.592305, -0.7037958, -3.9262073, -2.4002464, -6.80989, -12.462315, -5.501051, -0.5679396, 2.812241, -8.755698, 3.4608934, 0.8965375, 0.25483555, -0.73809654, -0.96656424, -7.263482, -1.3248843, 1.0)",
         "697"
        ],
        [
         "(93860.0, -10.850282, 6.7274656, -16.760584, 8.425832, -10.252697, -4.192171, -14.077086, 7.1682878, -3.683242, -15.239962, 8.030708, -16.060307, 0.27052975, -14.952981, -0.24109489, -11.866731, -15.48699, -5.7486515, 4.1300316, -0.6468183, 2.541637, 0.13553493, -1.0239669, 0.4062645, 0.10659278, -0.02623239, -1.46463, -0.41168183, 78.0)",
         "237"
        ],
        [
         "(93853.0, -6.1858573, 7.102985, -13.030456, 8.010823, -7.885237, -3.97455, -12.229608, 4.971232, -4.248307, -12.965481, 8.688308, -17.182919, 0.06957691, -14.116156, 0.9590317, -12.375334, -18.716764, -6.5220146, 3.5179548, 0.4839301, 2.5027723, 0.4816913, 0.48095798, 0.36031863, -0.2933543, -0.19919316, -0.20391732, 0.39892718, 44.9)",
         "234"
        ],
        [
         "(93860.0, -10.632375, 7.2519364, -17.681072, 8.2041445, -10.166591, -4.5103436, -12.9816065, 6.783589, -4.6593294, -14.924655, 8.389142, -16.465504, 0.33851695, -14.224403, 0.5565845, -11.683998, -15.841616, -5.7531996, 3.8130407, -0.8101465, 2.715357, 0.6956027, -1.1381221, 0.45944223, 0.3863373, 0.52243847, -1.4166037, -0.48830703, 188.52)",
         "232"
        ],
        [
         "(93879.0, -12.8336315, 7.50879, -20.491953, 7.46578, -11.575304, -5.1409993, -14.020564, 8.332121, -4.337713, -15.563791, 7.61082, -15.592323, 0.50478905, -13.247889, -0.796526, -10.342328, -16.044525, -5.882136, 1.5736979, -1.3789232, 2.9668424, 0.61534435, -0.76649475, 0.431261, -0.10497499, -0.010091327, -2.4008114, -0.7205566, 104.03)",
         "227"
        ],
        [
         "(93879.0, -13.086519, 7.3521485, -18.256577, 10.648505, -11.731477, -3.6591673, -14.873658, 8.8104725, -5.4182043, -13.202578, 6.3572273, -15.531611, 0.65969485, -11.41233, -2.447576, -9.833743, -18.174618, -7.2699046, 0.6237966, -1.3762984, 2.761157, -0.2661618, -0.41286072, 0.51995224, -0.74390894, -0.16780822, -2.4983003, -0.7110661, 30.31)",
         "207"
        ],
        [
         "(163152.0, -1.2036173, 1.5740094, 2.8892767, 3.381404, 1.5386628, 3.698747, 0.5602108, -0.1509109, 0.1241361, 4.220998, 1.3845694, -0.70689696, -0.25627437, -1.5625833, 1.6929147, -0.7873376, -0.22677594, -0.41235384, 0.2343221, 1.385597, -0.36672732, 0.5222234, -0.35732883, -0.87017435, -0.13416629, 0.3270189, -0.042648345, -0.85526174, 1.51)",
         "13"
        ],
        [
         "(163152.0, -1.1960368, 1.5859486, 2.8839757, 3.3784707, 1.5117059, 3.717077, 0.5853616, -0.15600051, 0.12264772, 4.2179337, 1.3855246, -0.709405, -0.25616837, -1.5643524, 1.6932185, -0.7852104, -0.22800837, -0.41283268, 0.23483361, 1.3757899, -0.37029448, 0.52439463, -0.3551695, -0.86978996, -0.13319843, 0.32780436, -0.035702035, -0.8581972, 7.56)",
         "13"
        ],
        [
         "(43153.0, -2.0860162, 2.2032647, 1.6543387, 2.9410496, -1.6830449, 0.5297281, -1.3521616, 1.7934492, -0.7236859, 0.6003651, -0.98221195, -0.5516363, -1.3369995, 0.83440334, 1.2518616, 0.033455413, 1.0679783, 0.16050982, 0.21308735, 0.079001896, 0.2164443, 0.5672408, -0.03534536, 0.37020087, 0.1573781, 0.44034123, 0.21022964, 0.09055794, 0.76)",
         "7"
        ],
        [
         "(170731.0, 2.0334918, 0.7669687, -2.107555, 3.6319518, 1.3485942, -0.49990708, 0.9451593, -0.28639174, -1.3705806, 1.6530734, -1.6004341, -1.5109005, -2.1432798, 1.1898499, -0.8755876, 0.17580767, -0.41943282, -0.46471658, -1.4145283, -0.4305603, 0.2418943, 0.6585446, -0.10264415, 0.5805348, 0.64363736, 0.34724, -0.116618335, -0.07860102, 0.76)",
         "7"
        ],
        [
         "(54334.0, -9.214957, -0.42942247, -3.5565763, 1.5085826, -2.0395465, 0.7076987, 1.2322003, 0.30117214, 2.3845437, 4.20946, 1.5849061, 1.0626086, -0.12048031, -0.2419537, 0.7302257, -0.69346845, 0.3714252, -0.91719115, 0.26302013, -1.6612138, -0.7463372, 0.6479599, -1.2495986, -0.11569666, -0.5519504, -0.7800392, -4.3423495, 0.10405018, 113.48)",
         "4"
        ],
        [
         "(152407.0, -1.3374833, 1.5713563, -0.37126592, -0.6898174, 0.33433437, -0.1457389, 0.28004792, 0.7637779, -0.7054685, -0.73138404, 0.17036262, 0.6481758, -0.31609562, 1.1597725, -0.25004637, 0.12173189, -0.36269793, 0.3839169, 0.9805981, -0.31558645, -0.023300273, -0.547756, -0.06148713, 0.2800978, -0.09283504, -0.5904678, -0.5523003, 0.0044038766, 11.85)",
         "4"
        ],
        [
         "(156922.0, -6.2465444, -2.5469503, -3.6215456, 5.084717, -0.61628175, 0.19851486, -1.471646, 2.297885, -1.5517284, 0.18147358, -2.770169, 1.0990508, 1.7532343, 1.5995423, -0.8715324, 1.7778219, 0.18691513, -0.23922484, -0.33888996, -0.7376777, 0.053690895, -1.1289108, -1.3272355, 0.1703289, -2.8887262, -0.8597034, -0.74144036, -0.75128776, 0.0)",
         "4"
        ],
        [
         "(29150.0, 1.2187016, 0.1779776, 0.307746, 1.1319894, -0.19676967, -0.40359592, 0.06558351, -0.094974026, 0.35894233, -0.10600884, -1.1011835, 0.1181245, -0.16973105, 0.13016103, 0.28455114, 0.010156222, -0.37665755, -0.25784713, 0.12690498, -0.113693856, -0.23693459, -0.60531926, -0.059527367, -0.16724883, 0.5910818, -0.48134583, 0.024247479, 0.022716759, 22.55)",
         "4"
        ],
        [
         "(88759.0, 1.918275, 0.66621184, -0.88264954, 3.5009239, 0.80471694, 0.22726697, 0.23988637, -0.045002297, -1.540552, 1.685299, 0.7606058, 0.7543829, 0.8568172, 0.4229189, -1.0738776, 1.0776192, -1.2337539, 0.18669593, -1.4595886, -0.1972552, 0.28579196, 0.80655324, 0.08049594, 0.7761514, 0.14057656, 0.073627174, -0.048779014, -0.053121906, 3.02)",
         "4"
        ],
        [
         "(31805.0, -3.568808, 2.5625327, 0.5066067, 1.1092901, -2.110745, 0.37717584, -1.8720514, 2.1906023, 0.2250622, -0.5768844, -1.5969067, 0.5278413, -0.77173924, 0.8564288, 0.063955076, -0.37993154, 1.3521695, -0.27722123, 0.58106107, -0.7622794, 0.18795833, -0.07707937, 0.1349555, 0.04971473, 0.16201966, -0.44573724, -2.1684155, -0.7229173, 1.0)",
         "4"
        ],
        [
         "(143083.0, -2.5829191, 2.1274352, -0.17958131, -0.62313443, -1.5432736, -0.7002145, -1.1022328, 1.8098701, 0.2992487, -0.61433077, -1.7664593, 0.56114644, 0.22651896, 0.70149803, -0.15733701, 0.6617819, 0.10874166, 0.2843383, -0.4363514, -0.010244978, 0.28485036, 0.73818463, -0.11024479, 0.02860581, 0.16993797, 0.6550859, 0.16094866, 0.112365544, 6.18)",
         "4"
        ],
        [
         "(159888.0, -3.1464024, 2.5436878, -0.32895702, 2.4996843, -0.112949245, 0.95988756, -0.50103235, 0.6326315, 0.27279297, 2.7411969, -2.0870016, -0.17674403, 0.8247615, -0.76354647, -0.86912644, 1.3754673, -1.1580555, 0.26197726, -1.775934, -0.46506488, 0.31110275, 0.8096074, 0.08518339, 0.21282981, -0.31252617, -0.24837975, -2.73144, -0.7548638, 0.0)",
         "4"
        ],
        [
         "(140347.0, 1.9959174, -0.3307921, -0.23210675, 0.49590674, -0.71380204, -0.6160418, -0.517635, -0.1561917, 1.0316021, -0.02173902, -0.7547113, 1.0568796, 1.4564437, -0.49979877, 0.16373931, 0.20170945, -0.5352769, -0.16751948, -0.281358, -0.113196544, 0.20996837, 0.9080635, 0.119167134, 0.14855446, -0.17819567, 0.6064787, -0.013640087, -0.04618819, 7.94)",
         "4"
        ],
        [
         "(74.0, 1.0383704, 0.12748612, 0.18445589, 1.1099498, 0.4416989, 0.9452825, -0.036714602, 0.350995, 0.11894954, -0.24328925, 0.5780626, 0.6747298, -0.5342306, 0.4466014, 1.1228846, -1.7680005, 1.2411569, -2.4494998, -1.7472552, -0.33551985, 0.102519795, 0.60508853, 0.023092156, -0.62646264, 0.47912028, -0.16693683, 0.08124672, 0.0011915757, 1.18)",
         "4"
        ],
        [
         "(145471.0, 2.038554, 1.385076, -4.489201, 1.8491726, 2.1108928, -1.935733, 1.2003962, -0.41009897, -0.52298653, -1.6095558, 1.8795292, -1.0668772, -1.9800224, -4.0783396, -0.26317158, 1.199108, 3.7194786, 2.6139994, -0.7214402, -0.22449224, 0.020201463, 0.22719464, -0.34667182, -0.9187035, 0.8453355, -0.17740965, 0.0017163166, 0.022474471, 1.0)",
         "4"
        ],
        [
         "(31804.0, -1.783888, 1.2456696, 2.097173, 1.0310585, -0.7937551, 0.56646043, -0.40351233, 0.6259239, 0.6277387, -0.12483051, -1.0363705, -0.11165316, -1.0246043, -0.2646466, 0.19492096, -0.81325066, 0.70394737, -0.39674988, 0.5896463, -0.26462775, -0.054153685, -0.029874792, -0.0941, 0.05619741, 0.11673107, -0.40320387, -1.1178162, -0.46671534, 1.0)",
         "4"
        ],
        [
         "(72612.0, -0.97664356, 1.1668315, 0.4139955, -0.25564107, -1.0728539, -1.3571128, -0.11036982, 0.61865985, 0.2714701, -1.3169233, -0.63692236, 0.013794598, -1.4229494, 1.2304637, 1.4635296, -1.6683528, 1.3132434, 0.2144005, 2.5123272, -0.18682712, 0.19329084, 0.45488545, -0.19896151, 0.72959274, 0.1925951, -0.3634556, -0.2185347, -0.01351698, 1.0)",
         "4"
        ],
        [
         "(146997.0, 2.0137055, -0.18375333, -1.396778, 0.20101397, 0.053106215, -0.83665836, 0.07655532, -0.1888022, 0.49664372, 0.19184664, 0.59936893, 0.5281858, -0.6109712, 0.771122, 0.17284709, 0.14361517, -0.8493056, 0.6624316, 0.15349902, -0.22784579, 0.29371247, 0.9091686, -0.06032007, -0.3149381, 0.23715678, -0.10124732, -0.028231222, -0.06913124, 19.95)",
         "4"
        ],
        [
         "(94084.0, -0.7148934, 1.9738914, -1.1412402, 0.12900665, 1.3425007, -0.95932364, 1.418612, -0.39688438, 1.3928511, 0.72664833, -0.27286902, -3.2218847, 0.5868613, 1.9834385, -0.83360976, -0.44534206, 0.107755244, 0.124071576, -0.8382845, 0.18001242, -0.0412082, 0.30478796, -0.22255704, 0.47627997, 0.53496104, -0.5428911, 0.24035248, 0.24039006, 1.5)",
         "4"
        ],
        [
         "(68780.0, 0.41693693, -1.0407066, 1.6319275, 3.0333152, -1.5023183, 0.7631287, -0.6513597, 0.37429765, 0.50752443, 0.32009998, -0.7086592, -0.26739758, -1.0133495, -0.29514486, 0.31849328, 0.5464199, -0.06774726, -0.106120974, -1.6562586, 0.38479063, 0.39408875, 0.5872345, -0.2552326, 0.40776017, 0.06639208, 0.1446833, 0.015030032, 0.093580544, 320.05)",
         "4"
        ],
        [
         "(134239.0, 2.0957503, 0.36033094, -2.6013458, 0.9636525, 1.3989738, -0.5785113, 0.9173278, -0.34156382, -0.49108538, 0.55918276, 0.38720042, 0.51703876, -0.48949683, 1.1173388, -0.8949762, -0.55421543, -0.58618593, 0.1493149, 0.114594355, -0.2773171, 0.32081598, 1.0588293, -0.24578947, 0.2635694, 0.90794456, -0.21442708, -0.06115309, -0.08792556, 1.0)",
         "4"
        ],
        [
         "(70706.0, 1.2162862, -0.15031224, -0.07586535, -0.8571409, -0.32807404, -0.73153365, 0.07941483, -0.058447342, 0.9369793, -0.8669952, 1.6743842, 1.4660555, -0.5095311, 0.5927275, 0.24045469, -1.2689468, 0.26387796, -0.29267004, 0.6819779, -0.18863098, 0.07067408, 0.45697683, -0.14860159, 0.25768918, 0.8226711, -0.549264, 0.048064016, -0.0007802997, 1.0)",
         "4"
        ],
        [
         "(144381.0, 2.1770065, -0.86754197, -1.0237905, -0.9805557, -0.653452, -0.5662743, -0.7209044, -0.08798784, -0.3782451, 0.9464878, 0.63832474, -0.030701589, -0.20937805, 0.0017569347, -0.6713045, 1.117041, -0.027330019, -0.954716, 0.9739522, -0.062146943, 0.22086512, 0.6779906, 0.112354375, -0.37685117, -0.06530558, -0.15464126, -0.018300612, -0.072259076, 6.0)",
         "3"
        ],
        [
         "(46387.0, -2.525765, 1.9341358, 0.8031839, 1.5719126, -1.621559, 0.98111135, -1.4861786, 2.1808076, -0.06937908, -0.66306365, 0.047970105, 2.1500392, 0.29406977, 0.43986234, -2.2105222, -1.0192108, 1.5403135, -0.49578112, 1.5408165, -0.18096732, -0.14898333, -0.4103737, 0.09562772, 0.024774177, 0.047706593, -0.40220153, -0.21392235, -0.042551294, 9.9)",
         "3"
        ],
        [
         "(143226.0, -6.749424, 3.6601136, -1.4697039, -0.9020036, -2.005678, -0.4749942, -0.7522029, 0.5972948, 3.3794587, 4.279038, -1.166609, -0.038035996, -0.47024736, -0.88706833, 0.6739209, -0.096196435, -0.10503016, -0.041448906, -0.060037624, 0.07160537, 0.102962285, 0.775144, 0.021887844, 0.0065393164, 0.033298645, 0.32551667, -3.5869179, -0.4112017, 5.05)",
         "3"
        ],
        [
         "(63823.0, -1.9393386, 2.011159, 0.11584827, 1.2010416, -0.9510074, 0.21257809, -0.5807635, 1.5967346, -0.5312129, 0.03012509, 0.5131435, 0.8210849, -1.0274315, 1.2120094, -0.4571571, -0.64220566, 0.9186987, 0.01455283, 0.94600093, -0.021725645, 0.0597189, 0.22234225, -0.003458341, 0.009935211, 0.01584567, -0.22074154, 0.27996466, 0.10365953, 26.16)",
         "3"
        ],
        [
         "(33619.0, 1.1632534, -0.014138841, 1.272299, 1.4209467, -0.92689264, -0.12197184, -0.5191569, 0.09352329, 0.9772915, -0.26682168, -0.90509415, 0.7029229, 0.12855919, -0.50570333, -0.44252726, -0.21426821, -0.03978381, -0.3365554, 0.023340868, -0.1524784, -0.18090206, -0.21903875, 0.020564167, 0.39898852, 0.448507, -0.4567453, 0.07566574, 0.035279233, 1.0)",
         "3"
        ],
        [
         "(24646.0, 1.1008283, 0.115819156, 1.5390307, 1.6434047, -0.753781, 0.22784702, -0.62930816, 0.08598582, 2.1169012, -0.7051407, 0.6890607, -1.1923022, 2.4797132, 0.8199527, -1.0383174, -0.66781676, 1.0441282, -0.7149294, -0.66619205, -0.18754826, -0.27332833, -0.1664275, 0.09260738, 0.37421808, 0.33580974, -0.48846143, 0.07099488, 0.03044645, 1.0)",
         "3"
        ],
        [
         "(39897.0, 1.1078286, -0.3086174, 1.096717, 0.6933546, -0.9006471, 0.21958487, -0.69818586, 0.23445718, 0.6909561, -0.08368068, 0.67233694, 1.0198131, 0.017691504, -0.22293985, -0.47258875, 0.4588895, -0.543352, 0.37291953, 0.363896, -0.022280255, -0.0448244, -0.033310987, -0.045892596, 0.053098794, 0.25778988, 0.3163295, 0.0073402137, 0.018673558, 36.8)",
         "3"
        ],
        [
         "(167291.0, -1.4066722, 0.7119892, 0.10620852, -1.2040198, -0.4677826, -1.1185606, 0.14170632, 0.41975442, -2.3877468, -0.22297597, -0.59854734, -0.14932878, 1.3296536, 0.53506655, 0.515394, 0.5229041, 0.94944793, -1.6229471, 1.7133665, 0.16407904, 0.19535308, 0.092129916, -0.3388696, 0.0413597, 0.6293317, -0.025192827, -0.3387208, -0.1479999, 50.0)",
         "3"
        ],
        [
         "(65442.0, -4.977022, 3.1015465, 0.48185253, 2.4644153, -1.838883, 1.7653643, -1.3552707, 1.4970489, 0.753219, 3.2386887, 0.8310711, 0.37458527, -1.1289301, 0.101651765, 0.58355546, -0.32190377, 0.9635858, -0.1862559, 0.45921823, -0.048090886, 0.14527059, 0.16100588, 0.06840789, -0.3209052, 0.010764271, 0.13919555, -1.6320133, 0.7083816, 47.62)",
         "3"
        ],
        [
         "(71593.0, 0.9979589, -0.5988035, 0.5451581, -0.5926927, -0.09913002, 1.625044, -0.8962225, 0.70924157, 0.4026184, -0.23213658, 1.9961727, 0.684319, -0.7828932, 0.4720431, 1.9126228, -0.29006368, 0.46731922, -1.5938253, -1.1409159, -0.13701062, 0.032781087, 0.08389699, 0.19440162, -1.296244, -0.40356395, 1.3665446, -0.029488694, -0.013625831, 39.99)",
         "3"
        ],
        [
         "(169157.0, 2.126109, 0.5733916, -3.7010937, 0.3216748, 1.6532593, -1.2702944, 0.9612083, -0.36456174, 0.06491279, -0.7905879, 0.9068723, -0.37330937, -1.680913, -1.0368092, -0.2829457, 0.03766553, 1.3429555, 1.4624068, 0.30042744, -0.25107035, 0.17025813, 0.6280762, -0.30119058, 0.021081112, 0.9221848, -0.21034065, -0.040924627, -0.041092224, 1.0)",
         "3"
        ],
        [
         "(156037.0, -3.6923478, 3.0088408, -1.1214939, -0.77831984, -2.5384269, -0.31004372, -1.7275571, 2.826003, 0.1270229, -0.30363372, -0.24545027, 1.3850266, -0.1894518, 1.4699695, -0.81448126, 1.0163565, 0.28127357, 0.75095177, -0.31784266, -0.09976254, 0.33176932, 0.81009465, 0.039426126, 0.004503094, 0.2542823, 0.6592841, 0.18639147, 0.06785696, 66.39)",
         "3"
        ],
        [
         "(135143.0, 1.825269, -0.5986553, -1.5382367, 0.8367349, 1.8851777, 4.1787767, -1.0623592, 1.0766834, -0.36889902, 1.0601522, -0.18343739, -0.12380126, 0.040402766, -0.0029946507, 0.1816344, 1.3494712, -0.7555017, -1.0789542, -0.983819, 0.057314727, -0.29334807, -1.1490129, 0.53860164, 0.7325574, -1.0503753, 1.8335974, -0.15987717, -0.054702546, 75.99)",
         "3"
        ],
        [
         "(48321.0, 1.203301, 0.101802796, 0.54030406, 0.8448134, -0.48516917, -0.6881902, 0.06525173, -0.19622357, 0.31669837, -0.22889976, -0.50128716, 0.98753536, 0.9303556, -0.25789732, -0.3151721, -0.32521906, -0.02359413, -0.8283237, 0.20839177, -0.027311856, -0.21187231, -0.41428334, -0.013019046, 0.43905732, 0.4813577, 0.2647863, -0.018858857, 0.017536547, 22.14)",
         "3"
        ],
        [
         "(64947.0, -6.3784404, 3.2938304, 1.7305722, -1.5864927, 0.20331857, 0.21310341, 2.941403, -3.4156463, 7.93898, 11.519106, 3.0226386, -0.7787603, -1.1401373, -5.798989, 0.40593892, -1.7258964, -2.374682, -0.52898747, -0.100571185, 2.9542978, -1.6105763, 0.3852266, -0.36659515, 0.47981924, 0.15388541, -0.5361294, -4.7952204, -3.693525, 5.96)",
         "3"
        ],
        [
         "(65184.0, -3.7582245, 3.0373933, -0.80918896, 1.1365477, -1.6515161, 1.5764407, -2.2334814, 3.1988096, 0.19499154, -0.11384212, -1.2516519, 2.4882548, 1.4454248, 0.6229504, -2.2329767, -0.47810033, 1.3177955, -0.12517257, 1.909717, 0.23887941, -0.29868564, -0.70715266, 0.03178783, -1.3288, 0.52673733, -0.2729288, 0.22637871, 0.07475612, 4.16)",
         "3"
        ],
        [
         "(140347.0, 1.9942753, -0.33350557, -0.23305987, 0.4965972, -0.7146403, -0.61573595, -0.5165071, -0.15641232, 1.031502, -0.022134919, -0.7546991, 1.0569147, 1.4565953, -0.49960634, 0.16384624, 0.20182155, -0.5352517, -0.16734533, -0.2816295, -0.11146555, 0.2104834, 0.9076148, 0.11841794, 0.14859807, -0.17850778, 0.60638803, -0.013800692, -0.046040192, 8.79)",
         "3"
        ],
        [
         "(142583.0, -2.160464, 1.5376122, 0.33420205, -0.65520287, -1.213944, -0.38944498, -0.79546565, 1.4968212, -7.288876e-05, -0.5416502, 0.20734641, 1.1616827, 0.1158366, 0.65497446, -0.8419501, 0.7199016, -0.24985118, 0.70341974, -0.17372145, -0.001962418, 0.33753943, 0.9058517, -0.18467665, 0.13969119, 0.042131014, 0.6192931, 0.18537994, 0.0898202, 18.49)",
         "3"
        ],
        [
         "(39897.0, 1.1669058, -0.2109961, 1.1310067, 0.66851425, -0.8704877, 0.20858014, -0.73876494, 0.24239434, 0.694558, -0.069437616, 0.67189884, 1.0185535, 0.012239499, -0.22986303, -0.4764357, 0.4548562, -0.5442586, 0.3666541, 0.37366295, -0.08455521, -0.06335377, -0.017171226, -0.0189394, 0.05152966, 0.2690181, 0.31959093, 0.013118211, 0.013349038, 6.22)",
         "3"
        ],
        [
         "(21723.0, 1.1390278, 0.7659464, 1.0847746, 2.8165717, -0.31618163, -0.77821946, 0.11713496, -0.28701448, 0.3790553, 0.2855728, 1.052661, -1.9264672, 2.529604, 1.5606469, -0.33743456, 0.48978552, 0.23076452, -0.3166598, -1.4192297, -0.13523574, -0.1723416, -0.2689034, 0.08149109, 0.85561305, 0.35577074, -0.14934856, -0.03022494, 0.026962738, 12.13)",
         "3"
        ],
        [
         "(148067.0, -1.1580486, 2.3005576, -1.5102856, 2.6338398, 1.5982778, -0.51940286, 1.2197026, 0.40918443, -2.5240731, 0.7855455, -1.8283464, -0.5011902, -0.17650957, 1.2654849, -1.69964, 0.28128558, -0.36249676, -0.48291487, -1.6389703, -0.5146139, 0.5555029, 1.1478925, -0.2577713, 0.63368297, -0.095826484, 0.1326097, -0.5447224, 0.10614043, 0.76)",
         "3"
        ]
       ],
       "shape": {
        "columns": 1,
        "rows": 394218
       }
      },
      "text/plain": [
       "Time           V1          V2          V3          V4         V5          V6         V7          V8          V9         V10         V11        V12         V13        V14         V15        V16         V17         V18        V19        V20        V21         V22        V23        V24        V25        V26        V27        V28        Amount    \n",
       "68207.000000   -13.192671   12.785971  -9.906650    3.320337  -4.801176    5.760058  -18.750889  -37.353443  -0.391540  -5.052502    4.406806  -4.610756   -1.909488  -9.072711   -0.226074  -6.211557   -6.248146   -3.149247   0.051576  -3.493050   27.202839  -8.887017   5.303607  -0.639435   0.263203  -0.108877   1.269566   0.939407  1.000000      1435\n",
       "94362.000000   -26.457745   16.497473  -30.177317   8.904157  -17.892599  -1.227904  -31.197329  -11.438920  -9.462573  -22.187088   4.419997  -10.592305  -0.703796  -3.926207   -2.400246  -6.809890   -12.462315  -5.501051  -0.567940   2.812241  -8.755698    3.460893   0.896537   0.254836  -0.738097  -0.966564  -7.263482  -1.324884  1.000000       697\n",
       "93860.000000   -10.850282   6.727466   -16.760584   8.425832  -10.252697  -4.192171  -14.077086   7.168288   -3.683242  -15.239962   8.030708  -16.060307   0.270530  -14.952981  -0.241095  -11.866731  -15.486990  -5.748652   4.130032  -0.646818   2.541637    0.135535  -1.023967   0.406265   0.106593  -0.026232  -1.464630  -0.411682  78.000000      237\n",
       "93853.000000   -6.185857    7.102985   -13.030456   8.010823  -7.885237   -3.974550  -12.229608   4.971232   -4.248307  -12.965481   8.688308  -17.182919   0.069577  -14.116156   0.959032  -12.375334  -18.716764  -6.522015   3.517955   0.483930   2.502772    0.481691   0.480958   0.360319  -0.293354  -0.199193  -0.203917   0.398927  44.900000      234\n",
       "93860.000000   -10.632375   7.251936   -17.681072   8.204144  -10.166591  -4.510344  -12.981606   6.783589   -4.659329  -14.924655   8.389142  -16.465504   0.338517  -14.224403   0.556584  -11.683998  -15.841616  -5.753200   3.813041  -0.810147   2.715357    0.695603  -1.138122   0.459442   0.386337   0.522438  -1.416604  -0.488307  188.520000     232\n",
       "                                                                                                                                                                                                                                                                                                                                                             ... \n",
       "57587.449219   -2.495675    3.798970   -4.851273    3.995447  -0.761450   -1.113717  -2.533645   -0.141456   -3.659126  -6.290308    3.946657  -5.847244   -1.354869  -8.891851   -0.493145  -2.556415   -4.285112   -1.082760  -1.306870   0.640157   0.073169    0.255709  -0.602750  -0.547679   0.151678  -0.010026   0.745243   0.435683  203.729734       1\n",
       "57587.000000    1.176996    0.056391    0.575904    0.671757  -0.618866   -0.748907  -0.117970    0.010390    0.285695  -0.062196   -0.003870  -0.377769   -1.528659   0.640980    1.454920  -0.000900    0.075397   -0.879225  -0.591091  -0.232202  -0.223702   -0.719004   0.220371   0.346977   0.038199   0.109092  -0.025253   0.016550  9.990000         1\n",
       "57586.000000    1.226434    0.135089    0.148126    0.588338  -0.430949   -1.012998   0.107074   -0.079184   -0.120213   0.200677    1.279387   0.049637   -1.783097   0.961636    0.261866   0.216516   -0.366896    0.150323   0.112272  -0.217339  -0.012662   -0.120322  -0.025928   0.524857   0.454902   0.343308  -0.066304  -0.005966  3.590000         1\n",
       "                1.098775   -0.342989    0.503645    0.433025  -0.586118    0.094543  -0.376203    0.224805    0.624300  -0.157539    0.977335   0.656368   -1.307360   0.256328   -0.659878  -0.431487    0.229375   -0.421449   0.250295  -0.146220  -0.014189    0.089700  -0.074468   0.064640   0.386616   0.684737  -0.033526  -0.004305  35.000000        1\n",
       "172792.000000  -0.533413   -0.189733    0.703337   -0.506271  -0.012546   -0.649617   1.577006   -0.414650    0.486180  -0.915427   -1.040458  -0.031513   -0.188093  -0.084316    0.041333  -0.302620   -0.660377    0.167430  -0.256117   0.382948   0.261057    0.643078   0.376777   0.008797  -0.473649  -0.818267  -0.002415   0.013649  217.000000       1\n",
       "Name: count, Length: 394218, dtype: int64"
      ]
     },
     "metadata": {},
     "output_type": "display_data"
    }
   ],
   "source": [
    "class_count_3 = y_resampled_2.value_counts()\n",
    "class_count_4 = X_resampled_2.value_counts()\n",
    "display(class_count_3)\n",
    "display(class_count_4)"
   ]
  },
  {
   "cell_type": "code",
   "execution_count": 40,
   "id": "99c308bc",
   "metadata": {},
   "outputs": [
    {
     "data": {
      "text/html": [
       "<style>#sk-container-id-3 {\n",
       "  /* Definition of color scheme common for light and dark mode */\n",
       "  --sklearn-color-text: black;\n",
       "  --sklearn-color-line: gray;\n",
       "  /* Definition of color scheme for unfitted estimators */\n",
       "  --sklearn-color-unfitted-level-0: #fff5e6;\n",
       "  --sklearn-color-unfitted-level-1: #f6e4d2;\n",
       "  --sklearn-color-unfitted-level-2: #ffe0b3;\n",
       "  --sklearn-color-unfitted-level-3: chocolate;\n",
       "  /* Definition of color scheme for fitted estimators */\n",
       "  --sklearn-color-fitted-level-0: #f0f8ff;\n",
       "  --sklearn-color-fitted-level-1: #d4ebff;\n",
       "  --sklearn-color-fitted-level-2: #b3dbfd;\n",
       "  --sklearn-color-fitted-level-3: cornflowerblue;\n",
       "\n",
       "  /* Specific color for light theme */\n",
       "  --sklearn-color-text-on-default-background: var(--sg-text-color, var(--theme-code-foreground, var(--jp-content-font-color1, black)));\n",
       "  --sklearn-color-background: var(--sg-background-color, var(--theme-background, var(--jp-layout-color0, white)));\n",
       "  --sklearn-color-border-box: var(--sg-text-color, var(--theme-code-foreground, var(--jp-content-font-color1, black)));\n",
       "  --sklearn-color-icon: #696969;\n",
       "\n",
       "  @media (prefers-color-scheme: dark) {\n",
       "    /* Redefinition of color scheme for dark theme */\n",
       "    --sklearn-color-text-on-default-background: var(--sg-text-color, var(--theme-code-foreground, var(--jp-content-font-color1, white)));\n",
       "    --sklearn-color-background: var(--sg-background-color, var(--theme-background, var(--jp-layout-color0, #111)));\n",
       "    --sklearn-color-border-box: var(--sg-text-color, var(--theme-code-foreground, var(--jp-content-font-color1, white)));\n",
       "    --sklearn-color-icon: #878787;\n",
       "  }\n",
       "}\n",
       "\n",
       "#sk-container-id-3 {\n",
       "  color: var(--sklearn-color-text);\n",
       "}\n",
       "\n",
       "#sk-container-id-3 pre {\n",
       "  padding: 0;\n",
       "}\n",
       "\n",
       "#sk-container-id-3 input.sk-hidden--visually {\n",
       "  border: 0;\n",
       "  clip: rect(1px 1px 1px 1px);\n",
       "  clip: rect(1px, 1px, 1px, 1px);\n",
       "  height: 1px;\n",
       "  margin: -1px;\n",
       "  overflow: hidden;\n",
       "  padding: 0;\n",
       "  position: absolute;\n",
       "  width: 1px;\n",
       "}\n",
       "\n",
       "#sk-container-id-3 div.sk-dashed-wrapped {\n",
       "  border: 1px dashed var(--sklearn-color-line);\n",
       "  margin: 0 0.4em 0.5em 0.4em;\n",
       "  box-sizing: border-box;\n",
       "  padding-bottom: 0.4em;\n",
       "  background-color: var(--sklearn-color-background);\n",
       "}\n",
       "\n",
       "#sk-container-id-3 div.sk-container {\n",
       "  /* jupyter's `normalize.less` sets `[hidden] { display: none; }`\n",
       "     but bootstrap.min.css set `[hidden] { display: none !important; }`\n",
       "     so we also need the `!important` here to be able to override the\n",
       "     default hidden behavior on the sphinx rendered scikit-learn.org.\n",
       "     See: https://github.com/scikit-learn/scikit-learn/issues/21755 */\n",
       "  display: inline-block !important;\n",
       "  position: relative;\n",
       "}\n",
       "\n",
       "#sk-container-id-3 div.sk-text-repr-fallback {\n",
       "  display: none;\n",
       "}\n",
       "\n",
       "div.sk-parallel-item,\n",
       "div.sk-serial,\n",
       "div.sk-item {\n",
       "  /* draw centered vertical line to link estimators */\n",
       "  background-image: linear-gradient(var(--sklearn-color-text-on-default-background), var(--sklearn-color-text-on-default-background));\n",
       "  background-size: 2px 100%;\n",
       "  background-repeat: no-repeat;\n",
       "  background-position: center center;\n",
       "}\n",
       "\n",
       "/* Parallel-specific style estimator block */\n",
       "\n",
       "#sk-container-id-3 div.sk-parallel-item::after {\n",
       "  content: \"\";\n",
       "  width: 100%;\n",
       "  border-bottom: 2px solid var(--sklearn-color-text-on-default-background);\n",
       "  flex-grow: 1;\n",
       "}\n",
       "\n",
       "#sk-container-id-3 div.sk-parallel {\n",
       "  display: flex;\n",
       "  align-items: stretch;\n",
       "  justify-content: center;\n",
       "  background-color: var(--sklearn-color-background);\n",
       "  position: relative;\n",
       "}\n",
       "\n",
       "#sk-container-id-3 div.sk-parallel-item {\n",
       "  display: flex;\n",
       "  flex-direction: column;\n",
       "}\n",
       "\n",
       "#sk-container-id-3 div.sk-parallel-item:first-child::after {\n",
       "  align-self: flex-end;\n",
       "  width: 50%;\n",
       "}\n",
       "\n",
       "#sk-container-id-3 div.sk-parallel-item:last-child::after {\n",
       "  align-self: flex-start;\n",
       "  width: 50%;\n",
       "}\n",
       "\n",
       "#sk-container-id-3 div.sk-parallel-item:only-child::after {\n",
       "  width: 0;\n",
       "}\n",
       "\n",
       "/* Serial-specific style estimator block */\n",
       "\n",
       "#sk-container-id-3 div.sk-serial {\n",
       "  display: flex;\n",
       "  flex-direction: column;\n",
       "  align-items: center;\n",
       "  background-color: var(--sklearn-color-background);\n",
       "  padding-right: 1em;\n",
       "  padding-left: 1em;\n",
       "}\n",
       "\n",
       "\n",
       "/* Toggleable style: style used for estimator/Pipeline/ColumnTransformer box that is\n",
       "clickable and can be expanded/collapsed.\n",
       "- Pipeline and ColumnTransformer use this feature and define the default style\n",
       "- Estimators will overwrite some part of the style using the `sk-estimator` class\n",
       "*/\n",
       "\n",
       "/* Pipeline and ColumnTransformer style (default) */\n",
       "\n",
       "#sk-container-id-3 div.sk-toggleable {\n",
       "  /* Default theme specific background. It is overwritten whether we have a\n",
       "  specific estimator or a Pipeline/ColumnTransformer */\n",
       "  background-color: var(--sklearn-color-background);\n",
       "}\n",
       "\n",
       "/* Toggleable label */\n",
       "#sk-container-id-3 label.sk-toggleable__label {\n",
       "  cursor: pointer;\n",
       "  display: block;\n",
       "  width: 100%;\n",
       "  margin-bottom: 0;\n",
       "  padding: 0.5em;\n",
       "  box-sizing: border-box;\n",
       "  text-align: center;\n",
       "}\n",
       "\n",
       "#sk-container-id-3 label.sk-toggleable__label-arrow:before {\n",
       "  /* Arrow on the left of the label */\n",
       "  content: \"▸\";\n",
       "  float: left;\n",
       "  margin-right: 0.25em;\n",
       "  color: var(--sklearn-color-icon);\n",
       "}\n",
       "\n",
       "#sk-container-id-3 label.sk-toggleable__label-arrow:hover:before {\n",
       "  color: var(--sklearn-color-text);\n",
       "}\n",
       "\n",
       "/* Toggleable content - dropdown */\n",
       "\n",
       "#sk-container-id-3 div.sk-toggleable__content {\n",
       "  max-height: 0;\n",
       "  max-width: 0;\n",
       "  overflow: hidden;\n",
       "  text-align: left;\n",
       "  /* unfitted */\n",
       "  background-color: var(--sklearn-color-unfitted-level-0);\n",
       "}\n",
       "\n",
       "#sk-container-id-3 div.sk-toggleable__content.fitted {\n",
       "  /* fitted */\n",
       "  background-color: var(--sklearn-color-fitted-level-0);\n",
       "}\n",
       "\n",
       "#sk-container-id-3 div.sk-toggleable__content pre {\n",
       "  margin: 0.2em;\n",
       "  border-radius: 0.25em;\n",
       "  color: var(--sklearn-color-text);\n",
       "  /* unfitted */\n",
       "  background-color: var(--sklearn-color-unfitted-level-0);\n",
       "}\n",
       "\n",
       "#sk-container-id-3 div.sk-toggleable__content.fitted pre {\n",
       "  /* unfitted */\n",
       "  background-color: var(--sklearn-color-fitted-level-0);\n",
       "}\n",
       "\n",
       "#sk-container-id-3 input.sk-toggleable__control:checked~div.sk-toggleable__content {\n",
       "  /* Expand drop-down */\n",
       "  max-height: 200px;\n",
       "  max-width: 100%;\n",
       "  overflow: auto;\n",
       "}\n",
       "\n",
       "#sk-container-id-3 input.sk-toggleable__control:checked~label.sk-toggleable__label-arrow:before {\n",
       "  content: \"▾\";\n",
       "}\n",
       "\n",
       "/* Pipeline/ColumnTransformer-specific style */\n",
       "\n",
       "#sk-container-id-3 div.sk-label input.sk-toggleable__control:checked~label.sk-toggleable__label {\n",
       "  color: var(--sklearn-color-text);\n",
       "  background-color: var(--sklearn-color-unfitted-level-2);\n",
       "}\n",
       "\n",
       "#sk-container-id-3 div.sk-label.fitted input.sk-toggleable__control:checked~label.sk-toggleable__label {\n",
       "  background-color: var(--sklearn-color-fitted-level-2);\n",
       "}\n",
       "\n",
       "/* Estimator-specific style */\n",
       "\n",
       "/* Colorize estimator box */\n",
       "#sk-container-id-3 div.sk-estimator input.sk-toggleable__control:checked~label.sk-toggleable__label {\n",
       "  /* unfitted */\n",
       "  background-color: var(--sklearn-color-unfitted-level-2);\n",
       "}\n",
       "\n",
       "#sk-container-id-3 div.sk-estimator.fitted input.sk-toggleable__control:checked~label.sk-toggleable__label {\n",
       "  /* fitted */\n",
       "  background-color: var(--sklearn-color-fitted-level-2);\n",
       "}\n",
       "\n",
       "#sk-container-id-3 div.sk-label label.sk-toggleable__label,\n",
       "#sk-container-id-3 div.sk-label label {\n",
       "  /* The background is the default theme color */\n",
       "  color: var(--sklearn-color-text-on-default-background);\n",
       "}\n",
       "\n",
       "/* On hover, darken the color of the background */\n",
       "#sk-container-id-3 div.sk-label:hover label.sk-toggleable__label {\n",
       "  color: var(--sklearn-color-text);\n",
       "  background-color: var(--sklearn-color-unfitted-level-2);\n",
       "}\n",
       "\n",
       "/* Label box, darken color on hover, fitted */\n",
       "#sk-container-id-3 div.sk-label.fitted:hover label.sk-toggleable__label.fitted {\n",
       "  color: var(--sklearn-color-text);\n",
       "  background-color: var(--sklearn-color-fitted-level-2);\n",
       "}\n",
       "\n",
       "/* Estimator label */\n",
       "\n",
       "#sk-container-id-3 div.sk-label label {\n",
       "  font-family: monospace;\n",
       "  font-weight: bold;\n",
       "  display: inline-block;\n",
       "  line-height: 1.2em;\n",
       "}\n",
       "\n",
       "#sk-container-id-3 div.sk-label-container {\n",
       "  text-align: center;\n",
       "}\n",
       "\n",
       "/* Estimator-specific */\n",
       "#sk-container-id-3 div.sk-estimator {\n",
       "  font-family: monospace;\n",
       "  border: 1px dotted var(--sklearn-color-border-box);\n",
       "  border-radius: 0.25em;\n",
       "  box-sizing: border-box;\n",
       "  margin-bottom: 0.5em;\n",
       "  /* unfitted */\n",
       "  background-color: var(--sklearn-color-unfitted-level-0);\n",
       "}\n",
       "\n",
       "#sk-container-id-3 div.sk-estimator.fitted {\n",
       "  /* fitted */\n",
       "  background-color: var(--sklearn-color-fitted-level-0);\n",
       "}\n",
       "\n",
       "/* on hover */\n",
       "#sk-container-id-3 div.sk-estimator:hover {\n",
       "  /* unfitted */\n",
       "  background-color: var(--sklearn-color-unfitted-level-2);\n",
       "}\n",
       "\n",
       "#sk-container-id-3 div.sk-estimator.fitted:hover {\n",
       "  /* fitted */\n",
       "  background-color: var(--sklearn-color-fitted-level-2);\n",
       "}\n",
       "\n",
       "/* Specification for estimator info (e.g. \"i\" and \"?\") */\n",
       "\n",
       "/* Common style for \"i\" and \"?\" */\n",
       "\n",
       ".sk-estimator-doc-link,\n",
       "a:link.sk-estimator-doc-link,\n",
       "a:visited.sk-estimator-doc-link {\n",
       "  float: right;\n",
       "  font-size: smaller;\n",
       "  line-height: 1em;\n",
       "  font-family: monospace;\n",
       "  background-color: var(--sklearn-color-background);\n",
       "  border-radius: 1em;\n",
       "  height: 1em;\n",
       "  width: 1em;\n",
       "  text-decoration: none !important;\n",
       "  margin-left: 1ex;\n",
       "  /* unfitted */\n",
       "  border: var(--sklearn-color-unfitted-level-1) 1pt solid;\n",
       "  color: var(--sklearn-color-unfitted-level-1);\n",
       "}\n",
       "\n",
       ".sk-estimator-doc-link.fitted,\n",
       "a:link.sk-estimator-doc-link.fitted,\n",
       "a:visited.sk-estimator-doc-link.fitted {\n",
       "  /* fitted */\n",
       "  border: var(--sklearn-color-fitted-level-1) 1pt solid;\n",
       "  color: var(--sklearn-color-fitted-level-1);\n",
       "}\n",
       "\n",
       "/* On hover */\n",
       "div.sk-estimator:hover .sk-estimator-doc-link:hover,\n",
       ".sk-estimator-doc-link:hover,\n",
       "div.sk-label-container:hover .sk-estimator-doc-link:hover,\n",
       ".sk-estimator-doc-link:hover {\n",
       "  /* unfitted */\n",
       "  background-color: var(--sklearn-color-unfitted-level-3);\n",
       "  color: var(--sklearn-color-background);\n",
       "  text-decoration: none;\n",
       "}\n",
       "\n",
       "div.sk-estimator.fitted:hover .sk-estimator-doc-link.fitted:hover,\n",
       ".sk-estimator-doc-link.fitted:hover,\n",
       "div.sk-label-container:hover .sk-estimator-doc-link.fitted:hover,\n",
       ".sk-estimator-doc-link.fitted:hover {\n",
       "  /* fitted */\n",
       "  background-color: var(--sklearn-color-fitted-level-3);\n",
       "  color: var(--sklearn-color-background);\n",
       "  text-decoration: none;\n",
       "}\n",
       "\n",
       "/* Span, style for the box shown on hovering the info icon */\n",
       ".sk-estimator-doc-link span {\n",
       "  display: none;\n",
       "  z-index: 9999;\n",
       "  position: relative;\n",
       "  font-weight: normal;\n",
       "  right: .2ex;\n",
       "  padding: .5ex;\n",
       "  margin: .5ex;\n",
       "  width: min-content;\n",
       "  min-width: 20ex;\n",
       "  max-width: 50ex;\n",
       "  color: var(--sklearn-color-text);\n",
       "  box-shadow: 2pt 2pt 4pt #999;\n",
       "  /* unfitted */\n",
       "  background: var(--sklearn-color-unfitted-level-0);\n",
       "  border: .5pt solid var(--sklearn-color-unfitted-level-3);\n",
       "}\n",
       "\n",
       ".sk-estimator-doc-link.fitted span {\n",
       "  /* fitted */\n",
       "  background: var(--sklearn-color-fitted-level-0);\n",
       "  border: var(--sklearn-color-fitted-level-3);\n",
       "}\n",
       "\n",
       ".sk-estimator-doc-link:hover span {\n",
       "  display: block;\n",
       "}\n",
       "\n",
       "/* \"?\"-specific style due to the `<a>` HTML tag */\n",
       "\n",
       "#sk-container-id-3 a.estimator_doc_link {\n",
       "  float: right;\n",
       "  font-size: 1rem;\n",
       "  line-height: 1em;\n",
       "  font-family: monospace;\n",
       "  background-color: var(--sklearn-color-background);\n",
       "  border-radius: 1rem;\n",
       "  height: 1rem;\n",
       "  width: 1rem;\n",
       "  text-decoration: none;\n",
       "  /* unfitted */\n",
       "  color: var(--sklearn-color-unfitted-level-1);\n",
       "  border: var(--sklearn-color-unfitted-level-1) 1pt solid;\n",
       "}\n",
       "\n",
       "#sk-container-id-3 a.estimator_doc_link.fitted {\n",
       "  /* fitted */\n",
       "  border: var(--sklearn-color-fitted-level-1) 1pt solid;\n",
       "  color: var(--sklearn-color-fitted-level-1);\n",
       "}\n",
       "\n",
       "/* On hover */\n",
       "#sk-container-id-3 a.estimator_doc_link:hover {\n",
       "  /* unfitted */\n",
       "  background-color: var(--sklearn-color-unfitted-level-3);\n",
       "  color: var(--sklearn-color-background);\n",
       "  text-decoration: none;\n",
       "}\n",
       "\n",
       "#sk-container-id-3 a.estimator_doc_link.fitted:hover {\n",
       "  /* fitted */\n",
       "  background-color: var(--sklearn-color-fitted-level-3);\n",
       "}\n",
       "</style><div id=\"sk-container-id-3\" class=\"sk-top-container\"><div class=\"sk-text-repr-fallback\"><pre>RandomForestClassifier(max_samples=0.7, n_estimators=80, n_jobs=1,\n",
       "                       random_state=42)</pre><b>In a Jupyter environment, please rerun this cell to show the HTML representation or trust the notebook. <br />On GitHub, the HTML representation is unable to render, please try loading this page with nbviewer.org.</b></div><div class=\"sk-container\" hidden><div class=\"sk-item\"><div class=\"sk-estimator fitted sk-toggleable\"><input class=\"sk-toggleable__control sk-hidden--visually\" id=\"sk-estimator-id-3\" type=\"checkbox\" checked><label for=\"sk-estimator-id-3\" class=\"sk-toggleable__label fitted sk-toggleable__label-arrow fitted\">&nbsp;&nbsp;RandomForestClassifier<a class=\"sk-estimator-doc-link fitted\" rel=\"noreferrer\" target=\"_blank\" href=\"https://scikit-learn.org/1.5/modules/generated/sklearn.ensemble.RandomForestClassifier.html\">?<span>Documentation for RandomForestClassifier</span></a><span class=\"sk-estimator-doc-link fitted\">i<span>Fitted</span></span></label><div class=\"sk-toggleable__content fitted\"><pre>RandomForestClassifier(max_samples=0.7, n_estimators=80, n_jobs=1,\n",
       "                       random_state=42)</pre></div> </div></div></div></div>"
      ],
      "text/plain": [
       "RandomForestClassifier(max_samples=0.7, n_estimators=80, n_jobs=1,\n",
       "                       random_state=42)"
      ]
     },
     "execution_count": 40,
     "metadata": {},
     "output_type": "execute_result"
    }
   ],
   "source": [
    "model.fit(X_resampled_2, y_resampled_2)"
   ]
  },
  {
   "cell_type": "code",
   "execution_count": 41,
   "id": "d9bdb58c",
   "metadata": {},
   "outputs": [
    {
     "data": {
      "text/plain": [
       "array([0, 0, 0, ..., 0, 0, 0], dtype=int8)"
      ]
     },
     "metadata": {},
     "output_type": "display_data"
    }
   ],
   "source": [
    "y_pred_smote = model.predict(X_test)\n",
    "display(y_pred_smote)"
   ]
  },
  {
   "cell_type": "code",
   "execution_count": 42,
   "id": "b358fb0e",
   "metadata": {},
   "outputs": [
    {
     "name": "stdout",
     "output_type": "stream",
     "text": [
      "Classification Report - SMOTE:\n",
      "               precision    recall  f1-score   support\n",
      "\n",
      "           0       1.00      1.00      1.00     85295\n",
      "           1       0.86      0.80      0.83       148\n",
      "\n",
      "    accuracy                           1.00     85443\n",
      "   macro avg       0.93      0.90      0.91     85443\n",
      "weighted avg       1.00      1.00      1.00     85443\n",
      "\n",
      "Confusion Matrix - SMOTE:\n",
      " [[85276    19]\n",
      " [   30   118]]\n",
      "Accuracy Score - SMOTE: 0.9994265182636377\n",
      "Model Score - SMOTE: 0.9999849261380765\n"
     ]
    }
   ],
   "source": [
    "print(\"Classification Report - SMOTE:\\n\", classification_report(y_test, y_pred_smote))\n",
    "print(\"Confusion Matrix - SMOTE:\\n\", confusion_matrix(y_test, y_pred_smote))\n",
    "print(\"Accuracy Score - SMOTE:\", accuracy_score(y_test, y_pred_smote))\n",
    "print(\"Model Score - SMOTE:\", model.score(X_resampled_2, y_resampled_2))"
   ]
  },
  {
   "cell_type": "code",
   "execution_count": 43,
   "id": "93d31528",
   "metadata": {},
   "outputs": [],
   "source": [
    "adasyn = ADASYN(random_state=42)\n",
    "X_resampled_3, y_resampled_3 = adasyn.fit_resample(X_train, y_train)"
   ]
  },
  {
   "cell_type": "code",
   "execution_count": 44,
   "id": "41df9cfc",
   "metadata": {},
   "outputs": [
    {
     "data": {
      "application/vnd.microsoft.datawrangler.viewer.v0+json": {
       "columns": [
        {
         "name": "Class",
         "rawType": "int8",
         "type": "integer"
        },
        {
         "name": "count",
         "rawType": "int64",
         "type": "integer"
        }
       ],
       "ref": "c6acc1aa-0c3c-47aa-a3aa-05fb74777c72",
       "rows": [
        [
         "0",
         "199020"
        ],
        [
         "1",
         "198921"
        ]
       ],
       "shape": {
        "columns": 1,
        "rows": 2
       }
      },
      "text/plain": [
       "Class\n",
       "0    199020\n",
       "1    198921\n",
       "Name: count, dtype: int64"
      ]
     },
     "metadata": {},
     "output_type": "display_data"
    },
    {
     "data": {
      "application/vnd.microsoft.datawrangler.viewer.v0+json": {
       "columns": [
        {
         "name": "('Time', 'V1', 'V2', 'V3', 'V4', 'V5', 'V6', 'V7', 'V8', 'V9', 'V10', 'V11', 'V12', 'V13', 'V14', 'V15', 'V16', 'V17', 'V18', 'V19', 'V20', 'V21', 'V22', 'V23', 'V24', 'V25', 'V26', 'V27', 'V28', 'Amount')",
         "rawType": "object",
         "type": "unknown"
        },
        {
         "name": "count",
         "rawType": "int64",
         "type": "integer"
        }
       ],
       "ref": "bc51ce8f-30ea-4600-8aab-d571162cb1f6",
       "rows": [
        [
         "(68207.0, -13.192671, 12.785971, -9.90665, 3.3203368, -4.801176, 5.7600584, -18.750889, -37.353443, -0.39153975, -5.052502, 4.4068055, -4.6107564, -1.909488, -9.072711, -0.22607446, -6.2115574, -6.2481456, -3.1492467, 0.05157612, -3.4930499, 27.202839, -8.887017, 5.303607, -0.6394348, 0.2632031, -0.10887693, 1.2695663, 0.93940735, 1.0)",
         "616"
        ],
        [
         "(94362.0, -26.457745, 16.497473, -30.177317, 8.904157, -17.8926, -1.2279038, -31.197329, -11.43892, -9.462573, -22.187088, 4.4199967, -10.592305, -0.7037958, -3.9262073, -2.4002464, -6.80989, -12.462315, -5.501051, -0.5679396, 2.812241, -8.755698, 3.4608934, 0.8965375, 0.25483555, -0.73809654, -0.96656424, -7.263482, -1.3248843, 1.0)",
         "313"
        ],
        [
         "(93860.0, -10.632375, 7.2519364, -17.681072, 8.2041445, -10.166591, -4.5103436, -12.9816065, 6.783589, -4.6593294, -14.924655, 8.389142, -16.465504, 0.33851695, -14.224403, 0.5565845, -11.683998, -15.841616, -5.7531996, 3.8130407, -0.8101465, 2.715357, 0.6956027, -1.1381221, 0.45944223, 0.3863373, 0.52243847, -1.4166037, -0.48830703, 188.52)",
         "102"
        ],
        [
         "(93879.0, -12.8336315, 7.50879, -20.491953, 7.46578, -11.575304, -5.1409993, -14.020564, 8.332121, -4.337713, -15.563791, 7.61082, -15.592323, 0.50478905, -13.247889, -0.796526, -10.342328, -16.044525, -5.882136, 1.5736979, -1.3789232, 2.9668424, 0.61534435, -0.76649475, 0.431261, -0.10497499, -0.010091327, -2.4008114, -0.7205566, 104.03)",
         "57"
        ],
        [
         "(163152.0, -1.2036173, 1.5740094, 2.8892767, 3.381404, 1.5386628, 3.698747, 0.5602108, -0.1509109, 0.1241361, 4.220998, 1.3845694, -0.70689696, -0.25627437, -1.5625833, 1.6929147, -0.7873376, -0.22677594, -0.41235384, 0.2343221, 1.385597, -0.36672732, 0.5222234, -0.35732883, -0.87017435, -0.13416629, 0.3270189, -0.042648345, -0.85526174, 1.51)",
         "13"
        ],
        [
         "(163152.0, -1.1960368, 1.5859486, 2.8839757, 3.3784707, 1.5117059, 3.717077, 0.5853616, -0.15600051, 0.12264772, 4.2179337, 1.3855246, -0.709405, -0.25616837, -1.5643524, 1.6932185, -0.7852104, -0.22800837, -0.41283268, 0.23483361, 1.3757899, -0.37029448, 0.52439463, -0.3551695, -0.86978996, -0.13319843, 0.32780436, -0.035702035, -0.8581972, 7.56)",
         "13"
        ],
        [
         "(43153.0, -2.0860162, 2.2032647, 1.6543387, 2.9410496, -1.6830449, 0.5297281, -1.3521616, 1.7934492, -0.7236859, 0.6003651, -0.98221195, -0.5516363, -1.3369995, 0.83440334, 1.2518616, 0.033455413, 1.0679783, 0.16050982, 0.21308735, 0.079001896, 0.2164443, 0.5672408, -0.03534536, 0.37020087, 0.1573781, 0.44034123, 0.21022964, 0.09055794, 0.76)",
         "7"
        ],
        [
         "(170731.0, 2.0334918, 0.7669687, -2.107555, 3.6319518, 1.3485942, -0.49990708, 0.9451593, -0.28639174, -1.3705806, 1.6530734, -1.6004341, -1.5109005, -2.1432798, 1.1898499, -0.8755876, 0.17580767, -0.41943282, -0.46471658, -1.4145283, -0.4305603, 0.2418943, 0.6585446, -0.10264415, 0.5805348, 0.64363736, 0.34724, -0.116618335, -0.07860102, 0.76)",
         "7"
        ],
        [
         "(159888.0, -3.1464024, 2.5436878, -0.32895702, 2.4996843, -0.112949245, 0.95988756, -0.50103235, 0.6326315, 0.27279297, 2.7411969, -2.0870016, -0.17674403, 0.8247615, -0.76354647, -0.86912644, 1.3754673, -1.1580555, 0.26197726, -1.775934, -0.46506488, 0.31110275, 0.8096074, 0.08518339, 0.21282981, -0.31252617, -0.24837975, -2.73144, -0.7548638, 0.0)",
         "4"
        ],
        [
         "(94084.0, -0.7148934, 1.9738914, -1.1412402, 0.12900665, 1.3425007, -0.95932364, 1.418612, -0.39688438, 1.3928511, 0.72664833, -0.27286902, -3.2218847, 0.5868613, 1.9834385, -0.83360976, -0.44534206, 0.107755244, 0.124071576, -0.8382845, 0.18001242, -0.0412082, 0.30478796, -0.22255704, 0.47627997, 0.53496104, -0.5428911, 0.24035248, 0.24039006, 1.5)",
         "4"
        ],
        [
         "(143083.0, -2.5829191, 2.1274352, -0.17958131, -0.62313443, -1.5432736, -0.7002145, -1.1022328, 1.8098701, 0.2992487, -0.61433077, -1.7664593, 0.56114644, 0.22651896, 0.70149803, -0.15733701, 0.6617819, 0.10874166, 0.2843383, -0.4363514, -0.010244978, 0.28485036, 0.73818463, -0.11024479, 0.02860581, 0.16993797, 0.6550859, 0.16094866, 0.112365544, 6.18)",
         "4"
        ],
        [
         "(29150.0, 1.2187016, 0.1779776, 0.307746, 1.1319894, -0.19676967, -0.40359592, 0.06558351, -0.094974026, 0.35894233, -0.10600884, -1.1011835, 0.1181245, -0.16973105, 0.13016103, 0.28455114, 0.010156222, -0.37665755, -0.25784713, 0.12690498, -0.113693856, -0.23693459, -0.60531926, -0.059527367, -0.16724883, 0.5910818, -0.48134583, 0.024247479, 0.022716759, 22.55)",
         "4"
        ],
        [
         "(72612.0, -0.97664356, 1.1668315, 0.4139955, -0.25564107, -1.0728539, -1.3571128, -0.11036982, 0.61865985, 0.2714701, -1.3169233, -0.63692236, 0.013794598, -1.4229494, 1.2304637, 1.4635296, -1.6683528, 1.3132434, 0.2144005, 2.5123272, -0.18682712, 0.19329084, 0.45488545, -0.19896151, 0.72959274, 0.1925951, -0.3634556, -0.2185347, -0.01351698, 1.0)",
         "4"
        ],
        [
         "(140347.0, 1.9959174, -0.3307921, -0.23210675, 0.49590674, -0.71380204, -0.6160418, -0.517635, -0.1561917, 1.0316021, -0.02173902, -0.7547113, 1.0568796, 1.4564437, -0.49979877, 0.16373931, 0.20170945, -0.5352769, -0.16751948, -0.281358, -0.113196544, 0.20996837, 0.9080635, 0.119167134, 0.14855446, -0.17819567, 0.6064787, -0.013640087, -0.04618819, 7.94)",
         "4"
        ],
        [
         "(134239.0, 2.0957503, 0.36033094, -2.6013458, 0.9636525, 1.3989738, -0.5785113, 0.9173278, -0.34156382, -0.49108538, 0.55918276, 0.38720042, 0.51703876, -0.48949683, 1.1173388, -0.8949762, -0.55421543, -0.58618593, 0.1493149, 0.114594355, -0.2773171, 0.32081598, 1.0588293, -0.24578947, 0.2635694, 0.90794456, -0.21442708, -0.06115309, -0.08792556, 1.0)",
         "4"
        ],
        [
         "(54334.0, -9.214957, -0.42942247, -3.5565763, 1.5085826, -2.0395465, 0.7076987, 1.2322003, 0.30117214, 2.3845437, 4.20946, 1.5849061, 1.0626086, -0.12048031, -0.2419537, 0.7302257, -0.69346845, 0.3714252, -0.91719115, 0.26302013, -1.6612138, -0.7463372, 0.6479599, -1.2495986, -0.11569666, -0.5519504, -0.7800392, -4.3423495, 0.10405018, 113.48)",
         "4"
        ],
        [
         "(88759.0, 1.918275, 0.66621184, -0.88264954, 3.5009239, 0.80471694, 0.22726697, 0.23988637, -0.045002297, -1.540552, 1.685299, 0.7606058, 0.7543829, 0.8568172, 0.4229189, -1.0738776, 1.0776192, -1.2337539, 0.18669593, -1.4595886, -0.1972552, 0.28579196, 0.80655324, 0.08049594, 0.7761514, 0.14057656, 0.073627174, -0.048779014, -0.053121906, 3.02)",
         "4"
        ],
        [
         "(74.0, 1.0383704, 0.12748612, 0.18445589, 1.1099498, 0.4416989, 0.9452825, -0.036714602, 0.350995, 0.11894954, -0.24328925, 0.5780626, 0.6747298, -0.5342306, 0.4466014, 1.1228846, -1.7680005, 1.2411569, -2.4494998, -1.7472552, -0.33551985, 0.102519795, 0.60508853, 0.023092156, -0.62646264, 0.47912028, -0.16693683, 0.08124672, 0.0011915757, 1.18)",
         "4"
        ],
        [
         "(146997.0, 2.0137055, -0.18375333, -1.396778, 0.20101397, 0.053106215, -0.83665836, 0.07655532, -0.1888022, 0.49664372, 0.19184664, 0.59936893, 0.5281858, -0.6109712, 0.771122, 0.17284709, 0.14361517, -0.8493056, 0.6624316, 0.15349902, -0.22784579, 0.29371247, 0.9091686, -0.06032007, -0.3149381, 0.23715678, -0.10124732, -0.028231222, -0.06913124, 19.95)",
         "4"
        ],
        [
         "(152407.0, -1.3374833, 1.5713563, -0.37126592, -0.6898174, 0.33433437, -0.1457389, 0.28004792, 0.7637779, -0.7054685, -0.73138404, 0.17036262, 0.6481758, -0.31609562, 1.1597725, -0.25004637, 0.12173189, -0.36269793, 0.3839169, 0.9805981, -0.31558645, -0.023300273, -0.547756, -0.06148713, 0.2800978, -0.09283504, -0.5904678, -0.5523003, 0.0044038766, 11.85)",
         "4"
        ],
        [
         "(31804.0, -1.783888, 1.2456696, 2.097173, 1.0310585, -0.7937551, 0.56646043, -0.40351233, 0.6259239, 0.6277387, -0.12483051, -1.0363705, -0.11165316, -1.0246043, -0.2646466, 0.19492096, -0.81325066, 0.70394737, -0.39674988, 0.5896463, -0.26462775, -0.054153685, -0.029874792, -0.0941, 0.05619741, 0.11673107, -0.40320387, -1.1178162, -0.46671534, 1.0)",
         "4"
        ],
        [
         "(145471.0, 2.038554, 1.385076, -4.489201, 1.8491726, 2.1108928, -1.935733, 1.2003962, -0.41009897, -0.52298653, -1.6095558, 1.8795292, -1.0668772, -1.9800224, -4.0783396, -0.26317158, 1.199108, 3.7194786, 2.6139994, -0.7214402, -0.22449224, 0.020201463, 0.22719464, -0.34667182, -0.9187035, 0.8453355, -0.17740965, 0.0017163166, 0.022474471, 1.0)",
         "4"
        ],
        [
         "(70706.0, 1.2162862, -0.15031224, -0.07586535, -0.8571409, -0.32807404, -0.73153365, 0.07941483, -0.058447342, 0.9369793, -0.8669952, 1.6743842, 1.4660555, -0.5095311, 0.5927275, 0.24045469, -1.2689468, 0.26387796, -0.29267004, 0.6819779, -0.18863098, 0.07067408, 0.45697683, -0.14860159, 0.25768918, 0.8226711, -0.549264, 0.048064016, -0.0007802997, 1.0)",
         "4"
        ],
        [
         "(156922.0, -6.2465444, -2.5469503, -3.6215456, 5.084717, -0.61628175, 0.19851486, -1.471646, 2.297885, -1.5517284, 0.18147358, -2.770169, 1.0990508, 1.7532343, 1.5995423, -0.8715324, 1.7778219, 0.18691513, -0.23922484, -0.33888996, -0.7376777, 0.053690895, -1.1289108, -1.3272355, 0.1703289, -2.8887262, -0.8597034, -0.74144036, -0.75128776, 0.0)",
         "4"
        ],
        [
         "(68780.0, 0.41693693, -1.0407066, 1.6319275, 3.0333152, -1.5023183, 0.7631287, -0.6513597, 0.37429765, 0.50752443, 0.32009998, -0.7086592, -0.26739758, -1.0133495, -0.29514486, 0.31849328, 0.5464199, -0.06774726, -0.106120974, -1.6562586, 0.38479063, 0.39408875, 0.5872345, -0.2552326, 0.40776017, 0.06639208, 0.1446833, 0.015030032, 0.093580544, 320.05)",
         "4"
        ],
        [
         "(31805.0, -3.568808, 2.5625327, 0.5066067, 1.1092901, -2.110745, 0.37717584, -1.8720514, 2.1906023, 0.2250622, -0.5768844, -1.5969067, 0.5278413, -0.77173924, 0.8564288, 0.063955076, -0.37993154, 1.3521695, -0.27722123, 0.58106107, -0.7622794, 0.18795833, -0.07707937, 0.1349555, 0.04971473, 0.16201966, -0.44573724, -2.1684155, -0.7229173, 1.0)",
         "4"
        ],
        [
         "(35051.0, -1.8479879, 1.7702298, 0.4122812, 0.85348636, -0.6458138, -0.14482467, -0.1915172, 1.2208169, -0.81398994, -1.0906806, -1.0449573, 0.9640033, 0.54213566, 0.74828017, -0.46840158, -0.5237761, 0.7487319, -0.7595155, -0.18272017, -0.44057724, 0.15763405, 0.17433175, -0.111143254, 0.108832814, 0.1878866, -0.38299492, -0.490618, -0.1002226, 29.07)",
         "3"
        ],
        [
         "(33619.0, 1.1632534, -0.014138841, 1.272299, 1.4209467, -0.92689264, -0.12197184, -0.5191569, 0.09352329, 0.9772915, -0.26682168, -0.90509415, 0.7029229, 0.12855919, -0.50570333, -0.44252726, -0.21426821, -0.03978381, -0.3365554, 0.023340868, -0.1524784, -0.18090206, -0.21903875, 0.020564167, 0.39898852, 0.448507, -0.4567453, 0.07566574, 0.035279233, 1.0)",
         "3"
        ],
        [
         "(142790.0, 1.9624673, -0.6657344, -0.4605668, 0.3136665, -0.7392277, -0.05392269, -0.8740264, 0.23906341, 1.3234359, 0.23928204, 0.037728425, -0.21500413, -2.0310924, 0.36970335, -0.07815854, 0.62185574, -0.67945045, 0.79869974, 0.1121397, -0.30929565, 0.20328437, 0.6826247, 0.10111252, -0.45866883, -0.28787255, 0.63063586, -0.038277853, -0.06780984, 12.0)",
         "3"
        ],
        [
         "(64947.0, -6.3278704, 3.373477, 1.695209, -1.6060613, 0.02348702, 0.3353855, 3.1091857, -3.4495995, 7.929051, 11.498665, 3.0290112, -0.7954915, -1.1394299, -5.8107905, 0.40796497, -1.7117054, -2.3829033, -0.5321819, -0.097158864, 2.8888736, -1.6343731, 0.39971104, -0.35219002, 0.4823835, 0.16034205, -0.5308894, -4.748881, -3.7131078, 46.32)",
         "3"
        ],
        [
         "(94040.0, 2.0205986, 0.48764497, -1.7780966, 1.4775031, 0.75119466, -1.4786557, 0.9128689, -0.7134803, 0.93237096, -0.02506093, 0.35185683, -1.8431879, 2.4729066, 2.1001043, -0.71488214, -0.5613987, 0.27070278, -0.25515282, -0.60915047, -0.20702837, 0.053144783, 0.50613207, -0.08954719, 0.024845377, 0.56102854, -0.46333772, -0.06387091, -0.06546763, 36.0)",
         "3"
        ],
        [
         "(24646.0, 1.1008283, 0.115819156, 1.5390307, 1.6434047, -0.753781, 0.22784702, -0.62930816, 0.08598582, 2.1169012, -0.7051407, 0.6890607, -1.1923022, 2.4797132, 0.8199527, -1.0383174, -0.66781676, 1.0441282, -0.7149294, -0.66619205, -0.18754826, -0.27332833, -0.1664275, 0.09260738, 0.37421808, 0.33580974, -0.48846143, 0.07099488, 0.03044645, 1.0)",
         "3"
        ],
        [
         "(142790.0, 1.9586614, -0.6720233, -0.46277577, 0.31526673, -0.74117064, -0.053213753, -0.8714123, 0.2385521, 1.3232038, 0.23836449, 0.03775665, -0.214923, -2.0307412, 0.37014937, -0.077910714, 0.62211555, -0.67939204, 0.7991033, 0.11151051, -0.30528384, 0.20447806, 0.68158495, 0.099376164, -0.45856774, -0.28859589, 0.6304258, -0.03865008, -0.06746683, 13.97)",
         "3"
        ],
        [
         "(142507.0, -1.1530011, 2.016253, -0.06721611, 2.0331, 0.71174, 0.015300444, 0.7970117, 0.7904458, -1.8603352, -0.013879114, -1.967307, -0.108445905, -0.030728472, 0.6280076, -2.3684232, 1.3581401, -0.92547274, -0.7126161, -2.5859962, -0.6062293, -0.038172957, -0.5246923, 0.21441321, 0.6460878, -0.669779, -0.668519, -0.22476394, 0.08554532, 38.88)",
         "3"
        ],
        [
         "(41927.0, -3.5192096, 1.9251045, 0.3550236, -1.1483964, 0.8963219, -0.9964011, 1.830292, -1.2288269, 2.005139, 2.8495877, -0.7752385, -0.82180345, -0.917837, -1.1151623, -0.02627715, 0.20192885, -1.6158326, -0.37974533, -1.7241828, 0.03634796, -0.2919989, -0.08614609, -0.2714078, -0.17720345, 0.55094266, -0.8540006, -1.4449047, 0.38677052, 12.65)",
         "3"
        ],
        [
         "(65442.0, -4.977022, 3.1015465, 0.48185253, 2.4644153, -1.838883, 1.7653643, -1.3552707, 1.4970489, 0.753219, 3.2386887, 0.8310711, 0.37458527, -1.1289301, 0.101651765, 0.58355546, -0.32190377, 0.9635858, -0.1862559, 0.45921823, -0.048090886, 0.14527059, 0.16100588, 0.06840789, -0.3209052, 0.010764271, 0.13919555, -1.6320133, 0.7083816, 47.62)",
         "3"
        ],
        [
         "(142790.0, 1.9356141, -0.71010774, -0.476153, 0.32495755, -0.75293654, -0.04892054, -0.85558134, 0.2354556, 1.3217987, 0.23280793, 0.03792757, -0.21443161, -2.028614, 0.37285027, -0.07640993, 0.62368906, -0.67903835, 0.80154765, 0.10770018, -0.28098887, 0.21170682, 0.67528844, 0.08886106, -0.45795557, -0.2929763, 0.62915343, -0.040904216, -0.0653896, 25.9)",
         "3"
        ],
        [
         "(162766.0, 2.1366127, 0.3783337, -2.5713232, 1.1281165, 1.1808668, -1.0882915, 0.9953848, -0.4883176, -0.14478067, 0.41707873, -1.3363746, -0.47717968, -1.0560938, 1.0492052, -0.18373403, -0.7058603, -0.30186015, -0.22840911, -0.15477559, -0.32725325, 0.26576623, 0.898564, -0.2141553, 0.49900964, 0.91200495, -0.20919529, -0.064426854, -0.07703299, 1.0)",
         "3"
        ],
        [
         "(64947.0, -6.3784404, 3.2938304, 1.7305722, -1.5864927, 0.20331857, 0.21310341, 2.941403, -3.4156463, 7.93898, 11.519106, 3.0226386, -0.7787603, -1.1401373, -5.798989, 0.40593892, -1.7258964, -2.374682, -0.52898747, -0.100571185, 2.9542978, -1.6105763, 0.3852266, -0.36659515, 0.47981924, 0.15388541, -0.5361294, -4.7952204, -3.693525, 5.96)",
         "3"
        ],
        [
         "(2270.0, -2.1711931, 1.5212959, 0.6980432, 1.4809601, -1.0965109, 1.1189796, -1.1136681, 1.813105, 0.67759764, -0.4866194, -2.4706542, 0.32561636, -0.8752319, 0.1507908, -1.2524711, -1.0165297, 1.3992988, -0.5899799, 1.5401068, 0.038157824, -0.3750004, -0.810854, -0.0678134, -0.79421765, 0.1876818, -0.30253905, 0.29013667, 0.070180364, 21.97)",
         "3"
        ],
        [
         "(169157.0, 2.126109, 0.5733916, -3.7010937, 0.3216748, 1.6532593, -1.2702944, 0.9612083, -0.36456174, 0.06491279, -0.7905879, 0.9068723, -0.37330937, -1.680913, -1.0368092, -0.2829457, 0.03766553, 1.3429555, 1.4624068, 0.30042744, -0.25107035, 0.17025813, 0.6280762, -0.30119058, 0.021081112, 0.9221848, -0.21034065, -0.040924627, -0.041092224, 1.0)",
         "3"
        ],
        [
         "(63823.0, -1.9393386, 2.011159, 0.11584827, 1.2010416, -0.9510074, 0.21257809, -0.5807635, 1.5967346, -0.5312129, 0.03012509, 0.5131435, 0.8210849, -1.0274315, 1.2120094, -0.4571571, -0.64220566, 0.9186987, 0.01455283, 0.94600093, -0.021725645, 0.0597189, 0.22234225, -0.003458341, 0.009935211, 0.01584567, -0.22074154, 0.27996466, 0.10365953, 26.16)",
         "3"
        ],
        [
         "(24050.0, 0.78345996, -0.76653796, 1.3312545, 1.8124819, -0.92999136, 1.3181115, -0.9799647, 0.4727864, 2.6190512, -0.5854806, 1.053027, -1.765809, 0.32831016, 1.0342813, -2.276501, -0.4414644, 0.9225005, 0.46310407, -0.14024957, -0.0021695385, 0.02736481, 0.41078702, -0.2942273, -0.32526273, 0.518533, -0.14076424, 0.042980876, 0.031839434, 150.0)",
         "3"
        ],
        [
         "(68780.0, -0.24815406, -2.1397288, 1.2458943, 3.3129683, -1.8418534, 0.88702005, -0.19451997, 0.28494105, 0.46697417, 0.15975145, -0.70372677, -0.25321755, -0.95197076, -0.2172035, 0.36180225, 0.5918272, -0.057540655, -0.035584435, -1.7662151, 1.0858828, 0.60269254, 0.40553287, -0.558672, 0.4254255, -0.060015425, 0.107966125, -0.050018735, 0.15352406, 664.32)",
         "3"
        ],
        [
         "(68780.0, 0.49146917, -0.91754675, 1.6751876, 3.0019763, -1.4642689, 0.74924505, -0.7025546, 0.38431126, 0.51206857, 0.33806917, -0.7092119, -0.26898664, -1.0202278, -0.3038792, 0.3136399, 0.5413314, -0.06889105, -0.114025526, -1.6439365, 0.30622402, 0.37071195, 0.6075965, -0.22122821, 0.40578052, 0.080557704, 0.14879796, 0.022319606, 0.086863086, 281.47)",
         "3"
        ],
        [
         "(46387.0, -2.525765, 1.9341358, 0.8031839, 1.5719126, -1.621559, 0.98111135, -1.4861786, 2.1808076, -0.06937908, -0.66306365, 0.047970105, 2.1500392, 0.29406977, 0.43986234, -2.2105222, -1.0192108, 1.5403135, -0.49578112, 1.5408165, -0.18096732, -0.14898333, -0.4103737, 0.09562772, 0.024774177, 0.047706593, -0.40220153, -0.21392235, -0.042551294, 9.9)",
         "3"
        ],
        [
         "(84094.0, 1.245999, 0.46033227, 0.215359, 1.350636, -0.051034473, -0.8270729, 0.39568982, -0.3050115, -0.13272707, -0.03963981, -0.43483645, 0.9677326, 1.1074597, 0.0024410952, -0.1458861, -0.43315876, -0.18492256, -0.5890191, -0.13508365, -0.09270091, -0.022770822, 0.16230501, -0.1600308, 0.44235438, 0.8829124, -0.26476234, 0.017708156, 0.016041676, 1.0)",
         "3"
        ],
        [
         "(80553.0, -2.2152565, 1.6985462, 0.32101795, 0.04874417, -0.94884175, -0.065131925, -0.7002964, 1.6514885, -0.25613096, -0.37307316, 0.47954193, 0.7622503, -1.2798802, 1.0984255, -0.8140673, -0.1275616, 0.6450418, -0.25031006, 0.24814421, -0.04854593, -0.046755183, -0.24574132, 0.014476565, 0.015771842, 0.0029554572, 0.2674842, 0.15220952, 0.07604983, 3.64)",
         "3"
        ],
        [
         "(152242.0, 2.1080973, 0.27427098, -2.2333245, 0.48038325, 0.5680155, -2.0036077, 1.0742351, -0.70258987, 0.024752857, 0.063981764, -0.38338518, 0.46173266, -0.16576098, 0.89702123, -0.1231647, -1.2137419, 0.08403794, -0.7540754, -0.11626175, -0.29298893, 0.32242516, 1.1777362, -0.16736114, 0.43451998, 0.76989144, 0.10277183, -0.071621016, -0.08233086, 1.0)",
         "3"
        ],
        [
         "(71593.0, 0.9979589, -0.5988035, 0.5451581, -0.5926927, -0.09913002, 1.625044, -0.8962225, 0.70924157, 0.4026184, -0.23213658, 1.9961727, 0.684319, -0.7828932, 0.4720431, 1.9126228, -0.29006368, 0.46731922, -1.5938253, -1.1409159, -0.13701062, 0.032781087, 0.08389699, 0.19440162, -1.296244, -0.40356395, 1.3665446, -0.029488694, -0.013625831, 39.99)",
         "3"
        ]
       ],
       "shape": {
        "columns": 1,
        "rows": 396294
       }
      },
      "text/plain": [
       "Time           V1          V2          V3          V4         V5          V6         V7          V8          V9         V10         V11        V12         V13        V14         V15        V16         V17         V18        V19        V20        V21         V22        V23        V24        V25        V26        V27        V28        Amount    \n",
       "68207.000000   -13.192671   12.785971  -9.906650    3.320337  -4.801176    5.760058  -18.750889  -37.353443  -0.391540  -5.052502    4.406806  -4.610756   -1.909488  -9.072711   -0.226074  -6.211557   -6.248146   -3.149247   0.051576  -3.493050   27.202839  -8.887017   5.303607  -0.639435   0.263203  -0.108877   1.269566   0.939407  1.000000      616\n",
       "94362.000000   -26.457745   16.497473  -30.177317   8.904157  -17.892599  -1.227904  -31.197329  -11.438920  -9.462573  -22.187088   4.419997  -10.592305  -0.703796  -3.926207   -2.400246  -6.809890   -12.462315  -5.501051  -0.567940   2.812241  -8.755698    3.460893   0.896537   0.254836  -0.738097  -0.966564  -7.263482  -1.324884  1.000000      313\n",
       "93860.000000   -10.632375   7.251936   -17.681072   8.204144  -10.166591  -4.510344  -12.981606   6.783589   -4.659329  -14.924655   8.389142  -16.465504   0.338517  -14.224403   0.556584  -11.683998  -15.841616  -5.753200   3.813041  -0.810147   2.715357    0.695603  -1.138122   0.459442   0.386337   0.522438  -1.416604  -0.488307  188.520000    102\n",
       "93879.000000   -12.833632   7.508790   -20.491953   7.465780  -11.575304  -5.140999  -14.020564   8.332121   -4.337713  -15.563791   7.610820  -15.592323   0.504789  -13.247889  -0.796526  -10.342328  -16.044525  -5.882136   1.573698  -1.378923   2.966842    0.615344  -0.766495   0.431261  -0.104975  -0.010091  -2.400811  -0.720557  104.030000     57\n",
       "163152.000000  -1.203617    1.574009    2.889277    3.381404   1.538663    3.698747   0.560211   -0.150911    0.124136   4.220998    1.384569  -0.706897   -0.256274  -1.562583    1.692915  -0.787338   -0.226776   -0.412354   0.234322   1.385597  -0.366727    0.522223  -0.357329  -0.870174  -0.134166   0.327019  -0.042648  -0.855262  1.510000       13\n",
       "                                                                                                                                                                                                                                                                                                                                                            ... \n",
       "57667.917969   -0.872237    2.110460   -3.050175    3.071824  -1.869429   -0.486432  -1.880965    0.956716   -2.179094  -4.270638    2.776457  -4.228276   -0.170893  -6.061061   -0.094901  -2.432359   -5.758608   -1.558971  -0.330596   0.302872   0.519892   -0.184204   0.037167  -0.451223   0.345264  -0.190739   0.620418   0.268141  202.228862      1\n",
       "57667.000000   -1.134643    1.596273    1.002087    2.906849  -0.222899    0.181827  -0.023165    0.605556   -1.256227   0.588520   -1.441218  -0.342245    0.018757   0.450567    0.468574  -0.052597    0.302551    0.003439   1.278501  -0.102775  -0.091391   -0.320250   0.028014  -0.132639  -0.415857   0.013019  -0.481861  -0.268637  5.420000        1\n",
       "57666.000000    1.198816    0.134309    0.361938    0.648394  -0.630622   -0.923267  -0.179087    0.069604    0.129821  -0.041801    1.396632  -0.311914   -2.343699   0.408518    0.647252   0.730464   -0.042206    0.430209   0.031310  -0.234803  -0.251186   -0.880191   0.172131   0.428336   0.076286   0.072643  -0.042485   0.017307  0.990000        1\n",
       "               -0.676966    1.240919    1.597515   -0.009114  -0.250569   -1.080678   0.758702   -0.108467   -0.301595  -0.022833   -0.000954   0.322793    0.459618  -0.006007    0.787876   0.062707   -0.312436   -0.533248  -0.141803   0.242071  -0.233157   -0.514626   0.044507   0.701541  -0.164651   0.054815   0.379871   0.182513  8.990000        1\n",
       "172792.000000  -0.533413   -0.189733    0.703337   -0.506271  -0.012546   -0.649617   1.577006   -0.414650    0.486180  -0.915427   -1.040458  -0.031513   -0.188093  -0.084316    0.041333  -0.302620   -0.660377    0.167430  -0.256117   0.382948   0.261057    0.643078   0.376777   0.008797  -0.473649  -0.818267  -0.002415   0.013649  217.000000      1\n",
       "Name: count, Length: 396294, dtype: int64"
      ]
     },
     "metadata": {},
     "output_type": "display_data"
    }
   ],
   "source": [
    "class_count_5 = y_resampled_3.value_counts()\n",
    "class_count_6 = X_resampled_3.value_counts()\n",
    "display(class_count_5)\n",
    "display(class_count_6)"
   ]
  },
  {
   "cell_type": "code",
   "execution_count": 45,
   "id": "b1bf22cf",
   "metadata": {},
   "outputs": [
    {
     "data": {
      "text/html": [
       "<style>#sk-container-id-4 {\n",
       "  /* Definition of color scheme common for light and dark mode */\n",
       "  --sklearn-color-text: black;\n",
       "  --sklearn-color-line: gray;\n",
       "  /* Definition of color scheme for unfitted estimators */\n",
       "  --sklearn-color-unfitted-level-0: #fff5e6;\n",
       "  --sklearn-color-unfitted-level-1: #f6e4d2;\n",
       "  --sklearn-color-unfitted-level-2: #ffe0b3;\n",
       "  --sklearn-color-unfitted-level-3: chocolate;\n",
       "  /* Definition of color scheme for fitted estimators */\n",
       "  --sklearn-color-fitted-level-0: #f0f8ff;\n",
       "  --sklearn-color-fitted-level-1: #d4ebff;\n",
       "  --sklearn-color-fitted-level-2: #b3dbfd;\n",
       "  --sklearn-color-fitted-level-3: cornflowerblue;\n",
       "\n",
       "  /* Specific color for light theme */\n",
       "  --sklearn-color-text-on-default-background: var(--sg-text-color, var(--theme-code-foreground, var(--jp-content-font-color1, black)));\n",
       "  --sklearn-color-background: var(--sg-background-color, var(--theme-background, var(--jp-layout-color0, white)));\n",
       "  --sklearn-color-border-box: var(--sg-text-color, var(--theme-code-foreground, var(--jp-content-font-color1, black)));\n",
       "  --sklearn-color-icon: #696969;\n",
       "\n",
       "  @media (prefers-color-scheme: dark) {\n",
       "    /* Redefinition of color scheme for dark theme */\n",
       "    --sklearn-color-text-on-default-background: var(--sg-text-color, var(--theme-code-foreground, var(--jp-content-font-color1, white)));\n",
       "    --sklearn-color-background: var(--sg-background-color, var(--theme-background, var(--jp-layout-color0, #111)));\n",
       "    --sklearn-color-border-box: var(--sg-text-color, var(--theme-code-foreground, var(--jp-content-font-color1, white)));\n",
       "    --sklearn-color-icon: #878787;\n",
       "  }\n",
       "}\n",
       "\n",
       "#sk-container-id-4 {\n",
       "  color: var(--sklearn-color-text);\n",
       "}\n",
       "\n",
       "#sk-container-id-4 pre {\n",
       "  padding: 0;\n",
       "}\n",
       "\n",
       "#sk-container-id-4 input.sk-hidden--visually {\n",
       "  border: 0;\n",
       "  clip: rect(1px 1px 1px 1px);\n",
       "  clip: rect(1px, 1px, 1px, 1px);\n",
       "  height: 1px;\n",
       "  margin: -1px;\n",
       "  overflow: hidden;\n",
       "  padding: 0;\n",
       "  position: absolute;\n",
       "  width: 1px;\n",
       "}\n",
       "\n",
       "#sk-container-id-4 div.sk-dashed-wrapped {\n",
       "  border: 1px dashed var(--sklearn-color-line);\n",
       "  margin: 0 0.4em 0.5em 0.4em;\n",
       "  box-sizing: border-box;\n",
       "  padding-bottom: 0.4em;\n",
       "  background-color: var(--sklearn-color-background);\n",
       "}\n",
       "\n",
       "#sk-container-id-4 div.sk-container {\n",
       "  /* jupyter's `normalize.less` sets `[hidden] { display: none; }`\n",
       "     but bootstrap.min.css set `[hidden] { display: none !important; }`\n",
       "     so we also need the `!important` here to be able to override the\n",
       "     default hidden behavior on the sphinx rendered scikit-learn.org.\n",
       "     See: https://github.com/scikit-learn/scikit-learn/issues/21755 */\n",
       "  display: inline-block !important;\n",
       "  position: relative;\n",
       "}\n",
       "\n",
       "#sk-container-id-4 div.sk-text-repr-fallback {\n",
       "  display: none;\n",
       "}\n",
       "\n",
       "div.sk-parallel-item,\n",
       "div.sk-serial,\n",
       "div.sk-item {\n",
       "  /* draw centered vertical line to link estimators */\n",
       "  background-image: linear-gradient(var(--sklearn-color-text-on-default-background), var(--sklearn-color-text-on-default-background));\n",
       "  background-size: 2px 100%;\n",
       "  background-repeat: no-repeat;\n",
       "  background-position: center center;\n",
       "}\n",
       "\n",
       "/* Parallel-specific style estimator block */\n",
       "\n",
       "#sk-container-id-4 div.sk-parallel-item::after {\n",
       "  content: \"\";\n",
       "  width: 100%;\n",
       "  border-bottom: 2px solid var(--sklearn-color-text-on-default-background);\n",
       "  flex-grow: 1;\n",
       "}\n",
       "\n",
       "#sk-container-id-4 div.sk-parallel {\n",
       "  display: flex;\n",
       "  align-items: stretch;\n",
       "  justify-content: center;\n",
       "  background-color: var(--sklearn-color-background);\n",
       "  position: relative;\n",
       "}\n",
       "\n",
       "#sk-container-id-4 div.sk-parallel-item {\n",
       "  display: flex;\n",
       "  flex-direction: column;\n",
       "}\n",
       "\n",
       "#sk-container-id-4 div.sk-parallel-item:first-child::after {\n",
       "  align-self: flex-end;\n",
       "  width: 50%;\n",
       "}\n",
       "\n",
       "#sk-container-id-4 div.sk-parallel-item:last-child::after {\n",
       "  align-self: flex-start;\n",
       "  width: 50%;\n",
       "}\n",
       "\n",
       "#sk-container-id-4 div.sk-parallel-item:only-child::after {\n",
       "  width: 0;\n",
       "}\n",
       "\n",
       "/* Serial-specific style estimator block */\n",
       "\n",
       "#sk-container-id-4 div.sk-serial {\n",
       "  display: flex;\n",
       "  flex-direction: column;\n",
       "  align-items: center;\n",
       "  background-color: var(--sklearn-color-background);\n",
       "  padding-right: 1em;\n",
       "  padding-left: 1em;\n",
       "}\n",
       "\n",
       "\n",
       "/* Toggleable style: style used for estimator/Pipeline/ColumnTransformer box that is\n",
       "clickable and can be expanded/collapsed.\n",
       "- Pipeline and ColumnTransformer use this feature and define the default style\n",
       "- Estimators will overwrite some part of the style using the `sk-estimator` class\n",
       "*/\n",
       "\n",
       "/* Pipeline and ColumnTransformer style (default) */\n",
       "\n",
       "#sk-container-id-4 div.sk-toggleable {\n",
       "  /* Default theme specific background. It is overwritten whether we have a\n",
       "  specific estimator or a Pipeline/ColumnTransformer */\n",
       "  background-color: var(--sklearn-color-background);\n",
       "}\n",
       "\n",
       "/* Toggleable label */\n",
       "#sk-container-id-4 label.sk-toggleable__label {\n",
       "  cursor: pointer;\n",
       "  display: block;\n",
       "  width: 100%;\n",
       "  margin-bottom: 0;\n",
       "  padding: 0.5em;\n",
       "  box-sizing: border-box;\n",
       "  text-align: center;\n",
       "}\n",
       "\n",
       "#sk-container-id-4 label.sk-toggleable__label-arrow:before {\n",
       "  /* Arrow on the left of the label */\n",
       "  content: \"▸\";\n",
       "  float: left;\n",
       "  margin-right: 0.25em;\n",
       "  color: var(--sklearn-color-icon);\n",
       "}\n",
       "\n",
       "#sk-container-id-4 label.sk-toggleable__label-arrow:hover:before {\n",
       "  color: var(--sklearn-color-text);\n",
       "}\n",
       "\n",
       "/* Toggleable content - dropdown */\n",
       "\n",
       "#sk-container-id-4 div.sk-toggleable__content {\n",
       "  max-height: 0;\n",
       "  max-width: 0;\n",
       "  overflow: hidden;\n",
       "  text-align: left;\n",
       "  /* unfitted */\n",
       "  background-color: var(--sklearn-color-unfitted-level-0);\n",
       "}\n",
       "\n",
       "#sk-container-id-4 div.sk-toggleable__content.fitted {\n",
       "  /* fitted */\n",
       "  background-color: var(--sklearn-color-fitted-level-0);\n",
       "}\n",
       "\n",
       "#sk-container-id-4 div.sk-toggleable__content pre {\n",
       "  margin: 0.2em;\n",
       "  border-radius: 0.25em;\n",
       "  color: var(--sklearn-color-text);\n",
       "  /* unfitted */\n",
       "  background-color: var(--sklearn-color-unfitted-level-0);\n",
       "}\n",
       "\n",
       "#sk-container-id-4 div.sk-toggleable__content.fitted pre {\n",
       "  /* unfitted */\n",
       "  background-color: var(--sklearn-color-fitted-level-0);\n",
       "}\n",
       "\n",
       "#sk-container-id-4 input.sk-toggleable__control:checked~div.sk-toggleable__content {\n",
       "  /* Expand drop-down */\n",
       "  max-height: 200px;\n",
       "  max-width: 100%;\n",
       "  overflow: auto;\n",
       "}\n",
       "\n",
       "#sk-container-id-4 input.sk-toggleable__control:checked~label.sk-toggleable__label-arrow:before {\n",
       "  content: \"▾\";\n",
       "}\n",
       "\n",
       "/* Pipeline/ColumnTransformer-specific style */\n",
       "\n",
       "#sk-container-id-4 div.sk-label input.sk-toggleable__control:checked~label.sk-toggleable__label {\n",
       "  color: var(--sklearn-color-text);\n",
       "  background-color: var(--sklearn-color-unfitted-level-2);\n",
       "}\n",
       "\n",
       "#sk-container-id-4 div.sk-label.fitted input.sk-toggleable__control:checked~label.sk-toggleable__label {\n",
       "  background-color: var(--sklearn-color-fitted-level-2);\n",
       "}\n",
       "\n",
       "/* Estimator-specific style */\n",
       "\n",
       "/* Colorize estimator box */\n",
       "#sk-container-id-4 div.sk-estimator input.sk-toggleable__control:checked~label.sk-toggleable__label {\n",
       "  /* unfitted */\n",
       "  background-color: var(--sklearn-color-unfitted-level-2);\n",
       "}\n",
       "\n",
       "#sk-container-id-4 div.sk-estimator.fitted input.sk-toggleable__control:checked~label.sk-toggleable__label {\n",
       "  /* fitted */\n",
       "  background-color: var(--sklearn-color-fitted-level-2);\n",
       "}\n",
       "\n",
       "#sk-container-id-4 div.sk-label label.sk-toggleable__label,\n",
       "#sk-container-id-4 div.sk-label label {\n",
       "  /* The background is the default theme color */\n",
       "  color: var(--sklearn-color-text-on-default-background);\n",
       "}\n",
       "\n",
       "/* On hover, darken the color of the background */\n",
       "#sk-container-id-4 div.sk-label:hover label.sk-toggleable__label {\n",
       "  color: var(--sklearn-color-text);\n",
       "  background-color: var(--sklearn-color-unfitted-level-2);\n",
       "}\n",
       "\n",
       "/* Label box, darken color on hover, fitted */\n",
       "#sk-container-id-4 div.sk-label.fitted:hover label.sk-toggleable__label.fitted {\n",
       "  color: var(--sklearn-color-text);\n",
       "  background-color: var(--sklearn-color-fitted-level-2);\n",
       "}\n",
       "\n",
       "/* Estimator label */\n",
       "\n",
       "#sk-container-id-4 div.sk-label label {\n",
       "  font-family: monospace;\n",
       "  font-weight: bold;\n",
       "  display: inline-block;\n",
       "  line-height: 1.2em;\n",
       "}\n",
       "\n",
       "#sk-container-id-4 div.sk-label-container {\n",
       "  text-align: center;\n",
       "}\n",
       "\n",
       "/* Estimator-specific */\n",
       "#sk-container-id-4 div.sk-estimator {\n",
       "  font-family: monospace;\n",
       "  border: 1px dotted var(--sklearn-color-border-box);\n",
       "  border-radius: 0.25em;\n",
       "  box-sizing: border-box;\n",
       "  margin-bottom: 0.5em;\n",
       "  /* unfitted */\n",
       "  background-color: var(--sklearn-color-unfitted-level-0);\n",
       "}\n",
       "\n",
       "#sk-container-id-4 div.sk-estimator.fitted {\n",
       "  /* fitted */\n",
       "  background-color: var(--sklearn-color-fitted-level-0);\n",
       "}\n",
       "\n",
       "/* on hover */\n",
       "#sk-container-id-4 div.sk-estimator:hover {\n",
       "  /* unfitted */\n",
       "  background-color: var(--sklearn-color-unfitted-level-2);\n",
       "}\n",
       "\n",
       "#sk-container-id-4 div.sk-estimator.fitted:hover {\n",
       "  /* fitted */\n",
       "  background-color: var(--sklearn-color-fitted-level-2);\n",
       "}\n",
       "\n",
       "/* Specification for estimator info (e.g. \"i\" and \"?\") */\n",
       "\n",
       "/* Common style for \"i\" and \"?\" */\n",
       "\n",
       ".sk-estimator-doc-link,\n",
       "a:link.sk-estimator-doc-link,\n",
       "a:visited.sk-estimator-doc-link {\n",
       "  float: right;\n",
       "  font-size: smaller;\n",
       "  line-height: 1em;\n",
       "  font-family: monospace;\n",
       "  background-color: var(--sklearn-color-background);\n",
       "  border-radius: 1em;\n",
       "  height: 1em;\n",
       "  width: 1em;\n",
       "  text-decoration: none !important;\n",
       "  margin-left: 1ex;\n",
       "  /* unfitted */\n",
       "  border: var(--sklearn-color-unfitted-level-1) 1pt solid;\n",
       "  color: var(--sklearn-color-unfitted-level-1);\n",
       "}\n",
       "\n",
       ".sk-estimator-doc-link.fitted,\n",
       "a:link.sk-estimator-doc-link.fitted,\n",
       "a:visited.sk-estimator-doc-link.fitted {\n",
       "  /* fitted */\n",
       "  border: var(--sklearn-color-fitted-level-1) 1pt solid;\n",
       "  color: var(--sklearn-color-fitted-level-1);\n",
       "}\n",
       "\n",
       "/* On hover */\n",
       "div.sk-estimator:hover .sk-estimator-doc-link:hover,\n",
       ".sk-estimator-doc-link:hover,\n",
       "div.sk-label-container:hover .sk-estimator-doc-link:hover,\n",
       ".sk-estimator-doc-link:hover {\n",
       "  /* unfitted */\n",
       "  background-color: var(--sklearn-color-unfitted-level-3);\n",
       "  color: var(--sklearn-color-background);\n",
       "  text-decoration: none;\n",
       "}\n",
       "\n",
       "div.sk-estimator.fitted:hover .sk-estimator-doc-link.fitted:hover,\n",
       ".sk-estimator-doc-link.fitted:hover,\n",
       "div.sk-label-container:hover .sk-estimator-doc-link.fitted:hover,\n",
       ".sk-estimator-doc-link.fitted:hover {\n",
       "  /* fitted */\n",
       "  background-color: var(--sklearn-color-fitted-level-3);\n",
       "  color: var(--sklearn-color-background);\n",
       "  text-decoration: none;\n",
       "}\n",
       "\n",
       "/* Span, style for the box shown on hovering the info icon */\n",
       ".sk-estimator-doc-link span {\n",
       "  display: none;\n",
       "  z-index: 9999;\n",
       "  position: relative;\n",
       "  font-weight: normal;\n",
       "  right: .2ex;\n",
       "  padding: .5ex;\n",
       "  margin: .5ex;\n",
       "  width: min-content;\n",
       "  min-width: 20ex;\n",
       "  max-width: 50ex;\n",
       "  color: var(--sklearn-color-text);\n",
       "  box-shadow: 2pt 2pt 4pt #999;\n",
       "  /* unfitted */\n",
       "  background: var(--sklearn-color-unfitted-level-0);\n",
       "  border: .5pt solid var(--sklearn-color-unfitted-level-3);\n",
       "}\n",
       "\n",
       ".sk-estimator-doc-link.fitted span {\n",
       "  /* fitted */\n",
       "  background: var(--sklearn-color-fitted-level-0);\n",
       "  border: var(--sklearn-color-fitted-level-3);\n",
       "}\n",
       "\n",
       ".sk-estimator-doc-link:hover span {\n",
       "  display: block;\n",
       "}\n",
       "\n",
       "/* \"?\"-specific style due to the `<a>` HTML tag */\n",
       "\n",
       "#sk-container-id-4 a.estimator_doc_link {\n",
       "  float: right;\n",
       "  font-size: 1rem;\n",
       "  line-height: 1em;\n",
       "  font-family: monospace;\n",
       "  background-color: var(--sklearn-color-background);\n",
       "  border-radius: 1rem;\n",
       "  height: 1rem;\n",
       "  width: 1rem;\n",
       "  text-decoration: none;\n",
       "  /* unfitted */\n",
       "  color: var(--sklearn-color-unfitted-level-1);\n",
       "  border: var(--sklearn-color-unfitted-level-1) 1pt solid;\n",
       "}\n",
       "\n",
       "#sk-container-id-4 a.estimator_doc_link.fitted {\n",
       "  /* fitted */\n",
       "  border: var(--sklearn-color-fitted-level-1) 1pt solid;\n",
       "  color: var(--sklearn-color-fitted-level-1);\n",
       "}\n",
       "\n",
       "/* On hover */\n",
       "#sk-container-id-4 a.estimator_doc_link:hover {\n",
       "  /* unfitted */\n",
       "  background-color: var(--sklearn-color-unfitted-level-3);\n",
       "  color: var(--sklearn-color-background);\n",
       "  text-decoration: none;\n",
       "}\n",
       "\n",
       "#sk-container-id-4 a.estimator_doc_link.fitted:hover {\n",
       "  /* fitted */\n",
       "  background-color: var(--sklearn-color-fitted-level-3);\n",
       "}\n",
       "</style><div id=\"sk-container-id-4\" class=\"sk-top-container\"><div class=\"sk-text-repr-fallback\"><pre>RandomForestClassifier(max_samples=0.7, n_estimators=80, n_jobs=1,\n",
       "                       random_state=42)</pre><b>In a Jupyter environment, please rerun this cell to show the HTML representation or trust the notebook. <br />On GitHub, the HTML representation is unable to render, please try loading this page with nbviewer.org.</b></div><div class=\"sk-container\" hidden><div class=\"sk-item\"><div class=\"sk-estimator fitted sk-toggleable\"><input class=\"sk-toggleable__control sk-hidden--visually\" id=\"sk-estimator-id-4\" type=\"checkbox\" checked><label for=\"sk-estimator-id-4\" class=\"sk-toggleable__label fitted sk-toggleable__label-arrow fitted\">&nbsp;&nbsp;RandomForestClassifier<a class=\"sk-estimator-doc-link fitted\" rel=\"noreferrer\" target=\"_blank\" href=\"https://scikit-learn.org/1.5/modules/generated/sklearn.ensemble.RandomForestClassifier.html\">?<span>Documentation for RandomForestClassifier</span></a><span class=\"sk-estimator-doc-link fitted\">i<span>Fitted</span></span></label><div class=\"sk-toggleable__content fitted\"><pre>RandomForestClassifier(max_samples=0.7, n_estimators=80, n_jobs=1,\n",
       "                       random_state=42)</pre></div> </div></div></div></div>"
      ],
      "text/plain": [
       "RandomForestClassifier(max_samples=0.7, n_estimators=80, n_jobs=1,\n",
       "                       random_state=42)"
      ]
     },
     "execution_count": 45,
     "metadata": {},
     "output_type": "execute_result"
    }
   ],
   "source": [
    "model.fit(X_resampled_3, y_resampled_3)"
   ]
  },
  {
   "cell_type": "code",
   "execution_count": 46,
   "id": "c02e609d",
   "metadata": {},
   "outputs": [
    {
     "data": {
      "text/plain": [
       "array([0, 0, 0, ..., 0, 0, 0], dtype=int8)"
      ]
     },
     "metadata": {},
     "output_type": "display_data"
    }
   ],
   "source": [
    "y_pred_adasyn = model.predict(X_test)\n",
    "display(y_pred_adasyn)"
   ]
  },
  {
   "cell_type": "code",
   "execution_count": 47,
   "id": "ce0e2185",
   "metadata": {},
   "outputs": [
    {
     "name": "stdout",
     "output_type": "stream",
     "text": [
      "Classification Report - ADASYN:\n",
      "               precision    recall  f1-score   support\n",
      "\n",
      "           0       1.00      1.00      1.00     85295\n",
      "           1       0.84      0.80      0.82       148\n",
      "\n",
      "    accuracy                           1.00     85443\n",
      "   macro avg       0.92      0.90      0.91     85443\n",
      "weighted avg       1.00      1.00      1.00     85443\n",
      "\n",
      "Confusion Matrix - ADASYN:\n",
      " [[85273    22]\n",
      " [   30   118]]\n",
      "Accuracy Score - ADASYN: 0.9993914071369217\n",
      "Model Score - ADASYN: 0.9999798965173229\n"
     ]
    }
   ],
   "source": [
    "print(\"Classification Report - ADASYN:\\n\", classification_report(y_test, y_pred_adasyn))\n",
    "print(\"Confusion Matrix - ADASYN:\\n\", confusion_matrix(y_test, y_pred_adasyn))\n",
    "print(\"Accuracy Score - ADASYN:\", accuracy_score(y_test, y_pred_adasyn))\n",
    "print(\"Model Score - ADASYN:\", model.score(X_resampled_3, y_resampled_3))"
   ]
  },
  {
   "cell_type": "code",
   "execution_count": null,
   "id": "7c47c285",
   "metadata": {},
   "outputs": [],
   "source": []
  }
 ],
 "metadata": {
  "kernelspec": {
   "display_name": "base",
   "language": "python",
   "name": "python3"
  },
  "language_info": {
   "codemirror_mode": {
    "name": "ipython",
    "version": 3
   },
   "file_extension": ".py",
   "mimetype": "text/x-python",
   "name": "python",
   "nbconvert_exporter": "python",
   "pygments_lexer": "ipython3",
   "version": "3.12.3"
  }
 },
 "nbformat": 4,
 "nbformat_minor": 5
}
