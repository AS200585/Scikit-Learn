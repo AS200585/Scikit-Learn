{
 "cells": [
  {
   "cell_type": "markdown",
   "id": "77aece93",
   "metadata": {},
   "source": [
    "# **Column Transformer**\n",
    "\n",
    "Column Transformer is a library that allows you to transform and manipulate data in a columnar format. \n",
    "\n",
    "It is designed to work with large datasets and provides a flexible way to perform various operations on columns of data.\n",
    "\n",
    "It is designed to work with large datasets and can be used for a variety of tasks such as data cleaning, feature engineering, and data transformation.\n",
    "\n",
    "Column Transformer is particularly useful when working with datasets that have a large number of columns, as it allows you to perform operations on specific columns without having to load the entire dataset into memory.\n"
   ]
  },
  {
   "cell_type": "code",
   "execution_count": 1,
   "id": "87c3986b",
   "metadata": {},
   "outputs": [],
   "source": [
    "import pandas as pd"
   ]
  },
  {
   "cell_type": "code",
   "execution_count": 3,
   "id": "e961e8f1",
   "metadata": {},
   "outputs": [],
   "source": [
    "d = {'sales': [100000,222000,1000000,522000,111111,222222,1111111,20000,75000,90000,1000000,10000], 'city': ['Tampa','Tampa','Orlando','Jacksonville','Miami','Jacksonville','Miami','Miami','Orlando','Orlando','Orlando','Orlando'], 'size': ['Small', 'Medium','Large','Large','Small','Medium','Large','Small','Medium','Medium','Medium','Small',]}"
   ]
  },
  {
   "cell_type": "code",
   "execution_count": 4,
   "id": "b45a5cbe",
   "metadata": {},
   "outputs": [],
   "source": [
    "df = pd.DataFrame(data=d)"
   ]
  },
  {
   "cell_type": "code",
   "execution_count": 5,
   "id": "f356aee9",
   "metadata": {},
   "outputs": [
    {
     "data": {
      "application/vnd.microsoft.datawrangler.viewer.v0+json": {
       "columns": [
        {
         "name": "index",
         "rawType": "int64",
         "type": "integer"
        },
        {
         "name": "sales",
         "rawType": "int64",
         "type": "integer"
        },
        {
         "name": "city",
         "rawType": "object",
         "type": "string"
        },
        {
         "name": "size",
         "rawType": "object",
         "type": "string"
        }
       ],
       "ref": "d3f15729-24a9-4eaf-9ffb-3bcc6d9f7c83",
       "rows": [
        [
         "0",
         "100000",
         "Tampa",
         "Small"
        ],
        [
         "1",
         "222000",
         "Tampa",
         "Medium"
        ],
        [
         "2",
         "1000000",
         "Orlando",
         "Large"
        ],
        [
         "3",
         "522000",
         "Jacksonville",
         "Large"
        ],
        [
         "4",
         "111111",
         "Miami",
         "Small"
        ],
        [
         "5",
         "222222",
         "Jacksonville",
         "Medium"
        ],
        [
         "6",
         "1111111",
         "Miami",
         "Large"
        ],
        [
         "7",
         "20000",
         "Miami",
         "Small"
        ],
        [
         "8",
         "75000",
         "Orlando",
         "Medium"
        ],
        [
         "9",
         "90000",
         "Orlando",
         "Medium"
        ],
        [
         "10",
         "1000000",
         "Orlando",
         "Medium"
        ],
        [
         "11",
         "10000",
         "Orlando",
         "Small"
        ]
       ],
       "shape": {
        "columns": 3,
        "rows": 12
       }
      },
      "text/html": [
       "<div>\n",
       "<style scoped>\n",
       "    .dataframe tbody tr th:only-of-type {\n",
       "        vertical-align: middle;\n",
       "    }\n",
       "\n",
       "    .dataframe tbody tr th {\n",
       "        vertical-align: top;\n",
       "    }\n",
       "\n",
       "    .dataframe thead th {\n",
       "        text-align: right;\n",
       "    }\n",
       "</style>\n",
       "<table border=\"1\" class=\"dataframe\">\n",
       "  <thead>\n",
       "    <tr style=\"text-align: right;\">\n",
       "      <th></th>\n",
       "      <th>sales</th>\n",
       "      <th>city</th>\n",
       "      <th>size</th>\n",
       "    </tr>\n",
       "  </thead>\n",
       "  <tbody>\n",
       "    <tr>\n",
       "      <th>0</th>\n",
       "      <td>100000</td>\n",
       "      <td>Tampa</td>\n",
       "      <td>Small</td>\n",
       "    </tr>\n",
       "    <tr>\n",
       "      <th>1</th>\n",
       "      <td>222000</td>\n",
       "      <td>Tampa</td>\n",
       "      <td>Medium</td>\n",
       "    </tr>\n",
       "    <tr>\n",
       "      <th>2</th>\n",
       "      <td>1000000</td>\n",
       "      <td>Orlando</td>\n",
       "      <td>Large</td>\n",
       "    </tr>\n",
       "    <tr>\n",
       "      <th>3</th>\n",
       "      <td>522000</td>\n",
       "      <td>Jacksonville</td>\n",
       "      <td>Large</td>\n",
       "    </tr>\n",
       "    <tr>\n",
       "      <th>4</th>\n",
       "      <td>111111</td>\n",
       "      <td>Miami</td>\n",
       "      <td>Small</td>\n",
       "    </tr>\n",
       "    <tr>\n",
       "      <th>5</th>\n",
       "      <td>222222</td>\n",
       "      <td>Jacksonville</td>\n",
       "      <td>Medium</td>\n",
       "    </tr>\n",
       "    <tr>\n",
       "      <th>6</th>\n",
       "      <td>1111111</td>\n",
       "      <td>Miami</td>\n",
       "      <td>Large</td>\n",
       "    </tr>\n",
       "    <tr>\n",
       "      <th>7</th>\n",
       "      <td>20000</td>\n",
       "      <td>Miami</td>\n",
       "      <td>Small</td>\n",
       "    </tr>\n",
       "    <tr>\n",
       "      <th>8</th>\n",
       "      <td>75000</td>\n",
       "      <td>Orlando</td>\n",
       "      <td>Medium</td>\n",
       "    </tr>\n",
       "    <tr>\n",
       "      <th>9</th>\n",
       "      <td>90000</td>\n",
       "      <td>Orlando</td>\n",
       "      <td>Medium</td>\n",
       "    </tr>\n",
       "    <tr>\n",
       "      <th>10</th>\n",
       "      <td>1000000</td>\n",
       "      <td>Orlando</td>\n",
       "      <td>Medium</td>\n",
       "    </tr>\n",
       "    <tr>\n",
       "      <th>11</th>\n",
       "      <td>10000</td>\n",
       "      <td>Orlando</td>\n",
       "      <td>Small</td>\n",
       "    </tr>\n",
       "  </tbody>\n",
       "</table>\n",
       "</div>"
      ],
      "text/plain": [
       "      sales          city    size\n",
       "0    100000         Tampa   Small\n",
       "1    222000         Tampa  Medium\n",
       "2   1000000       Orlando   Large\n",
       "3    522000  Jacksonville   Large\n",
       "4    111111         Miami   Small\n",
       "5    222222  Jacksonville  Medium\n",
       "6   1111111         Miami   Large\n",
       "7     20000         Miami   Small\n",
       "8     75000       Orlando  Medium\n",
       "9     90000       Orlando  Medium\n",
       "10  1000000       Orlando  Medium\n",
       "11    10000       Orlando   Small"
      ]
     },
     "execution_count": 5,
     "metadata": {},
     "output_type": "execute_result"
    }
   ],
   "source": [
    "df"
   ]
  },
  {
   "cell_type": "code",
   "execution_count": 6,
   "id": "8255016c",
   "metadata": {},
   "outputs": [],
   "source": [
    "from sklearn.preprocessing import OneHotEncoder, OrdinalEncoder"
   ]
  },
  {
   "cell_type": "code",
   "execution_count": 7,
   "id": "3377c625",
   "metadata": {},
   "outputs": [],
   "source": [
    "ohe = OneHotEncoder(sparse_output=False)"
   ]
  },
  {
   "cell_type": "code",
   "execution_count": 8,
   "id": "4f482580",
   "metadata": {},
   "outputs": [],
   "source": [
    "ode = OrdinalEncoder()"
   ]
  },
  {
   "cell_type": "code",
   "execution_count": 9,
   "id": "81c094ff",
   "metadata": {},
   "outputs": [],
   "source": [
    "from sklearn.compose import ColumnTransformer"
   ]
  },
  {
   "cell_type": "code",
   "execution_count": null,
   "id": "c8df7b4d",
   "metadata": {},
   "outputs": [],
   "source": [
    "# Create a ColumnTransformer to apply different transformations to different columns\n",
    "# The 'city' column will be one-hot encoded\n",
    "# the 'size' column will be ordinal encoded\n",
    "# the remainder='passthrough' means that all other columns will be left unchanged\n",
    "column_transformer = ColumnTransformer(\n",
    "    (ohe, ['city']),\n",
    "    (ode, ['size']),\n",
    "    remainder='passthrough'\n",
    ")\n"
   ]
  }
 ],
 "metadata": {
  "kernelspec": {
   "display_name": "base",
   "language": "python",
   "name": "python3"
  },
  "language_info": {
   "codemirror_mode": {
    "name": "ipython",
    "version": 3
   },
   "file_extension": ".py",
   "mimetype": "text/x-python",
   "name": "python",
   "nbconvert_exporter": "python",
   "pygments_lexer": "ipython3",
   "version": "3.12.3"
  }
 },
 "nbformat": 4,
 "nbformat_minor": 5
}
